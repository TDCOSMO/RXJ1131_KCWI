{
 "cells": [
  {
   "cell_type": "code",
   "execution_count": 1,
   "id": "0ce53815",
   "metadata": {},
   "outputs": [],
   "source": [
    "import numpy as np\n",
    "import matplotlib.pyplot as plt\n",
    "from mpl_toolkits.axes_grid1 import make_axes_locatable\n",
    "from astropy.cosmology import FlatLambdaCDM\n",
    "import copy\n",
    "import corner\n",
    "import matplotlib.colors as colors\n",
    "from getdist import plots\n",
    "from getdist import MCSamples\n",
    "import seaborn as sns\n",
    "import palettable\n",
    "\n",
    "import paperfig as pf\n",
    "from kinematics_likelihood import KinematicLikelihood\n",
    "from data_util import *\n",
    "\n",
    "pf.set_fontscale(2.)\n",
    "\n",
    "from plot_util import *"
   ]
  },
  {
   "cell_type": "code",
   "execution_count": 2,
   "id": "eedaada4",
   "metadata": {},
   "outputs": [],
   "source": [
    "is_blind = True\n",
    "savefig = True\n",
    "d_index = 4"
   ]
  },
  {
   "cell_type": "code",
   "execution_count": 3,
   "id": "b821769f",
   "metadata": {},
   "outputs": [
    {
     "name": "stdout",
     "output_type": "stream",
     "text": [
      "Residuals > 10%: Change `inner_slope` or `outer_slope` or increase `ngauss`\n",
      "Residuals > 10%: Change `inner_slope` or `outer_slope` or increase `ngauss`\n"
     ]
    }
   ],
   "source": [
    "bic_pl = get_bic('jampy', 'ifu', 'constant', 'axisymmetric', 'powerlaw', 15, 'oblate', burnin=-2)\n",
    "bic_comp = get_bic('jampy', 'ifu', 'constant', 'axisymmetric', 'composite', 15, 'oblate', burnin=-2)"
   ]
  },
  {
   "cell_type": "code",
   "execution_count": 4,
   "id": "2b1e6ecc",
   "metadata": {},
   "outputs": [],
   "source": [
    "comp_weight = np.exp((bic_pl - bic_comp) / 2.)\n",
    "\n",
    "comp_weight = 0"
   ]
  },
  {
   "cell_type": "code",
   "execution_count": 5,
   "id": "dc50e4f1",
   "metadata": {},
   "outputs": [
    {
     "name": "stdout",
     "output_type": "stream",
     "text": [
      "(4800, 8) (4800, 8) (4799, 8) 0.82\n",
      "Removed no burn in\n",
      "(5400, 9) (5400, 9) (5400, 9) 0.82\n",
      "Removed no burn in\n",
      "(4799,)\n"
     ]
    }
   ],
   "source": [
    "mc_samples_pl, _, _, _ = get_getdist_samples('jampy', 'ifu', 'constant',\n",
    "                    'axisymmetric', lens_model_type='powerlaw', snr=15,\n",
    "                    oblate_fraction=0.82, blind_D=None)\n",
    "\n",
    "mc_samples_comp, _, _, _ = get_getdist_samples('jampy', 'ifu', 'constant',\n",
    "                    'axisymmetric', lens_model_type='composite', snr=15,\n",
    "                    oblate_fraction=0.82, blind_D=None)\n",
    "\n",
    "length = int(comp_weight * mc_samples_pl.samples.shape[0])\n",
    "\n",
    "\n",
    "D_d_array = np.concatenate((mc_samples_pl.samples[:, d_index], mc_samples_comp.samples[:length, d_index+1]), axis=0)\n",
    "\n",
    "print(D_d_array.shape)"
   ]
  },
  {
   "cell_type": "code",
   "execution_count": 6,
   "id": "d24b86a8",
   "metadata": {
    "scrolled": false
   },
   "outputs": [],
   "source": [
    "from scipy.stats import gaussian_kde\n",
    "\n",
    "\n",
    "# if is_blind:\n",
    "#     chain[:, d_index] = chain[:, d_index] #+ np.random.normal(0, 100)\n",
    "\n",
    "D_d_kde = gaussian_kde(D_d_array)"
   ]
  },
  {
   "cell_type": "code",
   "execution_count": 7,
   "id": "1285e5c7",
   "metadata": {},
   "outputs": [],
   "source": [
    "def log_prior_uniform(params):\n",
    "    \"\"\"\n",
    "    \"\"\"\n",
    "    h0, om_m = params\n",
    "    \n",
    "    if not 10 < h0 < 130:\n",
    "        return -np.inf\n",
    "    \n",
    "    if not 0.05 < om_m < 0.5:\n",
    "        return -np.inf\n",
    "    \n",
    "    return 0.\n",
    "\n",
    "\n",
    "def log_prior_normal(params):\n",
    "    \"\"\"\n",
    "    \"\"\"\n",
    "    h0, om_m = params\n",
    "    if not 10 < h0 < 130:\n",
    "        return -np.inf\n",
    "    \n",
    "    return -0.5 * (om_m - 0.334)**2 / 0.018**2"
   ]
  },
  {
   "cell_type": "code",
   "execution_count": 8,
   "id": "33a5563c",
   "metadata": {},
   "outputs": [],
   "source": [
    "from astropy.cosmology import FlatLambdaCDM\n",
    "\n",
    "def log_likelihood(params):\n",
    "    \"\"\"\n",
    "    \"\"\"\n",
    "    h0, om_m = params\n",
    "    cosmo = FlatLambdaCDM(H0=h0, Om0=om_m)\n",
    "    \n",
    "    D_d = cosmo.angular_diameter_distance(0.295).value\n",
    "    \n",
    "    return np.log(D_d_kde(D_d))\n",
    "\n",
    "\n",
    "def log_probability_uniform_prior(params):\n",
    "    \"\"\"\n",
    "    \"\"\"\n",
    "    prior = log_prior_uniform(params)\n",
    "    \n",
    "    if np.isinf(prior):\n",
    "        return prior\n",
    "    else:\n",
    "        return log_likelihood(params) + prior\n",
    "    \n",
    "    \n",
    "def log_probability_normal_prior(params):\n",
    "    \"\"\"\n",
    "    \"\"\"\n",
    "    prior = log_prior_normal(params)\n",
    "    \n",
    "    if np.isinf(prior):\n",
    "        return prior\n",
    "    else:\n",
    "        return log_likelihood(params) + prior\n",
    "    "
   ]
  },
  {
   "cell_type": "markdown",
   "id": "9365f56d",
   "metadata": {},
   "source": [
    "# run emcee"
   ]
  },
  {
   "cell_type": "code",
   "execution_count": 9,
   "id": "51d0613a",
   "metadata": {},
   "outputs": [],
   "source": [
    "import emcee"
   ]
  },
  {
   "cell_type": "code",
   "execution_count": 10,
   "id": "de3b9c52",
   "metadata": {},
   "outputs": [],
   "source": [
    "def blind_chain(chain):\n",
    "    \"\"\"\n",
    "    \"\"\"\n",
    "    if not is_blind:\n",
    "        return chain\n",
    "    \n",
    "    median = np.median(chain[..., 0])\n",
    "    chain[..., 0] -= median\n",
    "    chain[..., 0] /= median\n",
    "    \n",
    "    return chain"
   ]
  },
  {
   "cell_type": "code",
   "execution_count": 11,
   "id": "1f2c260f",
   "metadata": {
    "scrolled": false
   },
   "outputs": [
    {
     "name": "stderr",
     "output_type": "stream",
     "text": [
      "100%|██████████████████████████████████████████████████████████████████████████████████████████████████████████████████████████████| 1000/1000 [00:13<00:00, 72.97it/s]\n"
     ]
    }
   ],
   "source": [
    "# uniform prior\n",
    "\n",
    "nwalkers, ndim = 40, 2\n",
    "pos = np.array([70, 0.3]) + 1e-4 * np.random.randn(nwalkers, ndim)\n",
    "\n",
    "\n",
    "sampler_uniform = emcee.EnsembleSampler(\n",
    "    nwalkers, ndim, log_probability_uniform_prior, \n",
    ")\n",
    "\n",
    "sampler_uniform.run_mcmc(pos, 1000, progress=True);"
   ]
  },
  {
   "cell_type": "code",
   "execution_count": 12,
   "id": "18a1cd36",
   "metadata": {},
   "outputs": [],
   "source": [
    "chain_uniform = sampler_uniform.get_chain()\n",
    "\n",
    "chain_uniform = blind_chain(chain_uniform)"
   ]
  },
  {
   "cell_type": "markdown",
   "id": "82e8a2c2",
   "metadata": {},
   "source": [
    "## normal prior"
   ]
  },
  {
   "cell_type": "code",
   "execution_count": 13,
   "id": "0ec41e7b",
   "metadata": {},
   "outputs": [
    {
     "name": "stderr",
     "output_type": "stream",
     "text": [
      " 14%|█████████████████▏                                                                                                             | 135/1000 [00:02<00:13, 66.10it/s]/var/folders/ry/23z2z0bd7_d814t1jlq8ydlw0000gn/T/ipykernel_29551/3301284170.py:11: RuntimeWarning: divide by zero encountered in log\n",
      "  return np.log(D_d_kde(D_d))\n",
      " 48%|████████████████████████████████████████████████████████████▎                                                                  | 475/1000 [00:07<00:07, 65.82it/s]/var/folders/ry/23z2z0bd7_d814t1jlq8ydlw0000gn/T/ipykernel_29551/3301284170.py:11: RuntimeWarning: divide by zero encountered in log\n",
      "  return np.log(D_d_kde(D_d))\n",
      " 48%|█████████████████████████████████████████████████████████████▏                                                                 | 482/1000 [00:07<00:07, 65.93it/s]/var/folders/ry/23z2z0bd7_d814t1jlq8ydlw0000gn/T/ipykernel_29551/3301284170.py:11: RuntimeWarning: divide by zero encountered in log\n",
      "  return np.log(D_d_kde(D_d))\n",
      "100%|██████████████████████████████████████████████████████████████████████████████████████████████████████████████████████████████| 1000/1000 [00:15<00:00, 66.20it/s]\n"
     ]
    }
   ],
   "source": [
    "pos = np.array([70, 0.3]) + 1e-4 * np.random.randn(nwalkers, ndim)\n",
    "\n",
    "\n",
    "sampler_normal = emcee.EnsembleSampler(\n",
    "    nwalkers, ndim, log_probability_normal_prior, \n",
    ")\n",
    "\n",
    "sampler_normal.run_mcmc(pos, 1000, progress=True);"
   ]
  },
  {
   "cell_type": "code",
   "execution_count": 14,
   "id": "17951262",
   "metadata": {},
   "outputs": [],
   "source": [
    "chain_normal = sampler_normal.get_chain()\n",
    "\n",
    "chain_normal = blind_chain(chain_normal)"
   ]
  },
  {
   "cell_type": "markdown",
   "id": "9304f8b4",
   "metadata": {},
   "source": [
    "## plot"
   ]
  },
  {
   "cell_type": "code",
   "execution_count": 15,
   "id": "50fd9665",
   "metadata": {},
   "outputs": [
    {
     "data": {
      "text/plain": [
       "(2000, 2)"
      ]
     },
     "execution_count": 15,
     "metadata": {},
     "output_type": "execute_result"
    }
   ],
   "source": [
    "thin = 10\n",
    "burnin = -500\n",
    "\n",
    "samples_uniform = chain_uniform[burnin::thin, :, :].reshape((-1, 2))\n",
    "samples_normal = chain_normal[burnin::thin, :, :].reshape((-1, 2))\n",
    "\n",
    "samples_normal.shape"
   ]
  },
  {
   "cell_type": "code",
   "execution_count": 16,
   "id": "55c9e772",
   "metadata": {},
   "outputs": [
    {
     "name": "stdout",
     "output_type": "stream",
     "text": [
      "Removed no burn in\n",
      "Removed no burn in\n"
     ]
    }
   ],
   "source": [
    "labels = ['H0', 'Om_0']\n",
    "\n",
    "if is_blind:\n",
    "    latex_labels = ['{\\\\rm blinded\\\\ } H_0', '\\\\Omega_{\\\\rm m}']\n",
    "else:\n",
    "    latex_labels = ['H_0\\\\ {(\\\\rm km\\\\ s^{-1}\\\\ Mpc^{-1})}', '\\\\Omega_{\\\\rm m}']\n",
    "\n",
    "\n",
    "mc_samples_uniform = MCSamples(samples=samples_uniform,\n",
    "                               names=labels,\n",
    "                               labels=latex_labels\n",
    "                               )\n",
    "\n",
    "mc_samples_normal = MCSamples(samples=samples_normal,\n",
    "                               names=labels,\n",
    "                               labels=latex_labels\n",
    "                               )"
   ]
  },
  {
   "cell_type": "code",
   "execution_count": 17,
   "id": "be0ac48e",
   "metadata": {},
   "outputs": [
    {
     "data": {
      "text/plain": [
       "(0.06288408698370358, 0.05588639605828375)"
      ]
     },
     "execution_count": 17,
     "metadata": {},
     "output_type": "execute_result"
    }
   ],
   "source": [
    "np.std(samples_uniform[:, 0]), np.std(samples_normal[:, 0])"
   ]
  },
  {
   "cell_type": "code",
   "execution_count": 18,
   "id": "2efcd83e",
   "metadata": {},
   "outputs": [
    {
     "data": {
      "image/png": "[encoded data removed]",
      "text/plain": [
       "<Figure size 500x500 with 3 Axes>"
      ]
     },
     "metadata": {},
     "output_type": "display_data"
    }
   ],
   "source": [
    "pf.set_fontscale(2.)\n",
    "\n",
    "font_scale = 1\n",
    "\n",
    "g = plots.getSubplotPlotter(subplot_size=2.5)\n",
    "g.settings.lw_contour = 1.\n",
    "g.settings.alpha_factor_contour_lines = 2.\n",
    "g.settings.solid_contour_palefactor = 0.5\n",
    "\n",
    "g.settings.axes_fontsize = 16 * font_scale\n",
    "g.settings.lab_fontsize = 16 * font_scale\n",
    "\n",
    "g.settings.legend_fontsize = 18 * font_scale\n",
    "\n",
    "colors = [pf.cb2_blue, pf.cb2_orange, pf.cb2_emerald, pf.cb_grey]\n",
    "\n",
    "legend_labels = [r'$\\Omega_{\\rm m} \\sim \\mathcal{U}(0.05, 0.5)$', \n",
    "                 r'$\\Omega_{\\rm m} \\sim \\mathcal{N}(0.334, 0.018)$']\n",
    "\n",
    "g.triangle_plot([mc_samples_uniform, mc_samples_normal],\n",
    "                legend_labels=legend_labels,\n",
    "                filled=True, shaded=False,\n",
    "                alpha_filled_add=.5,\n",
    "                contour_lws=[2 for l in legend_labels],\n",
    "                contour_ls=['-' for l in legend_labels],\n",
    "                # filled=False,\n",
    "                # contour_colors=[sns.xkcd_rgb['emerald'], sns.xkcd_rgb['bright orange']],\n",
    "                contour_args={'alpha': .5},\n",
    "                # line_args={'lw': 7., \"zorder\": 30},\n",
    "                # line_args={'lw': 1., 'alpha': 1.}\n",
    "                contour_colors=colors,\n",
    "                #                     param_limits={'dphi_AB': (-0.45, 0.15),\n",
    "                #                                   'dphi_AC': (-0.45, 0.15),\n",
    "                #                                   'dphi_AD': (-0.45, 0.15),\n",
    "                #                                   'lambda_int': (0.3, 3), 'a_ani': (0.5, 5.)},\n",
    "                )\n",
    "\n",
    "# g.settings.smooth_scale_2D = 4\n",
    "# g.settings.smooth_scale_1D = 4\n",
    "\n",
    "\n",
    "\n",
    "# g.savefig('')"
   ]
  },
  {
   "cell_type": "code",
   "execution_count": 19,
   "id": "14dfdd10",
   "metadata": {
    "scrolled": true
   },
   "outputs": [
    {
     "data": {
      "text/plain": [
       "0.075"
      ]
     },
     "execution_count": 19,
     "metadata": {},
     "output_type": "execute_result"
    }
   ],
   "source": [
    "6 / 80"
   ]
  },
  {
   "cell_type": "code",
   "execution_count": 20,
   "id": "c22ad9d9",
   "metadata": {},
   "outputs": [],
   "source": [
    "if savefig:\n",
    "    g.fig.savefig('/Users/ajshajib/Dropbox/Papers_Proposals/rxj1131_kcwi/figures/H0_plot.pdf',\n",
    "                  bbox_inches='tight'\n",
    "                 )"
   ]
  },
  {
   "cell_type": "code",
   "execution_count": 21,
   "id": "122188e7",
   "metadata": {},
   "outputs": [
    {
     "data": {
      "text/plain": [
       "0.96"
      ]
     },
     "execution_count": 21,
     "metadata": {},
     "output_type": "execute_result"
    }
   ],
   "source": [
    "1 - 0.2**2"
   ]
  },
  {
   "cell_type": "code",
   "execution_count": 22,
   "id": "65563f0b",
   "metadata": {},
   "outputs": [
    {
     "data": {
      "text/plain": [
       "-1.25"
      ]
     },
     "execution_count": 22,
     "metadata": {},
     "output_type": "execute_result"
    }
   ],
   "source": [
    "1 - 1.5**2"
   ]
  },
  {
   "cell_type": "code",
   "execution_count": null,
   "id": "4edc1e85",
   "metadata": {},
   "outputs": [],
   "source": []
  }
 ],
 "metadata": {
  "kernelspec": {
   "display_name": "Python 3 (ipykernel)",
   "language": "python",
   "name": "python3"
  },
  "language_info": {
   "codemirror_mode": {
    "name": "ipython",
    "version": 3
   },
   "file_extension": ".py",
   "mimetype": "text/x-python",
   "name": "python",
   "nbconvert_exporter": "python",
   "pygments_lexer": "ipython3",
   "version": "3.9.13"
  }
 },
 "nbformat": 4,
 "nbformat_minor": 5
}
