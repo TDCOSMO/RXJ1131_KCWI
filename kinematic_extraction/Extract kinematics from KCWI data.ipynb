{
 "cells": [
  {
   "cell_type": "code",
   "execution_count": null,
   "id": "6f7f5d28-aced-41e8-950f-a88f5fec06de",
   "metadata": {},
   "outputs": [],
   "source": [
    "from astropy.io import fits\n",
    "import numpy as np\n",
    "import matplotlib.pyplot as plt\n",
    "import glob\n",
    "from kcwi_util_modified import register_sauron_colormap\n",
    "from kcwi_util_modified import visualization\n",
    "from kcwi_util_modified import get_datacube\n",
    "from kcwi_util_modified import ppxf_kinematics_RXJ1131_getGlobal_lens_deredshift\n",
    "from kcwi_util_modified import remove_quasar_from_galaxy_deredshift\n",
    "from kcwi_util_modified import find_nearest\n",
    "from kcwi_util_modified import SN_CaHK\n",
    "from kcwi_util_modified import select_region\n",
    "from kcwi_util_modified import voronoi_binning\n",
    "from kcwi_util_modified import get_voronoi_binning_data\n",
    "from kcwi_util_modified import get_velocity_dispersion_deredshift\n",
    "from kcwi_util_modified import kinematics_map\n",
    "from kcwi_util_modified import stellar_type\n",
    "from vorbin.voronoi_2d_binning import voronoi_2d_binning\n",
    "from specim.specfuncs import spec1d\n",
    "register_sauron_colormap()"
   ]
  },
  {
   "cell_type": "code",
   "execution_count": null,
   "id": "4bcb15c1",
   "metadata": {},
   "outputs": [],
   "source": [
    "import ppxf"
   ]
  },
  {
   "cell_type": "code",
   "execution_count": null,
   "id": "e0d360db",
   "metadata": {},
   "outputs": [],
   "source": [
    "ppxf.__version__"
   ]
  },
  {
   "cell_type": "markdown",
   "id": "d88b908a-feee-4e93-bf9e-fd37455352c5",
   "metadata": {},
   "source": [
    "### The lens spectra is extracted summing the light with a circular aperture of radius 0.5 arcsec. The quasar spectra are from the brightest pixels in image A, B and C."
   ]
  },
  {
   "cell_type": "code",
   "execution_count": null,
   "id": "9398b3f6-898d-44b4-8971-08819c67c64a",
   "metadata": {},
   "outputs": [],
   "source": [
    "libary_dir = 'all_dr2_fits'\n",
    "\n",
    "#data directory\n",
    "dir=\"KCWI_data/\"\n",
    "\n",
    "#KCWI mosaic datacube\n",
    "name=\"KCWI_RXJ1131_icubes_mosaic_0.1457\"\n",
    "\n",
    "#spectrum from the lens center\n",
    "#spectrum_aperture1 = dir + 'lens.fits' # single pixel\n",
    "spectrum_aperture = dir + 'lens_central_area.fits' # pixels containing an area with radius 0.5 arcsec\n",
    "\n",
    "\n",
    "#spectrum from the quasar center\n",
    "quasar_spectrum_A  = dir+'quasar_A.fits'\n",
    "quasar_spectrum_B  = dir+'quasar_B.fits'\n",
    "quasar_spectrum_C  = dir+'quasar_C.fits'\n",
    "\n",
    "#redshift of the lens\n",
    "z = 0.295\n",
    "## R=3600. spectral resolution is ~ 1.42 using observed wavelength 5115 (restframe 3950 Ang) \n",
    "FWHM_gal = 1.42\n",
    "FWHM_tem_xshooter = 0.41 ## R=9700 and wavelength 5115/(1+z) or 3949.81 Ang\n",
    "noise = 0.014 ## initial estimate of the noise\n",
    "degree = 3 # degree of the additive Legendre polynomial in ppxf\n",
    "T_exp = 266 * 60 # the exposure time in second for the KCWI datasets.\n",
    "wave_min = 0.34  # restframe wavelength in micrometer\n",
    "wave_max = 0.43\n",
    "velscale_ratio = 2"
   ]
  },
  {
   "cell_type": "markdown",
   "id": "f79a23c1-0f2f-4455-8504-f96b32581753",
   "metadata": {},
   "source": [
    "### Check the spectra"
   ]
  },
  {
   "cell_type": "code",
   "execution_count": null,
   "id": "8e95601a-094a-492d-869b-1ac9d01dd8d3",
   "metadata": {},
   "outputs": [],
   "source": [
    "lens_sp = spec1d.Spec1d(spectrum_aperture, informat='fitsflux', trimsec=[2150, -735])"
   ]
  },
  {
   "cell_type": "code",
   "execution_count": null,
   "id": "9a8bcd1a-8996-4925-b4c9-d82729b4ba84",
   "metadata": {},
   "outputs": [],
   "source": [
    "fg = plt.figure(figsize=(8, 5))\n",
    "lens_sp.smooth(1, fig=fg)\n",
    "lens_sp.mark_lines('abs', z=0.295, usesmooth=True)"
   ]
  },
  {
   "cell_type": "code",
   "execution_count": null,
   "id": "9949695c-fe29-4732-a956-f64329273638",
   "metadata": {},
   "outputs": [],
   "source": [
    "plt.figure(figsize=(12, 6))\n",
    "hd = fits.open(quasar_spectrum_A)[0].header\n",
    "wv = (hd['CRVAL1'] + np.arange(hd['NAXIS1'])* hd['CDELT1'])/(1.295) # restframed in lens redshift\n",
    "plt.plot(wv, fits.open(quasar_spectrum_A)[0].data, label='A')\n",
    "plt.plot(wv, fits.open(quasar_spectrum_B)[0].data, label=\"B\")\n",
    "plt.plot(wv, fits.open(quasar_spectrum_C)[0].data, label=\"C\")\n",
    "plt.legend()"
   ]
  },
  {
   "cell_type": "markdown",
   "id": "41b3a4a9-6210-4ed2-b975-10bd5800223d",
   "metadata": {},
   "source": [
    "### Create three global lens template from the full librray (628 stellar templates covering the 'UVB' region of around 529 different stars). These three global templates consist of completely non-overlaping set of stellar templates.\n",
    "\n",
    "### global_temp1 would be used for kinematics measurement and other two global templates are to calculate systematic uncertainty"
   ]
  },
  {
   "cell_type": "code",
   "execution_count": null,
   "id": "648fb817-aae5-4af0-a72f-5e0c32e46842",
   "metadata": {},
   "outputs": [],
   "source": [
    "temp_all = glob.glob(libary_dir + '/*uvb.fits')"
   ]
  },
  {
   "cell_type": "code",
   "execution_count": null,
   "id": "d5f18b05-b0c3-4b20-beba-2507642c4f12",
   "metadata": {},
   "outputs": [],
   "source": [
    "templates1, pp1, lamRange1, logLam1, lamRange2, logLam2, galaxy1, quasar1 = \\\n",
    "    ppxf_kinematics_RXJ1131_getGlobal_lens_deredshift(libary_dir,\n",
    "                                                      degree=degree,\n",
    "                                                      spectrum_aperture=spectrum_aperture,\n",
    "                                                      wave_min=wave_min,\n",
    "                                                      wave_max=wave_max,\n",
    "                                                      velscale_ratio=velscale_ratio,\n",
    "                                                      z=z,\n",
    "                                                      noise=noise,\n",
    "                                                      templates_name='xshooter',\n",
    "                                                      FWHM=FWHM_gal,\n",
    "                                                      FWHM_tem=FWHM_tem_xshooter,\n",
    "                                                      quasar_spectrum=quasar_spectrum_A,\n",
    "                                                      plot=True, temp_array=temp_all)\n",
    "nTemplates1 = templates1.shape[1]\n",
    "global_temp1 = templates1 @ pp1.weights[:nTemplates1]"
   ]
  },
  {
   "cell_type": "code",
   "execution_count": null,
   "id": "d8010511-8e7e-441f-9262-23549128b6a9",
   "metadata": {
    "jupyter": {
     "outputs_hidden": true
    },
    "tags": []
   },
   "outputs": [],
   "source": [
    "m = pp1.weights[:nTemplates1] >0\n",
    "tmp = np.array(temp_all)[m]\n",
    "tmp_set_1 = sorted(tmp)\n",
    "tmp_set_1"
   ]
  },
  {
   "cell_type": "code",
   "execution_count": null,
   "id": "8b5e17e3-1212-4d20-8103-f877ac29b901",
   "metadata": {},
   "outputs": [],
   "source": [
    "temp_set_new = []\n",
    "for fl in temp_all:\n",
    "    if fl in tmp_set_1:\n",
    "        pass\n",
    "    else:\n",
    "        temp_set_new.append(fl)\n",
    "len(temp_set_new)"
   ]
  },
  {
   "cell_type": "code",
   "execution_count": null,
   "id": "1bb842bf-c36c-4f51-a012-b89c778fbb07",
   "metadata": {},
   "outputs": [],
   "source": [
    "templates2, pp2, lamRange1, logLam1, lamRange2, logLam2, galaxy1, quasar1 = \\\n",
    "    ppxf_kinematics_RXJ1131_getGlobal_lens_deredshift(libary_dir,\n",
    "                                                      degree=degree,\n",
    "                                                      spectrum_aperture=spectrum_aperture,\n",
    "                                                      wave_min=wave_min,\n",
    "                                                      wave_max=wave_max,\n",
    "                                                      velscale_ratio=velscale_ratio,\n",
    "                                                      z=z,\n",
    "                                                      noise=noise,\n",
    "                                                      templates_name='xshooter',\n",
    "                                                      FWHM=FWHM_gal,\n",
    "                                                      FWHM_tem=FWHM_tem_xshooter,\n",
    "                                                      quasar_spectrum=quasar_spectrum_A,\n",
    "                                                      plot=True, temp_array=temp_set_new)\n",
    "nTemplates2 = templates2.shape[1]\n",
    "global_temp2 = templates2 @ pp2.weights[:nTemplates2]"
   ]
  },
  {
   "cell_type": "code",
   "execution_count": null,
   "id": "f1f0cf36-704b-4401-8599-0d173fcd2389",
   "metadata": {
    "jupyter": {
     "outputs_hidden": true
    },
    "tags": []
   },
   "outputs": [],
   "source": [
    "m2 = pp2.weights[:nTemplates2] >0\n",
    "tmp1 = np.array(temp_set_new)[m2]\n",
    "sorted(tmp1)"
   ]
  },
  {
   "cell_type": "code",
   "execution_count": null,
   "id": "4a3f87a6-6fb0-4d91-adbf-7cae406d8a36",
   "metadata": {},
   "outputs": [],
   "source": [
    "temp_set_new2 = []\n",
    "for fl in temp_all:\n",
    "    if fl in tmp_set_1 or fl in tmp1:\n",
    "        pass\n",
    "    else:\n",
    "        temp_set_new2.append(fl)\n",
    "len(temp_set_new2)"
   ]
  },
  {
   "cell_type": "code",
   "execution_count": null,
   "id": "4ddd2084-5fcf-41ec-b404-0918638ce21c",
   "metadata": {
    "jupyter": {
     "outputs_hidden": true
    },
    "tags": []
   },
   "outputs": [],
   "source": [
    "templates3, pp3, lamRange1, logLam1, lamRange2, logLam2, galaxy1, quasar1 = \\\n",
    "    ppxf_kinematics_RXJ1131_getGlobal_lens_deredshift(libary_dir,\n",
    "                                                      degree=degree,\n",
    "                                                      spectrum_aperture=spectrum_aperture,\n",
    "                                                      wave_min=wave_min,\n",
    "                                                      wave_max=wave_max,\n",
    "                                                      velscale_ratio=velscale_ratio,\n",
    "                                                      z=z,\n",
    "                                                      noise=noise,\n",
    "                                                      templates_name='xshooter',\n",
    "                                                      FWHM=FWHM_gal,\n",
    "                                                      FWHM_tem=FWHM_tem_xshooter,\n",
    "                                                      quasar_spectrum=quasar_spectrum_A,\n",
    "                                                      plot=True, temp_array=temp_set_new2)\n",
    "nTemplates3 = templates3.shape[1]\n",
    "global_temp3 = templates3 @ pp3.weights[:nTemplates3]"
   ]
  },
  {
   "cell_type": "code",
   "execution_count": null,
   "id": "7bef303b-5e1c-4d9b-86af-6f887dab7835",
   "metadata": {
    "jupyter": {
     "outputs_hidden": true
    },
    "tags": []
   },
   "outputs": [],
   "source": [
    "m3 = pp3.weights[:nTemplates3] >0\n",
    "tmp2 = np.array(temp_set_new2)[m3]\n",
    "sorted(tmp2)"
   ]
  },
  {
   "cell_type": "markdown",
   "id": "8a6eccf0-7d41-4c64-8a6a-f876d2f15bf0",
   "metadata": {},
   "source": [
    "### Check whether the global templates are completely non-overlaping"
   ]
  },
  {
   "cell_type": "code",
   "execution_count": null,
   "id": "45eb5aac-abb6-4da1-8e2b-28531d52735f",
   "metadata": {},
   "outputs": [],
   "source": [
    "set(tmp_set_1).intersection(set(tmp1)), set(tmp_set_1).intersection(set(tmp2)), set(tmp1).intersection(set(tmp2))"
   ]
  },
  {
   "cell_type": "code",
   "execution_count": null,
   "id": "8d726875-3216-430f-91c7-3e9c1261d0f3",
   "metadata": {},
   "outputs": [],
   "source": [
    "hdu = fits.open(dir+name+'.fits')\n",
    "visualization(hdu)"
   ]
  },
  {
   "cell_type": "code",
   "execution_count": null,
   "id": "9614ed60-cdec-4631-a5b6-d8a0fdcd9f20",
   "metadata": {},
   "outputs": [],
   "source": [
    "data_crop = fits.open(dir + name + '_crop.fits')\n",
    "radius_in_pixels = 21\n",
    "visualization(data_crop)"
   ]
  },
  {
   "cell_type": "markdown",
   "id": "d007f57a-9f5f-444f-8fba-ed41202578dd",
   "metadata": {},
   "source": [
    "### loop over the entire cropped data cube to remove the quasar and obtain the noise cube using global_template_1"
   ]
  },
  {
   "cell_type": "code",
   "execution_count": null,
   "id": "d82c3fe4-cefb-42b1-aa88-d589d64dafc2",
   "metadata": {
    "jupyter": {
     "outputs_hidden": true
    },
    "tags": []
   },
   "outputs": [],
   "source": [
    "data_no_quasar = np.empty_like(data_crop[0].data)\n",
    "noise_cube = np.empty_like(data_crop[0].data)\n",
    "\n",
    "for i in range(radius_in_pixels*2+1):\n",
    "    for j in range(radius_in_pixels*2+1):\n",
    "        #print (i, j)\n",
    "        spectrum_perpixel = data_crop[0].data[:,i,j]\n",
    "        data_no_quasar[:,i,j], noise_cube[:,i,j], sky = remove_quasar_from_galaxy_deredshift(libary_dir, \n",
    "                     degree=degree, spectrum_aperture=spectrum_aperture, wave_min=wave_min,\n",
    "                     wave_max=wave_max, velscale_ratio=velscale_ratio, quasar_spectrum=quasar_spectrum_A,\n",
    "                     z=z, noise=noise, templates_name='xshooter', FWHM=FWHM_gal,\n",
    "                     FWHM_tem=FWHM_tem_xshooter, global_temp=global_temp1, plot=False,\n",
    "                     spectrum_perpixel=spectrum_perpixel, random_plot=True)"
   ]
  },
  {
   "cell_type": "code",
   "execution_count": null,
   "id": "c97bd26f-848b-4acc-8349-abec7d684371",
   "metadata": {},
   "outputs": [],
   "source": [
    "## store the data if necessary\n",
    "hdu_noquasar=hdu.copy()\n",
    "hdu_noquasar[0].data = data_no_quasar\n",
    "hdu_noquasar.writeto(dir+name+'_noquasar.fits',overwrite=True)\n",
    "\n",
    "hdu_noise=hdu.copy()\n",
    "hdu_noise[0].data = noise_cube\n",
    "hdu_noise.writeto(dir+name+'_noise.fits',overwrite=True)"
   ]
  },
  {
   "cell_type": "markdown",
   "id": "f3f80fd9-1c12-41ff-8339-23ce5a200093",
   "metadata": {},
   "source": [
    "### Load the quasar contribution removed data and get a SNR map using restframe wavelength range 3985 - 4085 Ang. In the observed wavelength that is 5160 - 5290 Ang. This region is after Ca H&K and before H-delta lines."
   ]
  },
  {
   "cell_type": "code",
   "execution_count": null,
   "id": "93d27096-784c-4535-a3a9-e5aa2a529a5d",
   "metadata": {},
   "outputs": [],
   "source": [
    "hdu_noquasar = fits.open(dir+name+'_noquasar.fits')\n",
    "hdu_noise = fits.open(dir+name+'_noise.fits')\n",
    "\n",
    "data_no_quasar = hdu_noquasar[0].data\n",
    "noise_cube = hdu_noise[0].data\n",
    "\n",
    "lin_axis_sky = np.linspace(lamRange1[0], lamRange1[1], data_no_quasar.shape[0])\n",
    "ind_min = find_nearest(lin_axis_sky, 3985)\n",
    "ind_max = find_nearest(lin_axis_sky, 4085)\n",
    "ind_min, ind_max"
   ]
  },
  {
   "cell_type": "code",
   "execution_count": null,
   "id": "64c1798d-a46d-43bc-9b0f-e460b27f688d",
   "metadata": {
    "jupyter": {
     "outputs_hidden": true
    },
    "scrolled": false,
    "tags": []
   },
   "outputs": [],
   "source": [
    "SN_per_AA, flux_per_AA, sigma_poisson = SN_CaHK(ind_min, ind_max, data_no_quasar, noise_cube, T_exp)"
   ]
  },
  {
   "cell_type": "markdown",
   "id": "cb1a88e7-50fe-4cb5-93da-67c1cab88e14",
   "metadata": {},
   "source": [
    "### Select a region using the SNR map and a chosen radius and apply voronoi binning to the pixels within that region"
   ]
  },
  {
   "cell_type": "code",
   "execution_count": null,
   "id": "904929b8",
   "metadata": {},
   "outputs": [],
   "source": [
    "sat_x = (4.323 - 4.411) / 0.1457\n",
    "sat_y = (4.546 - 4.011) / 0.1457\n",
    "\n",
    "sat_x, sat_y"
   ]
  },
  {
   "cell_type": "code",
   "execution_count": null,
   "id": "f5df816b",
   "metadata": {},
   "outputs": [],
   "source": [
    "sat_x = int(round(sat_x))\n",
    "sat_y = int(round(sat_y))\n",
    "\n",
    "sat_x, sat_y"
   ]
  },
  {
   "cell_type": "code",
   "execution_count": null,
   "id": "5af9f185-0fc2-44b8-9be9-a8bed60c3474",
   "metadata": {
    "jupyter": {
     "outputs_hidden": true
    },
    "tags": []
   },
   "outputs": [],
   "source": [
    "SN_y_center, SN_x_center = np.unravel_index(SN_per_AA.argmax(), SN_per_AA.shape)\n",
    "\n",
    "SN_per_AA[SN_y_center+sat_y-1 : SN_y_center+sat_y+1, SN_x_center+sat_x : SN_x_center+sat_x+2] = 0.\n",
    "\n",
    "# SN_per_AA[SN_y_center, SN_x_center] = 0.\n",
    "\n",
    "\n",
    "max_radius = 13 # 1.9 arcsec\n",
    "target_SN = 0.5\n",
    "print(SN_y_center, SN_x_center)\n",
    "\n",
    "hdu_full = fits.open(dir+name+'.fits')\n",
    "\n",
    "origin_imaging_data_perAA = np.mean(hdu_full[0].data[ind_min:ind_max,:,:], axis=0)*2\n",
    "\n",
    "select_region(dir, origin_imaging_data_perAA, SN_per_AA, SN_x_center, SN_y_center, radius_in_pixels,\n",
    "              max_radius, target_SN, name)"
   ]
  },
  {
   "cell_type": "markdown",
   "id": "ff4f968e-4e32-47e2-b05e-72055ccbfcf2",
   "metadata": {},
   "source": [
    "#### Convert the pixel coordinates in arcsec unit before binning, then perform binning using pixel coordinates in arcsec unit and after binning bring them back to cartesian coordinates."
   ]
  },
  {
   "cell_type": "code",
   "execution_count": null,
   "id": "b2f5d826-0ffc-439d-aa0b-4bfdaaf71b6d",
   "metadata": {},
   "outputs": [],
   "source": [
    "x, y, signal, noise = np.loadtxt(dir+'voronoi_2d_binning_'+name+'_input.txt').T\n",
    "\n",
    "x -= SN_x_center\n",
    "y -= SN_y_center\n",
    "x *= 0.1457 # pixel scale of the KCWI data\n",
    "y *= 0.1457\n",
    "\n",
    "vor_input = np.vstack((x, y, signal, noise)).T\n",
    "np.savetxt(dir + 'voronoi_2d_binning_' + name + '_arcsec_input.txt', vor_input,\n",
    "               fmt=b'%10.6f %10.6f %10.6f %10.6f')"
   ]
  },
  {
   "cell_type": "code",
   "execution_count": null,
   "id": "0fcac0fc",
   "metadata": {},
   "outputs": [],
   "source": [
    "x, y, signal, noise = np.loadtxt(dir+'voronoi_2d_binning_'+name+'_input.txt').T\n",
    "\n",
    "for a, b in zip(x, y):\n",
    "    print(a, b)"
   ]
  },
  {
   "cell_type": "markdown",
   "id": "3eef1ddf-090a-4e76-9d46-2df5a2befcdd",
   "metadata": {},
   "source": [
    "### Bin the pixels using target SN 24 and 30"
   ]
  },
  {
   "cell_type": "code",
   "execution_count": null,
   "id": "a9e69354-431e-4e48-9975-135ab930139c",
   "metadata": {
    "jupyter": {
     "outputs_hidden": true
    },
    "scrolled": false,
    "tags": []
   },
   "outputs": [],
   "source": [
    "bin_target_SN = 24\n",
    "plt.figure(figsize=(8, 8))\n",
    "voronoi_binning(bin_target_SN, dir, name+'_arcsec')\n",
    "plt.axhline(20)\n",
    "plt.tight_layout()\n",
    "plt.pause(1)"
   ]
  },
  {
   "cell_type": "code",
   "execution_count": null,
   "id": "27bb3912-c773-4d9e-846a-d3dc86c23102",
   "metadata": {},
   "outputs": [],
   "source": [
    "# convert back to cartesian coordiantes\n",
    "output = np.loadtxt(dir +'voronoi_2d_binning_' + name+ '_arcsec_output.txt')\n",
    "\n",
    "x, y, binNum = output.T[0], output.T[1], output.T[2]\n",
    "\n",
    "x = x / 0.1457 + SN_x_center\n",
    "y = y / 0.1457 + SN_y_center\n",
    "\n",
    "np.savetxt(dir+'voronoi_2d_binning_'+ name +'_targetSN_24_output.txt', \\\n",
    "                      np.column_stack([x, y, binNum]),fmt=b'%10.6f %10.6f %8i')"
   ]
  },
  {
   "cell_type": "code",
   "execution_count": null,
   "id": "4ea4952a-5212-4a21-9516-a95be30c5101",
   "metadata": {
    "jupyter": {
     "outputs_hidden": true
    },
    "scrolled": false,
    "tags": []
   },
   "outputs": [],
   "source": [
    "bin_target_SN = 26\n",
    "plt.figure(figsize=(8, 8))\n",
    "voronoi_binning(bin_target_SN, dir, name+'_arcsec')\n",
    "plt.tight_layout()\n",
    "plt.pause(1)"
   ]
  },
  {
   "cell_type": "code",
   "execution_count": null,
   "id": "5e1a267c-f093-473a-a029-b813c9c98968",
   "metadata": {},
   "outputs": [],
   "source": [
    "# convert back to cartesian coordiantes\n",
    "output = np.loadtxt(dir +'voronoi_2d_binning_' + name+ '_arcsec_output.txt')\n",
    "\n",
    "x, y, binNum = output.T[0], output.T[1], output.T[2]\n",
    "\n",
    "x = x / 0.1457 + SN_x_center\n",
    "y = y / 0.1457 + SN_y_center\n",
    "\n",
    "np.savetxt(dir+'voronoi_2d_binning_'+ name +'_targetSN_26_output.txt', \\\n",
    "                      np.column_stack([x, y, binNum]),fmt=b'%10.6f %10.6f %8i')"
   ]
  },
  {
   "cell_type": "markdown",
   "id": "93ace757-b602-46cd-b2f7-2e84474c336f",
   "metadata": {},
   "source": [
    "### Now bin the data using the voronoi binning map"
   ]
  },
  {
   "cell_type": "code",
   "execution_count": null,
   "id": "bd358222-6143-4502-a322-047ce445ff27",
   "metadata": {
    "jupyter": {
     "outputs_hidden": true
    },
    "scrolled": false,
    "tags": []
   },
   "outputs": [],
   "source": [
    "get_voronoi_binning_data(dir, name, name+'_targetSN_24')"
   ]
  },
  {
   "cell_type": "code",
   "execution_count": null,
   "id": "bfc3eec6-f859-45c2-b878-96a628fa6179",
   "metadata": {
    "jupyter": {
     "outputs_hidden": true
    },
    "scrolled": false,
    "tags": []
   },
   "outputs": [],
   "source": [
    "get_voronoi_binning_data(dir, name, name+'_targetSN_26')"
   ]
  },
  {
   "cell_type": "markdown",
   "id": "7fd0c588-4f58-4743-93ec-c010c7c64bdb",
   "metadata": {},
   "source": [
    "### Measure the kinematics"
   ]
  },
  {
   "cell_type": "code",
   "execution_count": null,
   "id": "720c5601-a0bf-4e8d-b3af-623b89089dad",
   "metadata": {
    "jupyter": {
     "outputs_hidden": true
    },
    "tags": []
   },
   "outputs": [],
   "source": [
    "voronoi_binning_data = fits.getdata(dir +'voronoi_binning_' + name + '_targetSN_26' + '_data.fits')\n",
    "\n",
    "get_velocity_dispersion_deredshift(degree=degree,\n",
    "                                   spectrum_aperture=spectrum_aperture,\n",
    "                                   voronoi_binning_data=voronoi_binning_data,\n",
    "                                   velscale_ratio=velscale_ratio,\n",
    "                                   z=z, noise=noise, FWHM=FWHM_gal,\n",
    "                                   FWHM_tem_xshooter=FWHM_tem_xshooter,\n",
    "                                   dir=dir, libary_dir=libary_dir,\n",
    "                                   global_temp=global_temp1,\n",
    "                                   quasar_spectrum=quasar_spectrum_A,\n",
    "                                   wave_min=wave_min, wave_max=wave_max,\n",
    "                                   T_exp=T_exp, VD_name='targetSN_24',\n",
    "                                   plot=False)"
   ]
  },
  {
   "cell_type": "code",
   "execution_count": null,
   "id": "b0333fe5-7201-4ce9-b6cb-9762fe285602",
   "metadata": {},
   "outputs": [],
   "source": [
    "measurements=np.loadtxt(dir + 'VD_%s.txt' % 'targetSN_26')\n",
    "measurements.shape"
   ]
  },
  {
   "cell_type": "markdown",
   "id": "b58824ce-7d36-492d-9b82-04ccd4f81d89",
   "metadata": {},
   "source": [
    "### The bins with a velocity dispersion value > 350 or < 150 have been excluded and filled with 'NaN'. The number of those bins are printed below.¶"
   ]
  },
  {
   "cell_type": "code",
   "execution_count": null,
   "id": "f456e3ed-2e36-4079-bc2d-2e35888d9f73",
   "metadata": {},
   "outputs": [],
   "source": [
    "for i in range(measurements.shape[0]):\n",
    "    if measurements[i][1] > 350 or measurements[i][1] < 150:\n",
    "        print(i) # excluded bins\n",
    "        measurements[i][0], measurements[i][1] = np.nan, np.nan\n",
    "        measurements[i][2], measurements[i][3] = np.nan, np.nan\n",
    "        \n",
    "np.savetxt(dir + 'VD_%s_excluding_bins.txt' % 'targetSN_26', measurements, fmt='%1.4e')"
   ]
  },
  {
   "cell_type": "code",
   "execution_count": null,
   "id": "49bea845-d3d2-4d97-9c26-b0e537b7a074",
   "metadata": {},
   "outputs": [],
   "source": [
    "## kinematics map after excluding few bins and filling them with nan\n",
    "VD_2d, dVD_2d, V_2d, dV_2d = kinematics_map(dir, name +'_targetSN_24', radius_in_pixels=21,\n",
    "                                            VD_name='targetSN_24_excluding_bins', vd_val=1000)\n",
    "\n",
    "plt.imshow(VD_2d,origin='lower', cmap='sauron', vmax=330, vmin=150)\n",
    "cbar = plt.colorbar()\n",
    "cbar.set_label(r'$\\sigma$ [km/s]')\n",
    "plt.show()"
   ]
  },
  {
   "cell_type": "code",
   "execution_count": null,
   "id": "736c8784-3550-451b-a98c-dffef5c225fc",
   "metadata": {
    "jupyter": {
     "outputs_hidden": true
    },
    "tags": []
   },
   "outputs": [],
   "source": [
    "## kinematics for bins with target SN 15\n",
    "voronoi_binning_data = fits.getdata(dir +'voronoi_binning_' + name + '_targetSN_26' + '_data.fits')\n",
    "\n",
    "get_velocity_dispersion_deredshift(degree=degree,\n",
    "                                   spectrum_aperture=spectrum_aperture,\n",
    "                                   voronoi_binning_data=voronoi_binning_data,\n",
    "                                   velscale_ratio=velscale_ratio,\n",
    "                                   z=z, noise=noise, FWHM=FWHM_gal,\n",
    "                                   FWHM_tem_xshooter=FWHM_tem_xshooter,\n",
    "                                   dir=dir, libary_dir=libary_dir,\n",
    "                                   global_temp=global_temp1,\n",
    "                                   quasar_spectrum=quasar_spectrum_A,\n",
    "                                   wave_min=wave_min, wave_max=wave_max,\n",
    "                                   T_exp=T_exp, VD_name='targetSN_26',\n",
    "                                   plot=False)"
   ]
  },
  {
   "cell_type": "code",
   "execution_count": null,
   "id": "ccfe6e8d-a2de-4568-b0a5-34bf1ebfba40",
   "metadata": {},
   "outputs": [],
   "source": [
    "measurements=np.loadtxt(dir + 'VD_%s.txt' % 'targetSN_26')\n",
    "measurements.shape"
   ]
  },
  {
   "cell_type": "markdown",
   "id": "59352442-275c-4cb0-8dcf-2a534afe5f2d",
   "metadata": {},
   "source": [
    "### The bins with a velocity dispersion value > 350 or < 150 have been excluded and filled with 'NaN'. The number of those bins are printed below."
   ]
  },
  {
   "cell_type": "code",
   "execution_count": null,
   "id": "8b2b0dcf-b1c5-46c4-8014-8fa42f4322c2",
   "metadata": {},
   "outputs": [],
   "source": [
    "for i in range(measurements.shape[0]):\n",
    "    if measurements[i][1] > 350 or measurements[i][1] < 150:\n",
    "        print(i) # excluded bins\n",
    "        measurements[i][0], measurements[i][1] = np.nan, np.nan\n",
    "        measurements[i][2], measurements[i][3] = np.nan, np.nan\n",
    "        \n",
    "np.savetxt(dir + 'VD_%s_excluding_bins.txt' % 'targetSN_26', measurements, fmt='%1.4e')"
   ]
  },
  {
   "cell_type": "code",
   "execution_count": null,
   "id": "c9511395-d005-4827-8f54-078d6a004370",
   "metadata": {},
   "outputs": [],
   "source": [
    "VD_2d, dVD_2d, V_2d, dV_2d = kinematics_map(dir, name+'_targetSN_26', radius_in_pixels=21,\n",
    "                                            VD_name='targetSN_26_excluding_bins', vd_val=1000)\n",
    "\n",
    "plt.imshow(VD_2d,origin='lower',cmap='sauron')\n",
    "cbar = plt.colorbar()\n",
    "cbar.set_label(r'$\\sigma$ [km/s]')\n",
    "plt.show()"
   ]
  },
  {
   "cell_type": "code",
   "execution_count": null,
   "id": "918a74e8",
   "metadata": {},
   "outputs": [],
   "source": [
    "VD_2d.shape"
   ]
  },
  {
   "cell_type": "code",
   "execution_count": null,
   "id": "08ef6565-dbc2-4fad-a390-7725a528bfa4",
   "metadata": {},
   "outputs": [],
   "source": [
    "bin_list = [0, 5, 20, 46, 144]\n",
    "voronoi_binning_data = fits.getdata(dir +'voronoi_binning_' + name + '_targetSN_24' + '_data.fits')\n",
    "\n",
    "for i in bin_list:\n",
    "    ppxf_kinematics_RXJ1131_getGlobal_lens_deredshift(libary_dir,\n",
    "                                                      degree=degree,\n",
    "                                                      spectrum_aperture=spectrum_aperture,\n",
    "                                                      wave_min=wave_min,\n",
    "                                                      wave_max=wave_max,\n",
    "                                                      velscale_ratio=velscale_ratio,\n",
    "                                                      z=z,\n",
    "                                                      noise=noise,\n",
    "                                                      templates_name='xshooter',\n",
    "                                                      FWHM=FWHM_gal,\n",
    "                                                      FWHM_tem=FWHM_tem_xshooter,\n",
    "                                                      quasar_spectrum=quasar_spectrum_A,\n",
    "                                                      plot=True, global_template_lens=global_temp1,\n",
    "                                                spectrum_perpixel=voronoi_binning_data[i])\n",
    "    #global_template_lens=global_temp1,\n",
    "    print('bin num : %d' %i)\n",
    "    plt.show()"
   ]
  },
  {
   "cell_type": "markdown",
   "id": "1c7af227-efb6-4a44-966d-8f3f6a6490ff",
   "metadata": {},
   "source": [
    "### Check systematics"
   ]
  },
  {
   "cell_type": "code",
   "execution_count": null,
   "id": "ac72eee8-80e2-442f-b31c-d9aced96e82c",
   "metadata": {},
   "outputs": [],
   "source": [
    "wavelength_list = [['rng_1', 0.34, 0.43], ['rng_2', 0.335, 0.425], ['rng_3', 0.33, 0.42]]\n",
    "deg_list = [2, 3, 4]\n",
    "global_temp_list = [global_temp1, global_temp2, global_temp3]\n",
    "quasar_list = [quasar_spectrum_A, quasar_spectrum_B, quasar_spectrum_C]"
   ]
  },
  {
   "cell_type": "code",
   "execution_count": null,
   "id": "a6b4c210-9949-4bae-b72b-53bfe73f147f",
   "metadata": {
    "jupyter": {
     "outputs_hidden": true
    },
    "tags": []
   },
   "outputs": [],
   "source": [
    "voronoi_binning_data = fits.getdata(dir +'voronoi_binning_' + name + '_targetSN_24' + '_data.fits')\n",
    "\n",
    "for w in wavelength_list:\n",
    "    wv_min, wv_max = w[1], w[2]\n",
    "    for d in deg_list:\n",
    "        deg = d\n",
    "        for i, gt in enumerate(global_temp_list):\n",
    "            global_tmp = gt\n",
    "            for j, qsp in enumerate(quasar_list):\n",
    "                quasar_spec = qsp\n",
    "                qsp_name = chr(j+65)\n",
    "                \n",
    "                vd_name = 'wave_%s_deg_%d_global_temp_%d_quasar_sp_%s_SN_24' %(w[0], deg, i+1, qsp_name)\n",
    "                get_velocity_dispersion_deredshift(degree=deg,\n",
    "                                   spectrum_aperture=spectrum_aperture,\n",
    "                                   voronoi_binning_data=voronoi_binning_data,\n",
    "                                   velscale_ratio=velscale_ratio,\n",
    "                                   z=z, noise=noise, FWHM=FWHM_gal,\n",
    "                                   FWHM_tem_xshooter=FWHM_tem_xshooter,\n",
    "                                   dir=dir, libary_dir=libary_dir,\n",
    "                                   global_temp=global_tmp,\n",
    "                                   quasar_spectrum=quasar_spec,\n",
    "                                   wave_min=wv_min, wave_max=wv_max,\n",
    "                                   T_exp=T_exp, VD_name=vd_name,\n",
    "                                   plot=False, verbose=False, quiet=True)\n",
    "            \n",
    "                ## just to check\n",
    "                print('VD_wave_%s_deg_%d_global_temp_%d_quasar_sp_%s' %(w[0], deg, i+1, qsp_name) )\n",
    "                ppxf_kinematics_RXJ1131_getGlobal_lens_deredshift(libary_dir,\n",
    "                                                      degree=deg,\n",
    "                                                      spectrum_aperture=spectrum_aperture,\n",
    "                                                      wave_min=wv_min, wave_max=wv_max,\n",
    "                                                      velscale_ratio=velscale_ratio,\n",
    "                                                      z=z, noise=noise,\n",
    "                                                      templates_name='xshooter',\n",
    "                                                      FWHM=FWHM_gal,\n",
    "                                                      FWHM_tem=FWHM_tem_xshooter,\n",
    "                                                      quasar_spectrum=quasar_spec,\n",
    "                                                      plot=True, global_template_lens=global_tmp,\n",
    "                                                spectrum_perpixel=voronoi_binning_data[0])\n",
    "                plt.show()"
   ]
  },
  {
   "cell_type": "code",
   "execution_count": null,
   "id": "b074fdc6-2496-447b-b39a-3d2184082c25",
   "metadata": {
    "tags": []
   },
   "outputs": [],
   "source": [
    "voronoi_binning_data1 = fits.getdata(dir +'voronoi_binning_' + name + '_targetSN_26' + '_data.fits')\n",
    "\n",
    "for w in wavelength_list:\n",
    "    wv_min, wv_max = w[1], w[2]\n",
    "    for d in deg_list:\n",
    "        deg = d\n",
    "        for i, gt in enumerate(global_temp_list):\n",
    "            global_tmp = gt\n",
    "            for j, qsp in enumerate(quasar_list):\n",
    "                quasar_spec = qsp\n",
    "                qsp_name = chr(j+65)\n",
    "                \n",
    "                vd_name = 'wave_%s_deg_%d_global_temp_%d_quasar_sp_%s_SN_26' %(w[0], deg, i+1, qsp_name)\n",
    "                get_velocity_dispersion_deredshift(degree=deg,\n",
    "                                   spectrum_aperture=spectrum_aperture,\n",
    "                                   voronoi_binning_data=voronoi_binning_data1,\n",
    "                                   velscale_ratio=velscale_ratio,\n",
    "                                   z=z, noise=noise, FWHM=FWHM_gal,\n",
    "                                   FWHM_tem_xshooter=FWHM_tem_xshooter,\n",
    "                                   dir=dir, libary_dir=libary_dir,\n",
    "                                   global_temp=global_tmp,\n",
    "                                   quasar_spectrum=quasar_spec,\n",
    "                                   wave_min=wv_min, wave_max=wv_max,\n",
    "                                   T_exp=T_exp, VD_name=vd_name,\n",
    "                                   plot=False, verbose=False, quiet=True)\n",
    "            \n",
    "                ## just to check\n",
    "                print('VD_wave_%s_deg_%d_global_temp_%d_quasar_sp_%s' %(w[0], deg, i+1, qsp_name) )\n",
    "                ppxf_kinematics_RXJ1131_getGlobal_lens_deredshift(libary_dir,\n",
    "                                                      degree=deg,\n",
    "                                                      spectrum_aperture=spectrum_aperture,\n",
    "                                                      wave_min=wv_min, wave_max=wv_max,\n",
    "                                                      velscale_ratio=velscale_ratio,\n",
    "                                                      z=z, noise=noise,\n",
    "                                                      templates_name='xshooter',\n",
    "                                                      FWHM=FWHM_gal,\n",
    "                                                      FWHM_tem=FWHM_tem_xshooter,\n",
    "                                                      quasar_spectrum=quasar_spec,\n",
    "                                                      plot=True, global_template_lens=global_tmp,\n",
    "                                                spectrum_perpixel=voronoi_binning_data1[0])\n",
    "                plt.show()"
   ]
  },
  {
   "cell_type": "code",
   "execution_count": null,
   "id": "a9b3136a-04ea-4ef4-9be1-66ae08ee5468",
   "metadata": {},
   "outputs": [],
   "source": []
  }
 ],
 "metadata": {
  "kernelspec": {
   "display_name": "Python 3 (ipykernel)",
   "language": "python",
   "name": "python3"
  },
  "language_info": {
   "codemirror_mode": {
    "name": "ipython",
    "version": 3
   },
   "file_extension": ".py",
   "mimetype": "text/x-python",
   "name": "python",
   "nbconvert_exporter": "python",
   "pygments_lexer": "ipython3",
   "version": "3.9.13"
  }
 },
 "nbformat": 4,
 "nbformat_minor": 5
}
