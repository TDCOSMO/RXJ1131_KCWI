{
 "cells": [
  {
   "cell_type": "code",
   "execution_count": 1,
   "outputs": [],
   "source": [
    "import matplotlib.pyplot as plt\n",
    "import pandas as pd"
   ],
   "metadata": {
    "collapsed": false,
    "pycharm": {
     "name": "#%%\n"
    }
   }
  },
  {
   "cell_type": "code",
   "execution_count": 2,
   "outputs": [],
   "source": [
    "df_master = pd.read_csv('./sim-ref.txt', sep='|')\n",
    "\n",
    "# strip the spaces in the column names\n",
    "df_master.columns = df_master.columns.str.strip()\n",
    "\n",
    "# strip the spaces in the column values\n",
    "df_master['identifier'] = df_master['identifier'].str.strip()"
   ],
   "metadata": {
    "collapsed": false,
    "pycharm": {
     "name": "#%%\n"
    }
   }
  },
  {
   "cell_type": "code",
   "execution_count": 3,
   "outputs": [
    {
     "data": {
      "text/plain": "                                                     #    obj tags  obj count  \\\n0                                                  1    d                 6.0   \n1                                                  2    d                 2.0   \n2                                                  3    d                 9.0   \n3                                                  4    d                 2.0   \n4                                                  5    d                 1.0   \n..                                                 ...         ...        ...   \n678                                                679  d                 1.0   \n679                                                680  dx                2.0   \n680                                                681  d                 1.0   \n681                                                682  x                 1.0   \n682  ==============================================...         NaN        NaN   \n\n                                    raw id           identifier  typ  \\\n0    table:Star= HD 224926                             * 29 Psc  V*    \n1    table:Star= HD 358                               * alf And  a2*   \n2    table:Star= HD 1638                                HD 1638  *     \n3    table:Star= CL* NGC 121 T V8              Cl* NGC 121 T V8  C*    \n4    NGC121                                             NGC 121  GlC   \n..                                     ...                  ...  ...   \n678  table:Star= HD 221149                            HD 221149  *     \n679  table:Star= BD+19 5116B                        BD+19 5116B  Er*   \n680  table:Star= HD 222434                            HD 222434  SB*   \n681  Galactic bulge                         NAME Galactic Bulge  reg   \n682                                    NaN                  NaN  NaN   \n\n                    coord1 (ICRS,J2000/2000)            spec. type    #bib  \\\n0    00 01 49.4481127032 -03 01 39.011820024  B7III-IV               214.0   \n1    00 08 23.25988 +29 05 25.5520            B8IV-VHgMn             457.0   \n2    00 20 28.3131118560 -30 33 19.877390424  K1III                   22.0   \n3    00 26 48.5287453464 -71 32 50.474301576  C                       13.0   \n4    00 26 49.0 -71 32 10                     ~                      299.0   \n..                                       ...                   ...     ...   \n678  23 29 36.3442861776 -06 50 08.715297336  G1/2V                   30.0   \n679  23 31 52.5753377942 +19 56 14.005026315  M4.0Ve                 194.0   \n680  23 40 41.5098598776 -34 41 46.553906400  G2/3V                   49.0   \n681  No Coord.                                ~                     3988.0   \n682                                      NaN                   NaN     NaN   \n\n     #not  \n0     0.0  \n1     0.0  \n2     0.0  \n3     0.0  \n4     0.0  \n..    ...  \n678   0.0  \n679   0.0  \n680   0.0  \n681   0.0  \n682   NaN  \n\n[683 rows x 10 columns]",
      "text/html": "<div>\n<style scoped>\n    .dataframe tbody tr th:only-of-type {\n        vertical-align: middle;\n    }\n\n    .dataframe tbody tr th {\n        vertical-align: top;\n    }\n\n    .dataframe thead th {\n        text-align: right;\n    }\n</style>\n<table border=\"1\" class=\"dataframe\">\n  <thead>\n    <tr style=\"text-align: right;\">\n      <th></th>\n      <th>#</th>\n      <th>obj tags</th>\n      <th>obj count</th>\n      <th>raw id</th>\n      <th>identifier</th>\n      <th>typ</th>\n      <th>coord1 (ICRS,J2000/2000)</th>\n      <th>spec. type</th>\n      <th>#bib</th>\n      <th>#not</th>\n    </tr>\n  </thead>\n  <tbody>\n    <tr>\n      <th>0</th>\n      <td>1</td>\n      <td>d</td>\n      <td>6.0</td>\n      <td>table:Star= HD 224926</td>\n      <td>* 29 Psc</td>\n      <td>V*</td>\n      <td>00 01 49.4481127032 -03 01 39.011820024</td>\n      <td>B7III-IV</td>\n      <td>214.0</td>\n      <td>0.0</td>\n    </tr>\n    <tr>\n      <th>1</th>\n      <td>2</td>\n      <td>d</td>\n      <td>2.0</td>\n      <td>table:Star= HD 358</td>\n      <td>* alf And</td>\n      <td>a2*</td>\n      <td>00 08 23.25988 +29 05 25.5520</td>\n      <td>B8IV-VHgMn</td>\n      <td>457.0</td>\n      <td>0.0</td>\n    </tr>\n    <tr>\n      <th>2</th>\n      <td>3</td>\n      <td>d</td>\n      <td>9.0</td>\n      <td>table:Star= HD 1638</td>\n      <td>HD 1638</td>\n      <td>*</td>\n      <td>00 20 28.3131118560 -30 33 19.877390424</td>\n      <td>K1III</td>\n      <td>22.0</td>\n      <td>0.0</td>\n    </tr>\n    <tr>\n      <th>3</th>\n      <td>4</td>\n      <td>d</td>\n      <td>2.0</td>\n      <td>table:Star= CL* NGC 121 T V8</td>\n      <td>Cl* NGC 121 T V8</td>\n      <td>C*</td>\n      <td>00 26 48.5287453464 -71 32 50.474301576</td>\n      <td>C</td>\n      <td>13.0</td>\n      <td>0.0</td>\n    </tr>\n    <tr>\n      <th>4</th>\n      <td>5</td>\n      <td>d</td>\n      <td>1.0</td>\n      <td>NGC121</td>\n      <td>NGC 121</td>\n      <td>GlC</td>\n      <td>00 26 49.0 -71 32 10</td>\n      <td>~</td>\n      <td>299.0</td>\n      <td>0.0</td>\n    </tr>\n    <tr>\n      <th>...</th>\n      <td>...</td>\n      <td>...</td>\n      <td>...</td>\n      <td>...</td>\n      <td>...</td>\n      <td>...</td>\n      <td>...</td>\n      <td>...</td>\n      <td>...</td>\n      <td>...</td>\n    </tr>\n    <tr>\n      <th>678</th>\n      <td>679</td>\n      <td>d</td>\n      <td>1.0</td>\n      <td>table:Star= HD 221149</td>\n      <td>HD 221149</td>\n      <td>*</td>\n      <td>23 29 36.3442861776 -06 50 08.715297336</td>\n      <td>G1/2V</td>\n      <td>30.0</td>\n      <td>0.0</td>\n    </tr>\n    <tr>\n      <th>679</th>\n      <td>680</td>\n      <td>dx</td>\n      <td>2.0</td>\n      <td>table:Star= BD+19 5116B</td>\n      <td>BD+19 5116B</td>\n      <td>Er*</td>\n      <td>23 31 52.5753377942 +19 56 14.005026315</td>\n      <td>M4.0Ve</td>\n      <td>194.0</td>\n      <td>0.0</td>\n    </tr>\n    <tr>\n      <th>680</th>\n      <td>681</td>\n      <td>d</td>\n      <td>1.0</td>\n      <td>table:Star= HD 222434</td>\n      <td>HD 222434</td>\n      <td>SB*</td>\n      <td>23 40 41.5098598776 -34 41 46.553906400</td>\n      <td>G2/3V</td>\n      <td>49.0</td>\n      <td>0.0</td>\n    </tr>\n    <tr>\n      <th>681</th>\n      <td>682</td>\n      <td>x</td>\n      <td>1.0</td>\n      <td>Galactic bulge</td>\n      <td>NAME Galactic Bulge</td>\n      <td>reg</td>\n      <td>No Coord.</td>\n      <td>~</td>\n      <td>3988.0</td>\n      <td>0.0</td>\n    </tr>\n    <tr>\n      <th>682</th>\n      <td>==============================================...</td>\n      <td>NaN</td>\n      <td>NaN</td>\n      <td>NaN</td>\n      <td>NaN</td>\n      <td>NaN</td>\n      <td>NaN</td>\n      <td>NaN</td>\n      <td>NaN</td>\n      <td>NaN</td>\n    </tr>\n  </tbody>\n</table>\n<p>683 rows × 10 columns</p>\n</div>"
     },
     "execution_count": 3,
     "metadata": {},
     "output_type": "execute_result"
    }
   ],
   "source": [
    "df_master"
   ],
   "metadata": {
    "collapsed": false,
    "pycharm": {
     "name": "#%%\n"
    }
   }
  },
  {
   "cell_type": "code",
   "execution_count": 4,
   "outputs": [
    {
     "data": {
      "text/plain": "            Star n_Star       RAJ2000      DEJ2000  XSLID         MJD  \\\n0      HD 224926         00 01 49.450  -03 01 39.0  X0022  55112.9977   \n1      HD 224926         00 01 49.450  -03 01 39.0  X0224  55410.3318   \n2      HD 224926         00 01 49.450  -03 01 39.0  X0280  55457.2696   \n3         HD 358         00 08 23.260  +29 05 25.5  X0025  55113.0508   \n4        HD 1638         00 20 28.310  -30 33 19.8  X0023  55113.0113   \n..           ...    ...           ...          ...    ...         ...   \n808    HD 220838         23 27 16.480  -26 58 58.1  X0417  56141.2313   \n809    HD 221170         23 29 28.810  +30 25 57.8  X0442  56147.2956   \n810    HD 221149         23 29 36.340  -06 50 08.7  X0749  56488.2954   \n811  BD+19 5116B         23 31 52.570  +19 56 14.0  X0440  56147.2718   \n812    HD 222434         23 40 41.510  -34 41 46.5  X0752  56488.3194   \n\n    ArmMissing  spU  spV  spN                                   FileUVB  \\\n0               spU  spV  spN  fits_nlc/xsl_spectrum_X0022_uvb_nlc.fits   \n1               spU  spV  spN  fits/xsl_spectrum_X0224_uvb.fits           \n2               spU  spV  spN  fits/xsl_spectrum_X0280_uvb.fits           \n3               spU  spV  spN  fits_nlc/xsl_spectrum_X0025_uvb_nlc.fits   \n4               spU  spV  spN  fits/xsl_spectrum_X0023_uvb.fits           \n..         ...  ...  ...  ...                                       ...   \n808             spU  spV  spN  fits/xsl_spectrum_X0417_uvb.fits           \n809             spU  spV  spN  fits/xsl_spectrum_X0442_uvb.fits           \n810             spU  spV  spN  fits/xsl_spectrum_X0749_uvb.fits           \n811             spU  spV  spN  fits/xsl_spectrum_X0440_uvb.fits           \n812             spU  spV  spN  fits/xsl_spectrum_X0752_uvb.fits           \n\n                                      FileVIS  \\\n0    fits_nlc/xsl_spectrum_X0022_vis_nlc.fits   \n1    fits/xsl_spectrum_X0224_vis.fits           \n2    fits/xsl_spectrum_X0280_vis.fits           \n3    fits_nlc/xsl_spectrum_X0025_vis_nlc.fits   \n4    fits/xsl_spectrum_X0023_vis.fits           \n..                                        ...   \n808  fits/xsl_spectrum_X0417_vis.fits           \n809  fits/xsl_spectrum_X0442_vis.fits           \n810  fits/xsl_spectrum_X0749_vis.fits           \n811  fits/xsl_spectrum_X0440_vis.fits           \n812  fits/xsl_spectrum_X0752_vis.fits           \n\n                                      FileNIR  \\\n0    fits/xsl_spectrum_X0022_nir.fits           \n1    fits/xsl_spectrum_X0224_nir.fits           \n2    fits/xsl_spectrum_X0280_nir.fits           \n3    fits_nlc/xsl_spectrum_X0025_nir_nlc.fits   \n4    fits/xsl_spectrum_X0023_nir.fits           \n..                                        ...   \n808  fits/xsl_spectrum_X0417_nir.fits           \n809  fits/xsl_spectrum_X0442_nir.fits           \n810  fits/xsl_spectrum_X0749_nir.fits           \n811  fits/xsl_spectrum_X0440_nir.fits           \n812  fits/xsl_spectrum_X0752_nir.fits           \n\n                                              Comments   SimbadName  \n0                                                  ...    HD 224926  \n1                                                  ...    HD 224926  \n2                                                  ...    HD 224926  \n3                                                  ...       HD 358  \n4                                                  ...      HD 1638  \n..                                                 ...          ...  \n808                                                ...    HD 220838  \n809                                                ...    HD 221170  \n810                                                ...    HD 221149  \n811                                                ...  BD+19 5116B  \n812                                                ...    HD 222434  \n\n[813 rows x 15 columns]",
      "text/html": "<div>\n<style scoped>\n    .dataframe tbody tr th:only-of-type {\n        vertical-align: middle;\n    }\n\n    .dataframe tbody tr th {\n        vertical-align: top;\n    }\n\n    .dataframe thead th {\n        text-align: right;\n    }\n</style>\n<table border=\"1\" class=\"dataframe\">\n  <thead>\n    <tr style=\"text-align: right;\">\n      <th></th>\n      <th>Star</th>\n      <th>n_Star</th>\n      <th>RAJ2000</th>\n      <th>DEJ2000</th>\n      <th>XSLID</th>\n      <th>MJD</th>\n      <th>ArmMissing</th>\n      <th>spU</th>\n      <th>spV</th>\n      <th>spN</th>\n      <th>FileUVB</th>\n      <th>FileVIS</th>\n      <th>FileNIR</th>\n      <th>Comments</th>\n      <th>SimbadName</th>\n    </tr>\n  </thead>\n  <tbody>\n    <tr>\n      <th>0</th>\n      <td>HD 224926</td>\n      <td></td>\n      <td>00 01 49.450</td>\n      <td>-03 01 39.0</td>\n      <td>X0022</td>\n      <td>55112.9977</td>\n      <td></td>\n      <td>spU</td>\n      <td>spV</td>\n      <td>spN</td>\n      <td>fits_nlc/xsl_spectrum_X0022_uvb_nlc.fits</td>\n      <td>fits_nlc/xsl_spectrum_X0022_vis_nlc.fits</td>\n      <td>fits/xsl_spectrum_X0022_nir.fits</td>\n      <td>...</td>\n      <td>HD 224926</td>\n    </tr>\n    <tr>\n      <th>1</th>\n      <td>HD 224926</td>\n      <td></td>\n      <td>00 01 49.450</td>\n      <td>-03 01 39.0</td>\n      <td>X0224</td>\n      <td>55410.3318</td>\n      <td></td>\n      <td>spU</td>\n      <td>spV</td>\n      <td>spN</td>\n      <td>fits/xsl_spectrum_X0224_uvb.fits</td>\n      <td>fits/xsl_spectrum_X0224_vis.fits</td>\n      <td>fits/xsl_spectrum_X0224_nir.fits</td>\n      <td>...</td>\n      <td>HD 224926</td>\n    </tr>\n    <tr>\n      <th>2</th>\n      <td>HD 224926</td>\n      <td></td>\n      <td>00 01 49.450</td>\n      <td>-03 01 39.0</td>\n      <td>X0280</td>\n      <td>55457.2696</td>\n      <td></td>\n      <td>spU</td>\n      <td>spV</td>\n      <td>spN</td>\n      <td>fits/xsl_spectrum_X0280_uvb.fits</td>\n      <td>fits/xsl_spectrum_X0280_vis.fits</td>\n      <td>fits/xsl_spectrum_X0280_nir.fits</td>\n      <td>...</td>\n      <td>HD 224926</td>\n    </tr>\n    <tr>\n      <th>3</th>\n      <td>HD 358</td>\n      <td></td>\n      <td>00 08 23.260</td>\n      <td>+29 05 25.5</td>\n      <td>X0025</td>\n      <td>55113.0508</td>\n      <td></td>\n      <td>spU</td>\n      <td>spV</td>\n      <td>spN</td>\n      <td>fits_nlc/xsl_spectrum_X0025_uvb_nlc.fits</td>\n      <td>fits_nlc/xsl_spectrum_X0025_vis_nlc.fits</td>\n      <td>fits_nlc/xsl_spectrum_X0025_nir_nlc.fits</td>\n      <td>...</td>\n      <td>HD 358</td>\n    </tr>\n    <tr>\n      <th>4</th>\n      <td>HD 1638</td>\n      <td></td>\n      <td>00 20 28.310</td>\n      <td>-30 33 19.8</td>\n      <td>X0023</td>\n      <td>55113.0113</td>\n      <td></td>\n      <td>spU</td>\n      <td>spV</td>\n      <td>spN</td>\n      <td>fits/xsl_spectrum_X0023_uvb.fits</td>\n      <td>fits/xsl_spectrum_X0023_vis.fits</td>\n      <td>fits/xsl_spectrum_X0023_nir.fits</td>\n      <td>...</td>\n      <td>HD 1638</td>\n    </tr>\n    <tr>\n      <th>...</th>\n      <td>...</td>\n      <td>...</td>\n      <td>...</td>\n      <td>...</td>\n      <td>...</td>\n      <td>...</td>\n      <td>...</td>\n      <td>...</td>\n      <td>...</td>\n      <td>...</td>\n      <td>...</td>\n      <td>...</td>\n      <td>...</td>\n      <td>...</td>\n      <td>...</td>\n    </tr>\n    <tr>\n      <th>808</th>\n      <td>HD 220838</td>\n      <td></td>\n      <td>23 27 16.480</td>\n      <td>-26 58 58.1</td>\n      <td>X0417</td>\n      <td>56141.2313</td>\n      <td></td>\n      <td>spU</td>\n      <td>spV</td>\n      <td>spN</td>\n      <td>fits/xsl_spectrum_X0417_uvb.fits</td>\n      <td>fits/xsl_spectrum_X0417_vis.fits</td>\n      <td>fits/xsl_spectrum_X0417_nir.fits</td>\n      <td>...</td>\n      <td>HD 220838</td>\n    </tr>\n    <tr>\n      <th>809</th>\n      <td>HD 221170</td>\n      <td></td>\n      <td>23 29 28.810</td>\n      <td>+30 25 57.8</td>\n      <td>X0442</td>\n      <td>56147.2956</td>\n      <td></td>\n      <td>spU</td>\n      <td>spV</td>\n      <td>spN</td>\n      <td>fits/xsl_spectrum_X0442_uvb.fits</td>\n      <td>fits/xsl_spectrum_X0442_vis.fits</td>\n      <td>fits/xsl_spectrum_X0442_nir.fits</td>\n      <td>...</td>\n      <td>HD 221170</td>\n    </tr>\n    <tr>\n      <th>810</th>\n      <td>HD 221149</td>\n      <td></td>\n      <td>23 29 36.340</td>\n      <td>-06 50 08.7</td>\n      <td>X0749</td>\n      <td>56488.2954</td>\n      <td></td>\n      <td>spU</td>\n      <td>spV</td>\n      <td>spN</td>\n      <td>fits/xsl_spectrum_X0749_uvb.fits</td>\n      <td>fits/xsl_spectrum_X0749_vis.fits</td>\n      <td>fits/xsl_spectrum_X0749_nir.fits</td>\n      <td>...</td>\n      <td>HD 221149</td>\n    </tr>\n    <tr>\n      <th>811</th>\n      <td>BD+19 5116B</td>\n      <td></td>\n      <td>23 31 52.570</td>\n      <td>+19 56 14.0</td>\n      <td>X0440</td>\n      <td>56147.2718</td>\n      <td></td>\n      <td>spU</td>\n      <td>spV</td>\n      <td>spN</td>\n      <td>fits/xsl_spectrum_X0440_uvb.fits</td>\n      <td>fits/xsl_spectrum_X0440_vis.fits</td>\n      <td>fits/xsl_spectrum_X0440_nir.fits</td>\n      <td>...</td>\n      <td>BD+19 5116B</td>\n    </tr>\n    <tr>\n      <th>812</th>\n      <td>HD 222434</td>\n      <td></td>\n      <td>23 40 41.510</td>\n      <td>-34 41 46.5</td>\n      <td>X0752</td>\n      <td>56488.3194</td>\n      <td></td>\n      <td>spU</td>\n      <td>spV</td>\n      <td>spN</td>\n      <td>fits/xsl_spectrum_X0752_uvb.fits</td>\n      <td>fits/xsl_spectrum_X0752_vis.fits</td>\n      <td>fits/xsl_spectrum_X0752_nir.fits</td>\n      <td>...</td>\n      <td>HD 222434</td>\n    </tr>\n  </tbody>\n</table>\n<p>813 rows × 15 columns</p>\n</div>"
     },
     "execution_count": 4,
     "metadata": {},
     "output_type": "execute_result"
    }
   ],
   "source": [
    "id_dfs = pd.read_csv('asu.tsv', sep='|')\n",
    "\n",
    "id_dfs.columns = id_dfs.columns.str.strip()\n",
    "\n",
    "# strip the spaces in the column values\n",
    "id_dfs['Star'] = id_dfs['Star'].str.strip()\n",
    "\n",
    "\n",
    "id_dfs"
   ],
   "metadata": {
    "collapsed": false,
    "pycharm": {
     "name": "#%%\n"
    }
   }
  },
  {
   "cell_type": "code",
   "execution_count": 5,
   "outputs": [],
   "source": [
    "template_set_1 = pd.read_csv('./template_set_1.csv', sep=',')\n",
    "template_set_2 = pd.read_csv('./template_set_2.csv', sep=',')\n",
    "template_set_3 = pd.read_csv('./template_set_3.csv', sep=',')\n",
    "template_set_all = pd.read_csv('./template_set_all.csv', sep=',')"
   ],
   "metadata": {
    "collapsed": false,
    "pycharm": {
     "name": "#%%\n"
    }
   }
  },
  {
   "cell_type": "code",
   "execution_count": 14,
   "outputs": [
    {
     "data": {
      "text/plain": "(39, 32, 33, 628)"
     },
     "execution_count": 14,
     "metadata": {},
     "output_type": "execute_result"
    }
   ],
   "source": [
    "len(template_set_1), len(template_set_2), len(template_set_3), len(template_set_all)"
   ],
   "metadata": {
    "collapsed": false,
    "pycharm": {
     "name": "#%%\n"
    }
   }
  },
  {
   "cell_type": "code",
   "execution_count": 6,
   "outputs": [
    {
     "data": {
      "text/plain": "(15, 17)"
     },
     "execution_count": 6,
     "metadata": {},
     "output_type": "execute_result"
    }
   ],
   "source": [
    "# check if template_set_1['names'] has common elements with template_set_2['names']\n",
    "(len(set(template_set_1['names']).intersection(set(template_set_2['names']))),\n",
    "len(set(template_set_1['names']).intersection(set(template_set_3['names']))))"
   ],
   "metadata": {
    "collapsed": false,
    "pycharm": {
     "name": "#%%\n"
    }
   }
  },
  {
   "cell_type": "code",
   "execution_count": 7,
   "outputs": [
    {
     "data": {
      "text/plain": "      weight                                              names\n0   0.022050  ../../kcwi_extractions/all_dr2_fits/xsl_spectr...\n1   0.023928  ../../kcwi_extractions/all_dr2_fits/xsl_spectr...\n2   0.013958  ../../kcwi_extractions/all_dr2_fits/xsl_spectr...\n3   0.004361  ../../kcwi_extractions/all_dr2_fits/xsl_spectr...\n4   0.049702  ../../kcwi_extractions/all_dr2_fits/xsl_spectr...\n5   0.034547  ../../kcwi_extractions/all_dr2_fits/xsl_spectr...\n6   0.083280  ../../kcwi_extractions/all_dr2_fits/xsl_spectr...\n7   0.015821  ../../kcwi_extractions/all_dr2_fits/xsl_spectr...\n8   0.025311  ../../kcwi_extractions/all_dr2_fits/xsl_spectr...\n9   0.006395  ../../kcwi_extractions/all_dr2_fits/xsl_spectr...\n10  0.005465  ../../kcwi_extractions/all_dr2_fits/xsl_spectr...\n11  0.002149  ../../kcwi_extractions/all_dr2_fits/xsl_spectr...\n12  0.010750  ../../kcwi_extractions/all_dr2_fits/xsl_spectr...\n13  0.005518  ../../kcwi_extractions/all_dr2_fits/xsl_spectr...\n14  0.003327  ../../kcwi_extractions/all_dr2_fits/xsl_spectr...\n15  0.002870  ../../kcwi_extractions/all_dr2_fits/xsl_spectr...\n16  0.011260  ../../kcwi_extractions/all_dr2_fits/xsl_spectr...\n17  0.018876  ../../kcwi_extractions/all_dr2_fits/xsl_spectr...\n18  0.012652  ../../kcwi_extractions/all_dr2_fits/xsl_spectr...\n19  0.020822  ../../kcwi_extractions/all_dr2_fits/xsl_spectr...\n20  0.022943  ../../kcwi_extractions/all_dr2_fits/xsl_spectr...\n21  0.043645  ../../kcwi_extractions/all_dr2_fits/xsl_spectr...\n22  0.035007  ../../kcwi_extractions/all_dr2_fits/xsl_spectr...\n23  0.002309  ../../kcwi_extractions/all_dr2_fits/xsl_spectr...\n24  0.000779  ../../kcwi_extractions/all_dr2_fits/xsl_spectr...\n25  0.019041  ../../kcwi_extractions/all_dr2_fits/xsl_spectr...\n26  0.092909  ../../kcwi_extractions/all_dr2_fits/xsl_spectr...\n27  0.005792  ../../kcwi_extractions/all_dr2_fits/xsl_spectr...\n28  0.002198  ../../kcwi_extractions/all_dr2_fits/xsl_spectr...\n29  0.051315  ../../kcwi_extractions/all_dr2_fits/xsl_spectr...\n30  0.007762  ../../kcwi_extractions/all_dr2_fits/xsl_spectr...\n31  0.001984  ../../kcwi_extractions/all_dr2_fits/xsl_spectr...\n32  0.175521  ../../kcwi_extractions/all_dr2_fits/xsl_spectr...\n33  0.038039  ../../kcwi_extractions/all_dr2_fits/xsl_spectr...\n34  0.094590  ../../kcwi_extractions/all_dr2_fits/xsl_spectr...\n35  0.005617  ../../kcwi_extractions/all_dr2_fits/xsl_spectr...\n36  0.012977  ../../kcwi_extractions/all_dr2_fits/xsl_spectr...\n37  0.063822  ../../kcwi_extractions/all_dr2_fits/xsl_spectr...\n38  0.003796  ../../kcwi_extractions/all_dr2_fits/xsl_spectr...",
      "text/html": "<div>\n<style scoped>\n    .dataframe tbody tr th:only-of-type {\n        vertical-align: middle;\n    }\n\n    .dataframe tbody tr th {\n        vertical-align: top;\n    }\n\n    .dataframe thead th {\n        text-align: right;\n    }\n</style>\n<table border=\"1\" class=\"dataframe\">\n  <thead>\n    <tr style=\"text-align: right;\">\n      <th></th>\n      <th>weight</th>\n      <th>names</th>\n    </tr>\n  </thead>\n  <tbody>\n    <tr>\n      <th>0</th>\n      <td>0.022050</td>\n      <td>../../kcwi_extractions/all_dr2_fits/xsl_spectr...</td>\n    </tr>\n    <tr>\n      <th>1</th>\n      <td>0.023928</td>\n      <td>../../kcwi_extractions/all_dr2_fits/xsl_spectr...</td>\n    </tr>\n    <tr>\n      <th>2</th>\n      <td>0.013958</td>\n      <td>../../kcwi_extractions/all_dr2_fits/xsl_spectr...</td>\n    </tr>\n    <tr>\n      <th>3</th>\n      <td>0.004361</td>\n      <td>../../kcwi_extractions/all_dr2_fits/xsl_spectr...</td>\n    </tr>\n    <tr>\n      <th>4</th>\n      <td>0.049702</td>\n      <td>../../kcwi_extractions/all_dr2_fits/xsl_spectr...</td>\n    </tr>\n    <tr>\n      <th>5</th>\n      <td>0.034547</td>\n      <td>../../kcwi_extractions/all_dr2_fits/xsl_spectr...</td>\n    </tr>\n    <tr>\n      <th>6</th>\n      <td>0.083280</td>\n      <td>../../kcwi_extractions/all_dr2_fits/xsl_spectr...</td>\n    </tr>\n    <tr>\n      <th>7</th>\n      <td>0.015821</td>\n      <td>../../kcwi_extractions/all_dr2_fits/xsl_spectr...</td>\n    </tr>\n    <tr>\n      <th>8</th>\n      <td>0.025311</td>\n      <td>../../kcwi_extractions/all_dr2_fits/xsl_spectr...</td>\n    </tr>\n    <tr>\n      <th>9</th>\n      <td>0.006395</td>\n      <td>../../kcwi_extractions/all_dr2_fits/xsl_spectr...</td>\n    </tr>\n    <tr>\n      <th>10</th>\n      <td>0.005465</td>\n      <td>../../kcwi_extractions/all_dr2_fits/xsl_spectr...</td>\n    </tr>\n    <tr>\n      <th>11</th>\n      <td>0.002149</td>\n      <td>../../kcwi_extractions/all_dr2_fits/xsl_spectr...</td>\n    </tr>\n    <tr>\n      <th>12</th>\n      <td>0.010750</td>\n      <td>../../kcwi_extractions/all_dr2_fits/xsl_spectr...</td>\n    </tr>\n    <tr>\n      <th>13</th>\n      <td>0.005518</td>\n      <td>../../kcwi_extractions/all_dr2_fits/xsl_spectr...</td>\n    </tr>\n    <tr>\n      <th>14</th>\n      <td>0.003327</td>\n      <td>../../kcwi_extractions/all_dr2_fits/xsl_spectr...</td>\n    </tr>\n    <tr>\n      <th>15</th>\n      <td>0.002870</td>\n      <td>../../kcwi_extractions/all_dr2_fits/xsl_spectr...</td>\n    </tr>\n    <tr>\n      <th>16</th>\n      <td>0.011260</td>\n      <td>../../kcwi_extractions/all_dr2_fits/xsl_spectr...</td>\n    </tr>\n    <tr>\n      <th>17</th>\n      <td>0.018876</td>\n      <td>../../kcwi_extractions/all_dr2_fits/xsl_spectr...</td>\n    </tr>\n    <tr>\n      <th>18</th>\n      <td>0.012652</td>\n      <td>../../kcwi_extractions/all_dr2_fits/xsl_spectr...</td>\n    </tr>\n    <tr>\n      <th>19</th>\n      <td>0.020822</td>\n      <td>../../kcwi_extractions/all_dr2_fits/xsl_spectr...</td>\n    </tr>\n    <tr>\n      <th>20</th>\n      <td>0.022943</td>\n      <td>../../kcwi_extractions/all_dr2_fits/xsl_spectr...</td>\n    </tr>\n    <tr>\n      <th>21</th>\n      <td>0.043645</td>\n      <td>../../kcwi_extractions/all_dr2_fits/xsl_spectr...</td>\n    </tr>\n    <tr>\n      <th>22</th>\n      <td>0.035007</td>\n      <td>../../kcwi_extractions/all_dr2_fits/xsl_spectr...</td>\n    </tr>\n    <tr>\n      <th>23</th>\n      <td>0.002309</td>\n      <td>../../kcwi_extractions/all_dr2_fits/xsl_spectr...</td>\n    </tr>\n    <tr>\n      <th>24</th>\n      <td>0.000779</td>\n      <td>../../kcwi_extractions/all_dr2_fits/xsl_spectr...</td>\n    </tr>\n    <tr>\n      <th>25</th>\n      <td>0.019041</td>\n      <td>../../kcwi_extractions/all_dr2_fits/xsl_spectr...</td>\n    </tr>\n    <tr>\n      <th>26</th>\n      <td>0.092909</td>\n      <td>../../kcwi_extractions/all_dr2_fits/xsl_spectr...</td>\n    </tr>\n    <tr>\n      <th>27</th>\n      <td>0.005792</td>\n      <td>../../kcwi_extractions/all_dr2_fits/xsl_spectr...</td>\n    </tr>\n    <tr>\n      <th>28</th>\n      <td>0.002198</td>\n      <td>../../kcwi_extractions/all_dr2_fits/xsl_spectr...</td>\n    </tr>\n    <tr>\n      <th>29</th>\n      <td>0.051315</td>\n      <td>../../kcwi_extractions/all_dr2_fits/xsl_spectr...</td>\n    </tr>\n    <tr>\n      <th>30</th>\n      <td>0.007762</td>\n      <td>../../kcwi_extractions/all_dr2_fits/xsl_spectr...</td>\n    </tr>\n    <tr>\n      <th>31</th>\n      <td>0.001984</td>\n      <td>../../kcwi_extractions/all_dr2_fits/xsl_spectr...</td>\n    </tr>\n    <tr>\n      <th>32</th>\n      <td>0.175521</td>\n      <td>../../kcwi_extractions/all_dr2_fits/xsl_spectr...</td>\n    </tr>\n    <tr>\n      <th>33</th>\n      <td>0.038039</td>\n      <td>../../kcwi_extractions/all_dr2_fits/xsl_spectr...</td>\n    </tr>\n    <tr>\n      <th>34</th>\n      <td>0.094590</td>\n      <td>../../kcwi_extractions/all_dr2_fits/xsl_spectr...</td>\n    </tr>\n    <tr>\n      <th>35</th>\n      <td>0.005617</td>\n      <td>../../kcwi_extractions/all_dr2_fits/xsl_spectr...</td>\n    </tr>\n    <tr>\n      <th>36</th>\n      <td>0.012977</td>\n      <td>../../kcwi_extractions/all_dr2_fits/xsl_spectr...</td>\n    </tr>\n    <tr>\n      <th>37</th>\n      <td>0.063822</td>\n      <td>../../kcwi_extractions/all_dr2_fits/xsl_spectr...</td>\n    </tr>\n    <tr>\n      <th>38</th>\n      <td>0.003796</td>\n      <td>../../kcwi_extractions/all_dr2_fits/xsl_spectr...</td>\n    </tr>\n  </tbody>\n</table>\n</div>"
     },
     "execution_count": 7,
     "metadata": {},
     "output_type": "execute_result"
    }
   ],
   "source": [
    "template_set_1"
   ],
   "metadata": {
    "collapsed": false,
    "pycharm": {
     "name": "#%%\n"
    }
   }
  },
  {
   "cell_type": "code",
   "execution_count": 8,
   "outputs": [
    {
     "data": {
      "text/plain": "Index(['#', 'obj tags', 'obj count', 'raw id', 'identifier', 'typ',\n       'coord1 (ICRS,J2000/2000)', 'spec. type', '#bib', '#not'],\n      dtype='object')"
     },
     "execution_count": 8,
     "metadata": {},
     "output_type": "execute_result"
    }
   ],
   "source": [
    "df_master.columns"
   ],
   "metadata": {
    "collapsed": false,
    "pycharm": {
     "name": "#%%\n"
    }
   }
  },
  {
   "cell_type": "code",
   "execution_count": 9,
   "outputs": [],
   "source": [
    "# for each row in templates_set_1, get names and find the index of id_dfs\n",
    "# with the same name in id_dfs['XSLID']\n",
    "\n",
    "# add column to template_set_1\n",
    "def fill_star_types(template_set):\n",
    "    \"\"\"\n",
    "\n",
    "    \"\"\"\n",
    "    template_set['type'] = '~'\n",
    "\n",
    "    for i in range(len(template_set)):\n",
    "\n",
    "        xsl_id = template_set['names'][i][-14:-9]\n",
    "        index = id_dfs[id_dfs['XSLID'] == xsl_id].index[0]\n",
    "        star_name = id_dfs['Star'][index]\n",
    "\n",
    "        index2 = df_master[df_master['identifier'] == star_name].index\n",
    "\n",
    "        if len(index2) > 0:\n",
    "            stellar_type = df_master['spec. type'][index2[0]]\n",
    "            template_set['type'][i] = stellar_type[0].upper()\n",
    "        else:\n",
    "            print('Not found', index, star_name, index2)\n",
    "\n",
    "    return template_set\n"
   ],
   "metadata": {
    "collapsed": false,
    "pycharm": {
     "name": "#%%\n"
    }
   }
  },
  {
   "cell_type": "code",
   "execution_count": 10,
   "outputs": [
    {
     "name": "stderr",
     "output_type": "stream",
     "text": [
      "/var/folders/ry/23z2z0bd7_d814t1jlq8ydlw0000gn/T/ipykernel_36943/2428269031.py:21: SettingWithCopyWarning: \n",
      "A value is trying to be set on a copy of a slice from a DataFrame\n",
      "\n",
      "See the caveats in the documentation: https://pandas.pydata.org/pandas-docs/stable/user_guide/indexing.html#returning-a-view-versus-a-copy\n",
      "  template_set['type'][i] = stellar_type[0].upper()\n",
      "/var/folders/ry/23z2z0bd7_d814t1jlq8ydlw0000gn/T/ipykernel_36943/2428269031.py:21: SettingWithCopyWarning: \n",
      "A value is trying to be set on a copy of a slice from a DataFrame\n",
      "\n",
      "See the caveats in the documentation: https://pandas.pydata.org/pandas-docs/stable/user_guide/indexing.html#returning-a-view-versus-a-copy\n",
      "  template_set['type'][i] = stellar_type[0].upper()\n",
      "/var/folders/ry/23z2z0bd7_d814t1jlq8ydlw0000gn/T/ipykernel_36943/2428269031.py:21: SettingWithCopyWarning: \n",
      "A value is trying to be set on a copy of a slice from a DataFrame\n",
      "\n",
      "See the caveats in the documentation: https://pandas.pydata.org/pandas-docs/stable/user_guide/indexing.html#returning-a-view-versus-a-copy\n",
      "  template_set['type'][i] = stellar_type[0].upper()\n",
      "/var/folders/ry/23z2z0bd7_d814t1jlq8ydlw0000gn/T/ipykernel_36943/2428269031.py:21: SettingWithCopyWarning: \n",
      "A value is trying to be set on a copy of a slice from a DataFrame\n",
      "\n",
      "See the caveats in the documentation: https://pandas.pydata.org/pandas-docs/stable/user_guide/indexing.html#returning-a-view-versus-a-copy\n",
      "  template_set['type'][i] = stellar_type[0].upper()\n"
     ]
    },
    {
     "name": "stdout",
     "output_type": "stream",
     "text": [
      "Not found 593 2MASS J18093344-3145250 Int64Index([], dtype='int64')\n",
      "Not found 536 OGLEII DIA BUL-SC03 1890 Int64Index([], dtype='int64')\n",
      "Not found 672 HD 232078 Int64Index([], dtype='int64')\n",
      "Not found 568 CL* NGC 6522 ARP 1021 Int64Index([], dtype='int64')\n",
      "Not found 605 RY CrA Int64Index([], dtype='int64')\n",
      "Not found 739 HIP 103039 Int64Index([], dtype='int64')\n",
      "Not found 137 [PHS2008] RGB 522 Int64Index([], dtype='int64')\n",
      "Not found 690 NGC 6838 1066 Int64Index([], dtype='int64')\n",
      "Not found 591 2MASS J18093159-3150397 Int64Index([], dtype='int64')\n",
      "Not found 560 CL* NGC 6522 ARP 4126 Int64Index([], dtype='int64')\n",
      "Not found 496 CL* NGC 6121 LEE 4302 Int64Index([], dtype='int64')\n",
      "Not found 590 2MASS J18092323-3141039 Int64Index([], dtype='int64')\n",
      "Not found 77 HD 16232 Int64Index([], dtype='int64')\n",
      "Not found 568 CL* NGC 6522 ARP 1021 Int64Index([], dtype='int64')\n",
      "Not found 506 HIP 84123 Int64Index([], dtype='int64')\n",
      "Not found 417 G063-026 Int64Index([], dtype='int64')\n",
      "Not found 266 AL Mon Int64Index([], dtype='int64')\n",
      "Not found 137 [PHS2008] RGB 522 Int64Index([], dtype='int64')\n",
      "Not found 505 G019-013 Int64Index([], dtype='int64')\n",
      "Not found 717 HIP 100047 Int64Index([], dtype='int64')\n",
      "Not found 24 CL* NGC 288 OCH 531 Int64Index([], dtype='int64')\n",
      "Not found 722 V335 Aql Int64Index([], dtype='int64')\n",
      "Not found 512 RR Ara Int64Index([], dtype='int64')\n",
      "Not found 590 2MASS J18092323-3141039 Int64Index([], dtype='int64')\n",
      "Not found 77 HD 16232 Int64Index([], dtype='int64')\n",
      "Not found 536 OGLEII DIA BUL-SC03 1890 Int64Index([], dtype='int64')\n",
      "Not found 672 HD 232078 Int64Index([], dtype='int64')\n",
      "Not found 119 HV 2255 Int64Index([], dtype='int64')\n",
      "Not found 605 RY CrA Int64Index([], dtype='int64')\n",
      "Not found 495 CL* NGC 6121 LEE 4302 Int64Index([], dtype='int64')\n",
      "Not found 739 HIP 103039 Int64Index([], dtype='int64')\n",
      "Not found 362 HD 99491 Int64Index([], dtype='int64')\n",
      "Not found 493 CL* NGC 6121 LEE 2626 Int64Index([], dtype='int64')\n",
      "Not found 591 2MASS J18093159-3150397 Int64Index([], dtype='int64')\n",
      "Not found 526 V348 Sco Int64Index([], dtype='int64')\n",
      "Not found 414 HIP 64965 Int64Index([], dtype='int64')\n",
      "Not found 496 CL* NGC 6121 LEE 4302 Int64Index([], dtype='int64')\n",
      "Not found 370 UZ Cen Int64Index([], dtype='int64')\n",
      "Not found 492 CL* NGC 6121 LEE 2626 Int64Index([], dtype='int64')\n",
      "Not found 485 HD 144921 Int64Index([], dtype='int64')\n",
      "Not found 534 OGLEII DIA BUL-SC03 3941 Int64Index([], dtype='int64')\n",
      "Not found 593 2MASS J18093344-3145250 Int64Index([], dtype='int64')\n",
      "Not found 693 NGC 6838 1063 Int64Index([], dtype='int64')\n",
      "Not found 537 2MASS J17535707-2931427 Int64Index([], dtype='int64')\n",
      "Not found 66 [M2002] SMC 83593 Int64Index([], dtype='int64')\n",
      "Not found 536 OGLEII DIA BUL-SC03 1890 Int64Index([], dtype='int64')\n",
      "Not found 471 X Lib Int64Index([], dtype='int64')\n",
      "Not found 672 HD 232078 Int64Index([], dtype='int64')\n",
      "Not found 778 DG Peg Int64Index([], dtype='int64')\n",
      "Not found 567 CL* NGC 6522 ARP 1021 Int64Index([], dtype='int64')\n",
      "Not found 568 CL* NGC 6522 ARP 1021 Int64Index([], dtype='int64')\n",
      "Not found 466 HIP 75423 Int64Index([], dtype='int64')\n",
      "Not found 689 NGC 6838 1066 Int64Index([], dtype='int64')\n",
      "Not found 688 NGC 6838 1066 Int64Index([], dtype='int64')\n",
      "Not found 393 G013-035 Int64Index([], dtype='int64')\n",
      "Not found 119 HV 2255 Int64Index([], dtype='int64')\n",
      "Not found 506 HIP 84123 Int64Index([], dtype='int64')\n",
      "Not found 488 CPD-53 07400f Int64Index([], dtype='int64')\n",
      "Not found 474 HD 139717 Int64Index([], dtype='int64')\n",
      "Not found 473 HD 140232 Int64Index([], dtype='int64')\n",
      "Not found 47 CL* NGC 371 FTW R20 Int64Index([], dtype='int64')\n",
      "Not found 332 CM Car Int64Index([], dtype='int64')\n",
      "Not found 210 [M2002] LMC 170452 Int64Index([], dtype='int64')\n",
      "Not found 696 NGC 6838 1037 Int64Index([], dtype='int64')\n",
      "Not found 697 NGC 6838 1037 Int64Index([], dtype='int64')\n",
      "Not found 302 HD 69701 Int64Index([], dtype='int64')\n",
      "Not found 222 SHV 0549503-704331 Int64Index([], dtype='int64')\n",
      "Not found 538 OGLEII DIA BUL-SC04 9008 Int64Index([], dtype='int64')\n",
      "Not found 200 [M2002] LMC 159974 Int64Index([], dtype='int64')\n",
      "Not found 417 G063-026 Int64Index([], dtype='int64')\n",
      "Not found 284 HD 61064 Int64Index([], dtype='int64')\n",
      "Not found 770 G188-22 Int64Index([], dtype='int64')\n",
      "Not found 528 SY Pav Int64Index([], dtype='int64')\n",
      "Not found 513 FR Her Int64Index([], dtype='int64')\n",
      "Not found 755 G187-40 Int64Index([], dtype='int64')\n",
      "Not found 266 AL Mon Int64Index([], dtype='int64')\n",
      "Not found 19 ISO-MCMS J004932.4-731753 Int64Index([], dtype='int64')\n",
      "Not found 207 [M2002] LMC 162635 Int64Index([], dtype='int64')\n",
      "Not found 2 HD 224926 Int64Index([], dtype='int64')\n",
      "Not found 605 RY CrA Int64Index([], dtype='int64')\n",
      "Not found 698 NGC 6838 1039 Int64Index([], dtype='int64')\n",
      "Not found 763 NGC 7078 1079 Int64Index([], dtype='int64')\n",
      "Not found 495 CL* NGC 6121 LEE 4302 Int64Index([], dtype='int64')\n",
      "Not found 355 U Crt Int64Index([], dtype='int64')\n",
      "Not found 390 G012-021 Int64Index([], dtype='int64')\n",
      "Not found 486 HD 144921 Int64Index([], dtype='int64')\n",
      "Not found 367 CD-60 3621 Int64Index([], dtype='int64')\n",
      "Not found 659 HD 179315 Int64Index([], dtype='int64')\n",
      "Not found 529 SY Pav Int64Index([], dtype='int64')\n",
      "Not found 530 SY Pav Int64Index([], dtype='int64')\n",
      "Not found 68 HD 9356 Int64Index([], dtype='int64')\n",
      "Not found 597 XZ Her Int64Index([], dtype='int64')\n",
      "Not found 700 NGC 6838 1009 Int64Index([], dtype='int64')\n",
      "Not found 245 HD 44770 Int64Index([], dtype='int64')\n",
      "Not found 680 CL* NGC 6838 AH A9 Int64Index([], dtype='int64')\n",
      "Not found 735 BPS CS 30336-049 Int64Index([], dtype='int64')\n",
      "Not found 561 CL* NGC 6522 Arp 4329 Int64Index([], dtype='int64')\n",
      "Not found 565 CL* NGC 6522 ARP 3213 Int64Index([], dtype='int64')\n",
      "Not found 527 SY Pav Int64Index([], dtype='int64')\n",
      "Not found 8 CL* NGC 121 T V8 Int64Index([], dtype='int64')\n",
      "Not found 9 CL* NGC 121 T V1 Int64Index([], dtype='int64')\n",
      "Not found 739 HIP 103039 Int64Index([], dtype='int64')\n",
      "Not found 716 HIP 100047 Int64Index([], dtype='int64')\n",
      "Not found 44 [M2002] SMC 46662 Int64Index([], dtype='int64')\n",
      "Not found 137 [PHS2008] RGB 522 Int64Index([], dtype='int64')\n",
      "Not found 50 [M2002] SMC 55188 Int64Index([], dtype='int64')\n",
      "Not found 505 G019-013 Int64Index([], dtype='int64')\n",
      "Not found 61 U Psc Int64Index([], dtype='int64')\n",
      "Not found 85 HD 18769 Int64Index([], dtype='int64')\n",
      "Not found 429 HIP 66993 Int64Index([], dtype='int64')\n",
      "Not found 491 CL* NGC 6121 LEE 2626 Int64Index([], dtype='int64')\n",
      "Not found 717 HIP 100047 Int64Index([], dtype='int64')\n",
      "Not found 139 HV 2360 Int64Index([], dtype='int64')\n",
      "Not found 362 HD 99491 Int64Index([], dtype='int64')\n",
      "Not found 408 LHS 343 Int64Index([], dtype='int64')\n",
      "Not found 361 HD 99329 Int64Index([], dtype='int64')\n",
      "Not found 416 HD 116544 Int64Index([], dtype='int64')\n",
      "Not found 784 G018-039 Int64Index([], dtype='int64')\n",
      "Not found 609 HD 170756 Int64Index([], dtype='int64')\n",
      "Not found 712 HD 190390 Int64Index([], dtype='int64')\n",
      "Not found 694 NGC 6838 1063 Int64Index([], dtype='int64')\n",
      "Not found 243 LHS 1841 Int64Index([], dtype='int64')\n",
      "Not found 199 [M2002] LMC 158646 Int64Index([], dtype='int64')\n",
      "Not found 420 CL* NGC 5139 SAW V1 Int64Index([], dtype='int64')\n",
      "Not found 174 HV 2555 Int64Index([], dtype='int64')\n",
      "Not found 690 NGC 6838 1066 Int64Index([], dtype='int64')\n",
      "Not found 679 CL* NGC 6838 AH A9 Int64Index([], dtype='int64')\n",
      "Not found 493 CL* NGC 6121 LEE 2626 Int64Index([], dtype='int64')\n",
      "Not found 594 OGLE 204664c4 Int64Index([], dtype='int64')\n",
      "Not found 591 2MASS J18093159-3150397 Int64Index([], dtype='int64')\n",
      "Not found 785 HD 212516 Int64Index([], dtype='int64')\n",
      "Not found 176 CL* NGC 1978 LE 09 Int64Index([], dtype='int64')\n",
      "Not found 677 NGC 6838 1078 Int64Index([], dtype='int64')\n",
      "Not found 421 CL* NGC 5139 SAW V1 Int64Index([], dtype='int64')\n",
      "Not found 444 HD 126661 Int64Index([], dtype='int64')\n",
      "Not found 467 HIP 75423 Int64Index([], dtype='int64')\n",
      "Not found 146 SHV 0518331-685102 Int64Index([], dtype='int64')\n",
      "Not found 34 CL* NGC 330 ROB B38 Int64Index([], dtype='int64')\n",
      "Not found 24 CL* NGC 288 OCH 531 Int64Index([], dtype='int64')\n",
      "Not found 563 V5475 Sgr Int64Index([], dtype='int64')\n",
      "Not found 638 BH Tel Int64Index([], dtype='int64')\n",
      "Not found 376 LHS 2463 Int64Index([], dtype='int64')\n",
      "Not found 285 HD 61064 Int64Index([], dtype='int64')\n",
      "Not found 309 HD 72968 Int64Index([], dtype='int64')\n",
      "Not found 722 V335 Aql Int64Index([], dtype='int64')\n",
      "Not found 209 [M2002] LMC 168757 Int64Index([], dtype='int64')\n",
      "Not found 671 HD 232078 Int64Index([], dtype='int64')\n",
      "Not found 13 HD 3008 Int64Index([], dtype='int64')\n",
      "Not found 334 IRAS 09484-6242 Int64Index([], dtype='int64')\n",
      "Not found 169 SHV 0526364-693639 Int64Index([], dtype='int64')\n",
      "Not found 487 CPD-53 07400f Int64Index([], dtype='int64')\n",
      "Not found 497 CL* NGC 6121 LEE 4611 Int64Index([], dtype='int64')\n",
      "Not found 1 HD 224926 Int64Index([], dtype='int64')\n",
      "Not found 503 G169-28 Int64Index([], dtype='int64')\n",
      "Not found 67 HD 9356 Int64Index([], dtype='int64')\n",
      "Not found 27 ISO-MCMS J005307.8-730747 Int64Index([], dtype='int64')\n",
      "Not found 82 BD+09 0352 Int64Index([], dtype='int64')\n",
      "Not found 464 CL* NGC 5904 Arp III-03 Int64Index([], dtype='int64')\n",
      "Not found 465 CL* NGC 5904 Arp IV-19 Int64Index([], dtype='int64')\n",
      "Not found 667 CD-24 15398 Int64Index([], dtype='int64')\n",
      "Not found 526 V348 Sco Int64Index([], dtype='int64')\n",
      "Not found 101 HD 27295 Int64Index([], dtype='int64')\n",
      "Not found 42 ISO-MCMS J005716.5-731052 Int64Index([], dtype='int64')\n",
      "Not found 414 HIP 64965 Int64Index([], dtype='int64')\n",
      "Not found 140 [PHS2008] RGB 533 Int64Index([], dtype='int64')\n",
      "Not found 695 NGC 6838 1037 Int64Index([], dtype='int64')\n",
      "Not found 673 HIP 96710 Int64Index([], dtype='int64')\n",
      "Not found 409 HD 112374 Int64Index([], dtype='int64')\n",
      "Not found 564 CL* NGC 6522 ARP 3190 Int64Index([], dtype='int64')\n",
      "Not found 378 LHS 318 Int64Index([], dtype='int64')\n",
      "Not found 569 CL* NGC 6522 ARP 1073 Int64Index([], dtype='int64')\n",
      "Not found 521 G20-15 Int64Index([], dtype='int64')\n",
      "Not found 499 CL* NGC 6121 LEE 4613 Int64Index([], dtype='int64')\n",
      "Not found 498 CL* NGC 6121 LEE 4611 Int64Index([], dtype='int64')\n",
      "Not found 703 CL* NGC 6838 AH A2 Int64Index([], dtype='int64')\n",
      "Not found 658 HD 178287 Int64Index([], dtype='int64')\n",
      "Not found 394 G013-035 Int64Index([], dtype='int64')\n",
      "Not found 188 [M2002] LMC 150040 Int64Index([], dtype='int64')\n",
      "Not found 136 [PHS2008] RGB 512 Int64Index([], dtype='int64')\n",
      "Not found 702 CL* NGC 6838 AH A2 Int64Index([], dtype='int64')\n",
      "Not found 577 HD 165195 Int64Index([], dtype='int64')\n",
      "Not found 25 CL* NGC 288 OCH 531 Int64Index([], dtype='int64')\n",
      "Not found 98 BD+06 0648 Int64Index([], dtype='int64')\n",
      "Not found 443 HIP 70472 Int64Index([], dtype='int64')\n",
      "Not found 512 RR Ara Int64Index([], dtype='int64')\n",
      "Not found 263 CL* NGC 2324 BSV 10828 Int64Index([], dtype='int64')\n",
      "Not found 78 HD 16456 Int64Index([], dtype='int64')\n",
      "Not found 187 [M2002] LMC 148035 Int64Index([], dtype='int64')\n",
      "Not found 179 [M2002] LMC 143035 Int64Index([], dtype='int64')\n",
      "Not found 397 HD 109307 Int64Index([], dtype='int64')\n",
      "Not found 636 G021-024 Int64Index([], dtype='int64')\n",
      "Not found 560 CL* NGC 6522 ARP 4126 Int64Index([], dtype='int64')\n",
      "Not found 407 HD 111786 Int64Index([], dtype='int64')\n",
      "Not found 740 BD-14 5890 Int64Index([], dtype='int64')\n",
      "Not found 289 CD-31 4916 Int64Index([], dtype='int64')\n",
      "Not found 311 HD 73665 Int64Index([], dtype='int64')\n",
      "Not found 33 CL* NGC 330 ROB A3 Int64Index([], dtype='int64')\n",
      "Not found 676 Y Sge Int64Index([], dtype='int64')\n",
      "Not found 401 V Crv Int64Index([], dtype='int64')\n",
      "Not found 301 HD 69701 Int64Index([], dtype='int64')\n",
      "Not found 496 CL* NGC 6121 LEE 4302 Int64Index([], dtype='int64')\n",
      "Not found 449 IRAS 14303-1042 Int64Index([], dtype='int64')\n",
      "Not found 713 G024-003 Int64Index([], dtype='int64')\n",
      "Not found 634 V874 Aql Int64Index([], dtype='int64')\n",
      "Not found 352 CI Vel Int64Index([], dtype='int64')\n",
      "Not found 49 [M2002] SMC 52334 Int64Index([], dtype='int64')\n",
      "Not found 120 HV 2255 Int64Index([], dtype='int64')\n",
      "Not found 472 X Lib Int64Index([], dtype='int64')\n",
      "Not found 482 HD 142703 Int64Index([], dtype='int64')\n",
      "Not found 590 2MASS J18092323-3141039 Int64Index([], dtype='int64')\n",
      "Not found 382 LHS 320 Int64Index([], dtype='int64')\n",
      "Not found 377 V354 Cen Int64Index([], dtype='int64')\n",
      "Not found 803 G029-023 Int64Index([], dtype='int64')\n",
      "Not found 118 HV 2255 Int64Index([], dtype='int64')\n",
      "Not found 161 SHV 0523371-713351 Int64Index([], dtype='int64')\n",
      "Not found 83 GJ 109 Int64Index([], dtype='int64')\n",
      "Not found 77 HD 16232 Int64Index([], dtype='int64')\n",
      "Not found 554 OGLEII DIA BUL-SC01 1821 Int64Index([], dtype='int64')\n",
      "Not found 299 HD 66776 Int64Index([], dtype='int64')\n",
      "Not found 592 2MASS J18093159-3150397 Int64Index([], dtype='int64')\n",
      "Not found 494 CL* NGC 6121 LEE 2303 Int64Index([], dtype='int64')\n",
      "Not found 589 2MASS J18092055-3147006 Int64Index([], dtype='int64')\n",
      "Not found 483 HD 143459 Int64Index([], dtype='int64')\n",
      "Not found 678 NGC 6838 1078 Int64Index([], dtype='int64')\n",
      "Not found 198 [M2002] LMC 157533 Int64Index([], dtype='int64')\n"
     ]
    }
   ],
   "source": [
    "template_set_1 = fill_star_types(template_set_1)\n",
    "template_set_2 = fill_star_types(template_set_2)\n",
    "template_set_3 = fill_star_types(template_set_3)\n",
    "template_set_all = fill_star_types(template_set_all)"
   ],
   "metadata": {
    "collapsed": false,
    "pycharm": {
     "name": "#%%\n"
    }
   }
  },
  {
   "cell_type": "code",
   "execution_count": 11,
   "outputs": [],
   "source": [
    "import paperfig as pf\n",
    "\n",
    "pf.set_fontscale(2)"
   ],
   "metadata": {
    "collapsed": false,
    "pycharm": {
     "name": "#%%\n"
    }
   }
  },
  {
   "cell_type": "code",
   "execution_count": 12,
   "outputs": [],
   "source": [
    "# replace 'R' with '~' in template_set_all['type']\n",
    "template_set_all['type'] = template_set_all['type'].replace('R', '~')"
   ],
   "metadata": {
    "collapsed": false,
    "pycharm": {
     "name": "#%%\n"
    }
   }
  },
  {
   "cell_type": "code",
   "execution_count": 13,
   "outputs": [
    {
     "data": {
      "text/plain": "<Figure size 664.177x410.484 with 1 Axes>",
      "image/png": "[encoded data removed]"
     },
     "metadata": {},
     "output_type": "display_data"
    }
   ],
   "source": [
    "import numpy as np\n",
    "\n",
    "labels = ['O', 'B', 'A', 'F', 'G', 'K', 'M', 'L', 'S', 'C', '~']\n",
    "\n",
    "def plot_hist(template_set, ax, color='k', alpha=0.5, label='',offset=0):\n",
    "    \"\"\"\n",
    "\n",
    "    \"\"\"\n",
    "    types = template_set['type']\n",
    "    types = np.array([labels.index(t) for t in types]) + offset\n",
    "\n",
    "    d = np.diff(np.unique(types)).min() / 4\n",
    "    left_of_first_bin = types.min() - float(d)/2\n",
    "    right_of_last_bin = types.max() + float(d)/2\n",
    "    ax.hist(types, weights=template_set['weight'],\n",
    "            bins=np.arange(left_of_first_bin, right_of_last_bin + d, d),\n",
    "            density=True, histtype='bar', color=color, alpha=alpha,\n",
    "            label=label)\n",
    "\n",
    "\n",
    "fig = plt.figure(figsize=pf.get_fig_size(pf.mnras_colwidth*2))\n",
    "ax = fig.add_subplot(111)\n",
    "\n",
    "plot_hist(template_set_all, ax, pf.cb_grey, 0.8, 'All', -0.375)\n",
    "plot_hist(template_set_1, ax, pf.cb_orange, 0.8, 'Set 1', -0.125)\n",
    "plot_hist(template_set_2, ax, pf.cb_blue, 0.8, 'Set 2', 0.125)\n",
    "plot_hist(template_set_3, ax, pf.cb2_emerald, 0.8, 'Set 3', 0.375)\n",
    "\n",
    "for i in range(len(labels)):\n",
    "    # if i is even\n",
    "    if i % 2 == 0:\n",
    "        ax.axvspan(i-0.5, i+.5, color='grey', alpha=0.1, zorder=-1)\n",
    "ax.set_xticks(np.arange(len(labels)), labels);\n",
    "ax.set_xlabel('Stellar type')\n",
    "ax.set_ylabel('Normalized density')\n",
    "ax.set_xlim(-0.7, 10.7)\n",
    "ax.legend()\n",
    "\n",
    "fig.savefig('/Users/ajshajib/Dropbox/Papers_Proposals/rxj1131_kcwi/figures'\n",
    "            '/stellar_types.pdf', bbox_inches='tight')"
   ],
   "metadata": {
    "collapsed": false,
    "pycharm": {
     "name": "#%%\n"
    }
   }
  },
  {
   "cell_type": "code",
   "execution_count": 13,
   "outputs": [],
   "source": [],
   "metadata": {
    "collapsed": false,
    "pycharm": {
     "name": "#%%\n"
    }
   }
  }
 ],
 "metadata": {
  "kernelspec": {
   "display_name": "Python 3",
   "language": "python",
   "name": "python3"
  },
  "language_info": {
   "codemirror_mode": {
    "name": "ipython",
    "version": 2
   },
   "file_extension": ".py",
   "mimetype": "text/x-python",
   "name": "python",
   "nbconvert_exporter": "python",
   "pygments_lexer": "ipython2",
   "version": "2.7.6"
  }
 },
 "nbformat": 4,
 "nbformat_minor": 0
}