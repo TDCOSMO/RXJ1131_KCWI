{
 "cells": [
  {
   "cell_type": "markdown",
   "id": "6cd101b5",
   "metadata": {},
   "source": [
    "# load KCWI measurements"
   ]
  },
  {
   "cell_type": "code",
   "execution_count": 1,
   "id": "1d1e4e18",
   "metadata": {},
   "outputs": [],
   "source": [
    "import astropy.io.fits as fits\n",
    "import matplotlib.pyplot as plt\n",
    "from mpl_toolkits.axes_grid1 import make_axes_locatable\n",
    "import numpy as np"
   ]
  },
  {
   "cell_type": "code",
   "execution_count": 2,
   "id": "400fe23f",
   "metadata": {},
   "outputs": [],
   "source": [
    "from output_class import ModelOutput"
   ]
  },
  {
   "cell_type": "code",
   "execution_count": 3,
   "id": "f5e9833c",
   "metadata": {},
   "outputs": [],
   "source": [
    "#dyn_model_slit = ModelOutput('./model_chain/combined_chain_HST.txt')"
   ]
  },
  {
   "cell_type": "code",
   "execution_count": 4,
   "id": "14c6313a",
   "metadata": {},
   "outputs": [],
   "source": [
    "dyn_model = ModelOutput('../lens_model_chain/multivariate_gaussian_resampled_chain.txt', cgd=True)"
   ]
  },
  {
   "cell_type": "markdown",
   "id": "4ea627e9",
   "metadata": {},
   "source": [
    "## test single aperture calculation"
   ]
  },
  {
   "cell_type": "code",
   "execution_count": 5,
   "id": "fc76fe0f",
   "metadata": {},
   "outputs": [
    {
     "data": {
      "text/plain": [
       "<matplotlib.image.AxesImage at 0x160c69a90>"
      ]
     },
     "execution_count": 5,
     "metadata": {},
     "output_type": "execute_result"
    },
    {
     "data": {
      "image/png": "[encoded data removed]",
      "text/plain": [
       "<Figure size 288x288 with 1 Axes>"
      ]
     },
     "metadata": {
      "needs_background": "light"
     },
     "output_type": "display_data"
    }
   ],
   "source": [
    "binning = np.zeros((43, 43))\n",
    "\n",
    "binning[22-3:22+4, 23-2:23+3] = np.ones((7, 5))\n",
    "\n",
    "plt.matshow(binning, origin='lower')"
   ]
  },
  {
   "cell_type": "markdown",
   "id": "e36739eb",
   "metadata": {},
   "source": [
    "### test single aperture vs Voronoi binning"
   ]
  },
  {
   "cell_type": "code",
   "execution_count": 6,
   "id": "fa002539",
   "metadata": {},
   "outputs": [
    {
     "name": "stdout",
     "output_type": "stream",
     "text": [
      "[[312.88135656]] [312.25570462]\n"
     ]
    }
   ],
   "source": [
    "for i in range(1):\n",
    "    np.random.seed(i)\n",
    "    a = dyn_model.compute_galkin_velocity_dispersion(start_index=1, num_compute=1, supersampling_factor=5, \n",
    "                                                    analytic_kinematics=False, #True,\n",
    "                                                    single_slit=False,\n",
    "                                                    voronoi_bins=binning - 1 #binning-1\n",
    "                                                   )\n",
    "    \n",
    "    np.random.seed(i)\n",
    "    b = dyn_model.compute_galkin_velocity_dispersion(start_index=1, num_compute=1, supersampling_factor=5, \n",
    "                                                    analytic_kinematics=False, #True,\n",
    "                                                    single_slit=True,\n",
    "                                                    voronoi_bins=binning - 1, #binning-1\n",
    "                                                    #is_spherical=True\n",
    "                                                   )\n",
    "    \n",
    "    print(a, b)"
   ]
  },
  {
   "cell_type": "markdown",
   "id": "9203e145",
   "metadata": {},
   "source": [
    "### test single-aperture-like Voronoi bins in galkin vs jampy"
   ]
  },
  {
   "cell_type": "code",
   "execution_count": 7,
   "id": "c671a95d",
   "metadata": {},
   "outputs": [
    {
     "name": "stdout",
     "output_type": "stream",
     "text": [
      "Residuals > 10%: Change `inner_slope` or `outer_slope` or increase `ngauss`\n",
      "312.881356559468 305.33314994120997\n"
     ]
    }
   ],
   "source": [
    "for i in range(1):\n",
    "    np.random.seed(i)\n",
    "    a = dyn_model.compute_galkin_velocity_dispersion(start_index=1, num_compute=1, supersampling_factor=5, \n",
    "                                                    analytic_kinematics=False, #True,\n",
    "                                                    single_slit=False,\n",
    "                                                    voronoi_bins=binning - 1 #binning-1\n",
    "                                                   )\n",
    "    \n",
    "    np.random.seed(i)\n",
    "    b = dyn_model.compute_jampy_velocity_dispersion(start_index=1, num_compute=1, supersampling_factor=5, \n",
    "                                                    analytic_kinematics=False, #True,\n",
    "                                                    single_slit=False,\n",
    "                                                    voronoi_bins=binning - 1, #binning-1\n",
    "                                                    is_spherical=True\n",
    "                                                   )\n",
    "    \n",
    "    print(a[0][0], b[0][0])"
   ]
  },
  {
   "cell_type": "markdown",
   "id": "e45939ac",
   "metadata": {},
   "source": [
    "## IFU test"
   ]
  },
  {
   "cell_type": "markdown",
   "id": "0ef87ac8",
   "metadata": {},
   "source": [
    "### constant"
   ]
  },
  {
   "cell_type": "code",
   "execution_count": 9,
   "id": "0082eeca",
   "metadata": {
    "scrolled": false
   },
   "outputs": [
    {
     "name": "stdout",
     "output_type": "stream",
     "text": [
      "(1, 1849)\n",
      "[2.0032418309821973, 2.0032418309821973, 2.0032418309821973, 4.0328760565794, 0.714142842854285, 0.714142842854285, 0.714142842854285]\n",
      "Residuals > 10%: Change `inner_slope` or `outer_slope` or increase `ngauss`\n",
      "[2.0032418309821973, 2.0032418309821973, 2.0032418309821973, 4.0328760565794, 0.714142842854285, 0.714142842854285, 0.714142842854285, 0.714142842854285]\n"
     ]
    },
    {
     "data": {
      "image/png": "[encoded data removed]",
      "text/plain": [
       "<Figure size 720x432 with 6 Axes>"
      ]
     },
     "metadata": {
      "needs_background": "light"
     },
     "output_type": "display_data"
    }
   ],
   "source": [
    "dyn_model.PSF_FWHM = 0.7\n",
    "\n",
    "for i in range(10):\n",
    "    np.random.seed(i)\n",
    "    a = dyn_model.compute_galkin_velocity_dispersion(start_index=0, num_compute=1, supersampling_factor=5, \n",
    "                                                    analytic_kinematics=False, #True,\n",
    "                                                    single_slit=False,\n",
    "                                                    voronoi_bins=None, #binning-1\n",
    "                                                    anisotropy_model='constant',\n",
    "                                                    debug=True, set_beta=0.49\n",
    "                                                   )\n",
    "    print(a.shape)\n",
    "    print(dyn_model.ani_param)\n",
    "    np.random.seed(i)\n",
    "    b = dyn_model.compute_jampy_velocity_dispersion(start_index=0, num_compute=1, supersampling_factor=5, \n",
    "                                                    analytic_kinematics=False, #True,\n",
    "                                                    #single_slit=True,\n",
    "                                                    voronoi_bins=None, #binning-1\n",
    "                                                    is_spherical=True,\n",
    "                                                    anisotropy_model='constant',\n",
    "                                                    do_convolve=True,\n",
    "                                                    debug=True, set_beta=0.49\n",
    "                                                   )\n",
    "    print(dyn_model.ani_param)\n",
    "    \n",
    "    fig, axes = plt.subplots(nrows=1, ncols=3, figsize=(10, 6))\n",
    "    \n",
    "    def plot_mat(arr, i, cmap='viridis', vmax=340, vmin=170):\n",
    "        divider = make_axes_locatable(axes[i])\n",
    "        im = axes[i].matshow(arr, origin='lower', cmap=cmap, vmax=vmax, vmin=vmin)\n",
    "        cax = divider.append_axes('right', size='5%', pad=0.05)\n",
    "        fig.colorbar(im, cax=cax, orientation='vertical', label=r'$\\sigma_{\\rm los}$ (km/s)')\n",
    "        \n",
    "    #cbar = axes[0].matshow(a[0], origin='lower')\n",
    "    #cbar = axes[1].matshow(b[0], origin='lower')\n",
    "    #plt.colorbar(cbar)\n",
    "\n",
    "    #cbar = axes[2].matshow(a[0] - b[0], origin='lower', cmap='RdBu')\n",
    "    #plt.colorbar(cbar)\n",
    "    plot_mat(a[0].reshape((43, 43)), 0, cmap='viridis')\n",
    "    plot_mat(b[0].reshape((43, 43)), 1, cmap='viridis')\n",
    "    plot_mat(a[0].reshape((43, 43)) - b[0].reshape((43, 43)), 2, cmap='RdBu_r', \n",
    "             vmax=10, vmin=-10) #np.max(a[0] - b[0]), vmin=np.min(a[0] - b[0]))\n",
    "    \n",
    "    axes[0].set_title('Galkin')\n",
    "    axes[1].set_title('jampy')\n",
    "    axes[2].set_title('Galkin - jampy')\n",
    "    \n",
    "    fig.tight_layout()\n",
    "    break"
   ]
  },
  {
   "cell_type": "markdown",
   "id": "d6535033",
   "metadata": {},
   "source": [
    "### Osipkov-Merritt"
   ]
  },
  {
   "cell_type": "code",
   "execution_count": 10,
   "id": "6d64995c",
   "metadata": {},
   "outputs": [
    {
     "name": "stdout",
     "output_type": "stream",
     "text": [
      "(1, 1849)\n",
      "[2.0032418309821973, 2.0032418309821973, 2.0032418309821973, 4.0328760565794, 0.714142842854285, 0.714142842854285, 0.714142842854285, 0.714142842854285, 3.0]\n",
      "Residuals > 10%: Change `inner_slope` or `outer_slope` or increase `ngauss`\n",
      "[2.0032418309821973, 2.0032418309821973, 2.0032418309821973, 4.0328760565794, 0.714142842854285, 0.714142842854285, 0.714142842854285, 0.714142842854285, 3.0, 3.0]\n"
     ]
    },
    {
     "data": {
      "image/png": "[encoded data removed]",
      "text/plain": [
       "<Figure size 720x432 with 6 Axes>"
      ]
     },
     "metadata": {
      "needs_background": "light"
     },
     "output_type": "display_data"
    }
   ],
   "source": [
    "dyn_model.PSF_FWHM = 0.7\n",
    "\n",
    "for i in range(10):\n",
    "    np.random.seed(i)\n",
    "    a = dyn_model.compute_galkin_velocity_dispersion(start_index=0, num_compute=1, supersampling_factor=5, \n",
    "                                                    analytic_kinematics=False, #True,\n",
    "                                                    single_slit=False,\n",
    "                                                    voronoi_bins=None, #binning-1\n",
    "                                                    anisotropy_model='Osipkov-Merritt',\n",
    "                                                    debug=True, set_beta=0.49\n",
    "                                                   )\n",
    "    print(a.shape)\n",
    "    print(dyn_model.ani_param)\n",
    "    np.random.seed(i)\n",
    "    b = dyn_model.compute_jampy_velocity_dispersion(start_index=0, num_compute=1, supersampling_factor=5, \n",
    "                                                    analytic_kinematics=False, #True,\n",
    "                                                    #single_slit=True,\n",
    "                                                    voronoi_bins=None, #binning-1\n",
    "                                                    is_spherical=True,\n",
    "                                                    anisotropy_model='Osipkov-Merritt',\n",
    "                                                    do_convolve=True,\n",
    "                                                    debug=True, set_beta=0.49\n",
    "                                                   )\n",
    "    print(dyn_model.ani_param)\n",
    "    \n",
    "    fig, axes = plt.subplots(nrows=1, ncols=3, figsize=(10, 6))\n",
    "    \n",
    "    def plot_mat(arr, i, cmap='viridis', vmax=340, vmin=170):\n",
    "        divider = make_axes_locatable(axes[i])\n",
    "        im = axes[i].matshow(arr, origin='lower', cmap=cmap, vmax=vmax, vmin=vmin)\n",
    "        cax = divider.append_axes('right', size='5%', pad=0.05)\n",
    "        fig.colorbar(im, cax=cax, orientation='vertical', label=r'$\\sigma_{\\rm los}$ (km/s)')\n",
    "        \n",
    "    #cbar = axes[0].matshow(a[0], origin='lower')\n",
    "    #cbar = axes[1].matshow(b[0], origin='lower')\n",
    "    #plt.colorbar(cbar)\n",
    "\n",
    "    #cbar = axes[2].matshow(a[0] - b[0], origin='lower', cmap='RdBu')\n",
    "    #plt.colorbar(cbar)\n",
    "    plot_mat(a[0].reshape((43, 43)), 0, cmap='viridis')\n",
    "    plot_mat(b[0].reshape((43, 43)), 1, cmap='viridis')\n",
    "    plot_mat(a[0].reshape((43, 43)) - b[0].reshape((43, 43)), 2, cmap='RdBu_r', \n",
    "             vmax=10, vmin=-10) #np.max(a[0] - b[0]), vmin=np.min(a[0] - b[0]))\n",
    "    \n",
    "    axes[0].set_title('Galkin')\n",
    "    axes[1].set_title('jampy')\n",
    "    axes[2].set_title('Galkin - jampy')\n",
    "    \n",
    "    fig.tight_layout()\n",
    "    break"
   ]
  },
  {
   "cell_type": "code",
   "execution_count": 16,
   "id": "fa7ab0d8",
   "metadata": {},
   "outputs": [],
   "source": [
    "from lenstronomy.Analysis.kinematics_api import KinematicsAPI\n",
    "\n",
    "Z_L = 0.295\n",
    "Z_S = 0.657\n",
    "\n",
    "anisotropy_type = 'const'\n",
    "    \n",
    "kwargs_model = {'lens_model_list': ['PEMD'],\n",
    "                'lens_light_model_list': ['SERSIC', 'SERSIC']\n",
    "               }\n",
    "\n",
    "X_GRID, Y_GRID = np.meshgrid(\n",
    "        np.arange(-3.0597, 3.1597, 0.1457), # x-axis points to negative RA\n",
    "        np.arange(-3.0597, 3.1597, 0.1457),\n",
    "    )\n",
    "PSF_FWHM = 0.7\n",
    "    \n",
    "kwargs_aperture = {'aperture_type': 'IFU_grid',\n",
    "                   'x_grid': X_GRID,\n",
    "                   'y_grid': Y_GRID,\n",
    "                   'center_ra': 0., \n",
    "                   'center_dec': 0.,\n",
    "                   }\n",
    "kwargs_seeing = {'psf_type': 'GAUSSIAN',\n",
    "                 'fwhm': PSF_FWHM,\n",
    "                 }\n",
    "\n",
    "kwargs_galkin_numerics = {'interpol_grid_num': 1000,\n",
    "                          'log_integration': True,\n",
    "                          'max_integrate': 100,\n",
    "                          'min_integrate': 0.001}\n",
    "\n",
    "\n",
    "light_model_bool = [True, True]\n",
    "lens_model_bool = [True]\n",
    "\n",
    "kinematics_api = KinematicsAPI(z_lens=Z_L, z_source=Z_S,\n",
    "                               kwargs_model=kwargs_model,\n",
    "                               kwargs_aperture=kwargs_aperture,\n",
    "                               kwargs_seeing=kwargs_seeing,\n",
    "                               anisotropy_model=anisotropy_type,\n",
    "                               cosmo=None,\n",
    "                               lens_model_kinematics_bool=lens_model_bool,\n",
    "                               light_model_kinematics_bool=light_model_bool,\n",
    "                               multi_observations=False,\n",
    "                               kwargs_numerics_galkin=kwargs_galkin_numerics,\n",
    "                               analytic_kinematics=False,\n",
    "                               Hernquist_approx=False,\n",
    "                               MGE_light=True,\n",
    "                               MGE_mass=False,\n",
    "                               kwargs_mge_light=None,\n",
    "                               kwargs_mge_mass=None,\n",
    "                               sampling_number=1000,\n",
    "                               num_kin_sampling=2000,\n",
    "                               num_psf_sampling=500,\n",
    "                               )\n",
    "\n",
    "r_eff = 2.013174842002009\n",
    "beta = 0.25\n",
    "\n",
    "kwargs_lens = [{'theta_E': 1.6381683017993576, 'gamma': 2.022380920890103, 'e1': 0.0, 'e2': 0.0, 'center_x': 0.0, 'center_y': 0.2914}]\n",
    "\n",
    "kwargs_lens_light = [{'amp': 0.09140015720836722, 'R_sersic': 2.1663040783936363, 'n_sersic': 0.9700063614486569, 'center_x': 0.0, 'center_y': 0.2914}, {'amp': 0.8647182783851214, 'R_sersic': 0.32239019270617386, 'n_sersic': 1.6279835558957334, 'center_x': 0.0, 'center_y': 0.2914}]\n",
    "\n",
    "# set the anisotropy radius. r_eff is pre-computed half-light\n",
    "# radius of the lens light\n",
    "\n",
    "kwargs_anisotropy = {'beta': beta}\n",
    "\n",
    "# compute the velocity disperson in a pre-specified cosmology\n",
    "# (see lenstronomy function)\n",
    "\n",
    "vel_dis, IR_map = kinematics_api.velocity_dispersion_map(\n",
    "    kwargs_lens,\n",
    "    kwargs_lens_light,\n",
    "    #kwargs_result['kwargs_lens_light'],\n",
    "    kwargs_anisotropy,\n",
    "    r_eff=(1+np.sqrt(2))*r_eff, theta_E=kwargs_lens[0]['theta_E'],\n",
    "    gamma=kwargs_lens[0]['gamma'],\n",
    "    kappa_ext=0,\n",
    "    direct_convolve=True,\n",
    "    supersampling_factor=5,\n",
    "    voronoi_bins=None,\n",
    "    get_IR_map=True\n",
    ")"
   ]
  },
  {
   "cell_type": "code",
   "execution_count": 17,
   "id": "a7e1dec2",
   "metadata": {},
   "outputs": [
    {
     "data": {
      "text/plain": [
       "array([[198.14569696, 199.31363222, 200.77978853, ..., 200.82235488,\n",
       "        199.34843443, 198.17278206],\n",
       "       [199.45296304, 200.65120639, 202.15617214, ..., 202.19987697,\n",
       "        200.68692044, 199.48074413],\n",
       "       [201.09976856, 202.3370736 , 203.89202546, ..., 203.93719597,\n",
       "        202.37396255, 201.12844683],\n",
       "       ...,\n",
       "       [210.76627593, 212.24821214, 214.11487359, ..., 214.16915949,\n",
       "        212.29244572, 210.80058197],\n",
       "       [209.21128363, 210.6477876 , 212.45649859, ..., 212.50908883,\n",
       "        210.69065648, 209.24454505],\n",
       "       [207.96868024, 209.36930798, 211.13221552, ..., 211.18346484,\n",
       "        209.41109875, 208.00111708]])"
      ]
     },
     "execution_count": 17,
     "metadata": {},
     "output_type": "execute_result"
    }
   ],
   "source": [
    "vel_dis"
   ]
  },
  {
   "cell_type": "code",
   "execution_count": 10,
   "id": "d75985a4",
   "metadata": {},
   "outputs": [
    {
     "ename": "AttributeError",
     "evalue": "'ModelOutput' object has no attribute 'compute_model_velocity_dispersion'",
     "output_type": "error",
     "traceback": [
      "\u001b[0;31m---------------------------------------------------------------------------\u001b[0m",
      "\u001b[0;31mAttributeError\u001b[0m                            Traceback (most recent call last)",
      "Input \u001b[0;32mIn [10]\u001b[0m, in \u001b[0;36m<cell line: 3>\u001b[0;34m()\u001b[0m\n\u001b[1;32m      3\u001b[0m \u001b[38;5;28;01mfor\u001b[39;00m i \u001b[38;5;129;01min\u001b[39;00m \u001b[38;5;28mrange\u001b[39m(\u001b[38;5;241m10\u001b[39m):\n\u001b[1;32m      4\u001b[0m     np\u001b[38;5;241m.\u001b[39mrandom\u001b[38;5;241m.\u001b[39mseed(i)\n\u001b[0;32m----> 5\u001b[0m     a \u001b[38;5;241m=\u001b[39m \u001b[43mdyn_model\u001b[49m\u001b[38;5;241;43m.\u001b[39;49m\u001b[43mcompute_model_velocity_dispersion\u001b[49m(start_index\u001b[38;5;241m=\u001b[39m\u001b[38;5;241m10\u001b[39m, num_compute\u001b[38;5;241m=\u001b[39m\u001b[38;5;241m1\u001b[39m, supersampling_factor\u001b[38;5;241m=\u001b[39m\u001b[38;5;241m5\u001b[39m, \n\u001b[1;32m      6\u001b[0m                                                     analytic_kinematics\u001b[38;5;241m=\u001b[39m\u001b[38;5;28;01mFalse\u001b[39;00m, \u001b[38;5;66;03m#True,\u001b[39;00m\n\u001b[1;32m      7\u001b[0m                                                     single_slit\u001b[38;5;241m=\u001b[39m\u001b[38;5;28;01mFalse\u001b[39;00m,\n\u001b[1;32m      8\u001b[0m                                                     voronoi_bins\u001b[38;5;241m=\u001b[39m\u001b[38;5;28;01mNone\u001b[39;00m, \u001b[38;5;66;03m#binning-1\u001b[39;00m\n\u001b[1;32m      9\u001b[0m                                                     anisotropy_model\u001b[38;5;241m=\u001b[39m\u001b[38;5;124m'\u001b[39m\u001b[38;5;124mOsipkov-Merritt\u001b[39m\u001b[38;5;124m'\u001b[39m,\n\u001b[1;32m     10\u001b[0m                                                     debug\u001b[38;5;241m=\u001b[39m\u001b[38;5;28;01mTrue\u001b[39;00m\n\u001b[1;32m     11\u001b[0m                                                    )\n\u001b[1;32m     12\u001b[0m     \u001b[38;5;28mprint\u001b[39m(dyn_model\u001b[38;5;241m.\u001b[39ma_ani)\n\u001b[1;32m     13\u001b[0m     np\u001b[38;5;241m.\u001b[39mrandom\u001b[38;5;241m.\u001b[39mseed(i)\n",
      "\u001b[0;31mAttributeError\u001b[0m: 'ModelOutput' object has no attribute 'compute_model_velocity_dispersion'"
     ]
    }
   ],
   "source": [
    "dyn_model.PSF_FWHM = 0.7\n",
    "\n",
    "for i in range(10):\n",
    "    np.random.seed(i)\n",
    "    a = dyn_model.compute_galkin_velocity_dispersion(start_index=10, num_compute=1, supersampling_factor=5, \n",
    "                                                    analytic_kinematics=False, #True,\n",
    "                                                    single_slit=False,\n",
    "                                                    voronoi_bins=None, #binning-1\n",
    "                                                    anisotropy_model='Osipkov-Merritt',\n",
    "                                                    debug=True\n",
    "                                                   )\n",
    "    print(dyn_model.a_ani)\n",
    "    np.random.seed(i)\n",
    "    b = dyn_model.compute_jampy_velocity_dispersion(start_index=10, num_compute=1, supersampling_factor=5, \n",
    "                                                    analytic_kinematics=False, #True,\n",
    "                                                    #single_slit=True,\n",
    "                                                    voronoi_bins=None, #binning-1\n",
    "                                                    is_spherical=True,\n",
    "                                                    anisotropy_model='Osipkov-Merritt',\n",
    "                                                    debug=True\n",
    "                                                   )\n",
    "    print(dyn_model.a_ani)\n",
    "    \n",
    "    fig, axes = plt.subplots(nrows=1, ncols=3, figsize=(10, 6))\n",
    "    \n",
    "    def plot_mat(arr, i, cmap='viridis', vmax=340, vmin=170):\n",
    "        divider = make_axes_locatable(axes[i])\n",
    "        im = axes[i].matshow(arr, origin='lower', cmap=cmap, vmax=vmax, vmin=vmin)\n",
    "        cax = divider.append_axes('right', size='5%', pad=0.05)\n",
    "        fig.colorbar(im, cax=cax, orientation='vertical', label=r'$\\sigma_{\\rm los}$ (km/s)')\n",
    "        \n",
    "    #cbar = axes[0].matshow(a[0], origin='lower')\n",
    "    #cbar = axes[1].matshow(b[0], origin='lower')\n",
    "    #plt.colorbar(cbar)\n",
    "\n",
    "    #cbar = axes[2].matshow(a[0] - b[0], origin='lower', cmap='RdBu')\n",
    "    #plt.colorbar(cbar)\n",
    "    plot_mat(a[0], 0, cmap='viridis')\n",
    "    plot_mat(b[0], 1, cmap='viridis')\n",
    "    plot_mat(a[0] - b[0], 2, cmap='RdBu', vmax=np.max(a[0] - b[0]), vmin=np.min(a[0] - b[0]))\n",
    "    \n",
    "    axes[0].set_title('Galkin')\n",
    "    axes[1].set_title('jampy')\n",
    "    axes[2].set_title('Galkin - jampy')\n",
    "    \n",
    "    fig.tight_layout()\n",
    "    break"
   ]
  },
  {
   "cell_type": "code",
   "execution_count": 28,
   "id": "4d769826",
   "metadata": {},
   "outputs": [],
   "source": [
    "np.savetxt('/Users/ajshajib/Downloads/jampy_output.txt', b[0])"
   ]
  },
  {
   "cell_type": "code",
   "execution_count": null,
   "id": "8e26c65e",
   "metadata": {
    "scrolled": false
   },
   "outputs": [],
   "source": [
    "np.max(a[0] - b[0]), np.min(a[0] - b[0])"
   ]
  },
  {
   "cell_type": "markdown",
   "id": "b012a7a9",
   "metadata": {},
   "source": [
    "## check anisotropy profile"
   ]
  },
  {
   "cell_type": "code",
   "execution_count": 11,
   "id": "a3a3bb7f",
   "metadata": {},
   "outputs": [
    {
     "name": "stdout",
     "output_type": "stream",
     "text": [
      "Residuals > 10%: Change `inner_slope` or `outer_slope` or increase `ngauss`\n"
     ]
    }
   ],
   "source": [
    "from copy import deepcopy\n",
    "\n",
    "np.random.seed(2)\n",
    "\n",
    "self = dyn_model\n",
    "r_eff_uncertainty_factor = np.random.normal(loc=1., scale=0.05)\n",
    "\n",
    "r_eff = 1.85 * r_eff_uncertainty_factor #self.get_r_eff(i)\n",
    "# Jeffrey's prior for a_ani\n",
    "\n",
    "ani_param = 10**np.random.uniform(np.log10(0.5),\n",
    "                              np.log10(5)) * r_eff\n",
    "\n",
    "kwargs_light = self.get_double_sersic_kwargs(is_shperical=True)\n",
    "e11, e12, e21, e22 = self.get_e_parameters()\n",
    "\n",
    "surf_lum, sigma_lum, qobs_lum = self.get_light_profile_mge(\n",
    "    deepcopy(kwargs_light), e11, e12, e21, e22)\n",
    "\n",
    "surf_pot, sigma_pot, qobs_pot = self.get_mass_mge(sample_index=0)\n",
    "\n",
    "bs = self.get_bs(ani_param, surf_lum, sigma_lum,\n",
    "                 model='Osipkov-Merritt', plot=True\n",
    "                 )"
   ]
  },
  {
   "cell_type": "code",
   "execution_count": 21,
   "id": "c82a2572",
   "metadata": {},
   "outputs": [
    {
     "data": {
      "text/plain": [
       "[<matplotlib.lines.Line2D at 0x16117cd00>]"
      ]
     },
     "execution_count": 21,
     "metadata": {},
     "output_type": "execute_result"
    },
    {
     "data": {
      "image/png": "[encoded data removed]",
      "text/plain": [
       "<Figure size 432x288 with 1 Axes>"
      ]
     },
     "metadata": {
      "needs_background": "light"
     },
     "output_type": "display_data"
    }
   ],
   "source": [
    "from scipy import optimize\n",
    "\n",
    "vs = np.zeros((len(sigma_lum), len(sigma_lum)))  # r, k\n",
    "\n",
    "betas = sigma_lum**2 / (ani_param**2 + sigma_lum**2)\n",
    "\n",
    "for i in range(len(sigma_lum)):\n",
    "    vs[i] = surf_lum[i] / (np.sqrt(2 * np.pi) * sigma_lum[i])**2 * \\\n",
    "                    np.exp(-sigma_lum ** 2 / sigma_lum[i] ** 2 / 2.)\n",
    "\n",
    "ys = betas #np.sum(vs, axis=0) / (1 - betas)\n",
    "\n",
    "bs = optimize.lsq_linear(vs.T, ys, bounds=(0, 1.)).x #\n",
    "bs = np.linalg.solve(vs.T, ys)\n",
    "  \n",
    "#bs = betas\n",
    "# bs[bs < -1e6] = -1e6\n",
    "# bs[bs > 1e6] = 1e6\n",
    "\n",
    "plt.loglog(sigma_lum, (vs.T @ bs), 'o',\n",
    "                       ls='none', )\n",
    "plt.loglog(sigma_lum, betas)"
   ]
  },
  {
   "cell_type": "code",
   "execution_count": 13,
   "id": "518e50f2",
   "metadata": {},
   "outputs": [],
   "source": [
    "self = dyn_model\n",
    "\n",
    "bs_in_class = self.get_bs([np.sqrt(1-0.1), np.sqrt(1-0.9)], surf_lum, sigma_lum,\n",
    "                 model='step', plot=True\n",
    "                 )"
   ]
  },
  {
   "cell_type": "code",
   "execution_count": 14,
   "id": "c6367bef",
   "metadata": {},
   "outputs": [
    {
     "data": {
      "text/plain": [
       "array([0.1, 0.1, 0.1, 0.1, 0.1, 0.1, 0.1, 0.1, 0.1, 0.1, 0.1, 0.9, 0.9,\n",
       "       0.9, 0.9, 0.9, 0.9, 0.9, 0.9, 0.1, 0.1, 0.1, 0.1, 0.1, 0.1, 0.1,\n",
       "       0.1, 0.1, 0.1, 0.1, 0.1, 0.1, 0.1, 0.1, 0.1, 0.9, 0.9])"
      ]
     },
     "execution_count": 14,
     "metadata": {},
     "output_type": "execute_result"
    }
   ],
   "source": [
    "bs_in_class"
   ]
  },
  {
   "cell_type": "code",
   "execution_count": 17,
   "id": "79e5a53e",
   "metadata": {},
   "outputs": [
    {
     "data": {
      "text/plain": [
       "array([ 1.09280142e-12,  1.63949660e-10, -2.21006638e-07,  6.03695764e-07,\n",
       "        6.45126291e-06, -5.06199382e-04,  3.67051202e-03, -5.13036797e-03,\n",
       "        8.70322600e-01,  5.15207463e+00, -1.02096366e+02, -2.19175164e+02,\n",
       "        9.21426254e+01, -1.06463263e+03,  4.91641120e+03,  9.31463592e+03,\n",
       "       -1.44837530e+06,  1.50178986e+09,  1.38350879e+11,  1.32418260e-16,\n",
       "       -1.12414739e-14, -5.28363599e-13,  3.15801116e-10,  4.28686914e-08,\n",
       "       -6.53101482e-10, -6.57103420e-09, -8.66995733e-08,  1.97662310e-06,\n",
       "       -1.46261177e-05,  1.19072267e-04,  4.92861267e-04, -1.33767780e-01,\n",
       "       -2.40798299e-01, -1.52255119e+01,  6.23112510e+02,  9.39860847e+03,\n",
       "        1.27553888e+05])"
      ]
     },
     "execution_count": 17,
     "metadata": {},
     "output_type": "execute_result"
    }
   ],
   "source": [
    "bs"
   ]
  },
  {
   "cell_type": "code",
   "execution_count": 18,
   "id": "ac28565c",
   "metadata": {},
   "outputs": [
    {
     "data": {
      "text/plain": [
       "[<matplotlib.lines.Line2D at 0x1609327f0>]"
      ]
     },
     "execution_count": 18,
     "metadata": {},
     "output_type": "execute_result"
    },
    {
     "data": {
      "image/png": "[encoded data removed]",
      "text/plain": [
       "<Figure size 432x288 with 1 Axes>"
      ]
     },
     "metadata": {
      "needs_background": "light"
     },
     "output_type": "display_data"
    }
   ],
   "source": [
    "plt.plot(sigma_lum, betas, 'o', ls='none', )"
   ]
  },
  {
   "cell_type": "code",
   "execution_count": 19,
   "id": "e835dae3",
   "metadata": {},
   "outputs": [
    {
     "data": {
      "text/plain": [
       "3.2111368105177833"
      ]
     },
     "execution_count": 19,
     "metadata": {},
     "output_type": "execute_result"
    }
   ],
   "source": [
    "ani_param"
   ]
  },
  {
   "cell_type": "code",
   "execution_count": 23,
   "id": "29d22084",
   "metadata": {
    "scrolled": false
   },
   "outputs": [
    {
     "ename": "TypeError",
     "evalue": "unsupported operand type(s) for ** or pow(): 'list' and 'int'",
     "output_type": "error",
     "traceback": [
      "\u001b[0;31m---------------------------------------------------------------------------\u001b[0m",
      "\u001b[0;31mTypeError\u001b[0m                                 Traceback (most recent call last)",
      "Input \u001b[0;32mIn [23]\u001b[0m, in \u001b[0;36m<cell line: 15>\u001b[0;34m()\u001b[0m\n\u001b[1;32m     12\u001b[0m beta_mge \u001b[38;5;241m=\u001b[39m \u001b[38;5;241m1\u001b[39m \u001b[38;5;241m-\u001b[39m nu_R \u001b[38;5;241m/\u001b[39m b_nu_R\n\u001b[1;32m     14\u001b[0m np\u001b[38;5;241m.\u001b[39mrandom\u001b[38;5;241m.\u001b[39mseed(\u001b[38;5;241m2\u001b[39m)\n\u001b[0;32m---> 15\u001b[0m beta_jampy \u001b[38;5;241m=\u001b[39m \u001b[38;5;28;43mself\u001b[39;49m\u001b[38;5;241;43m.\u001b[39;49m\u001b[43mretrieve_anisotropy_profile\u001b[49m\u001b[43m(\u001b[49m\u001b[43mRs\u001b[49m\u001b[43m,\u001b[49m\n\u001b[1;32m     16\u001b[0m \u001b[43m                                              \u001b[49m\u001b[43m[\u001b[49m\u001b[43mnp\u001b[49m\u001b[38;5;241;43m.\u001b[39;49m\u001b[43msqrt\u001b[49m\u001b[43m(\u001b[49m\u001b[38;5;241;43m1\u001b[39;49m\u001b[38;5;241;43m-\u001b[39;49m\u001b[38;5;241;43m0.1\u001b[39;49m\u001b[43m)\u001b[49m\u001b[43m,\u001b[49m\u001b[43m \u001b[49m\u001b[43mnp\u001b[49m\u001b[38;5;241;43m.\u001b[39;49m\u001b[43msqrt\u001b[49m\u001b[43m(\u001b[49m\u001b[38;5;241;43m1\u001b[39;49m\u001b[38;5;241;43m-\u001b[39;49m\u001b[38;5;241;43m0.9\u001b[39;49m\u001b[43m)\u001b[49m\u001b[43m]\u001b[49m\u001b[43m,\u001b[49m\u001b[43m \u001b[49m\n\u001b[1;32m     17\u001b[0m \u001b[43m                                              \u001b[49m\u001b[43msurf_lum\u001b[49m\u001b[38;5;241;43m/\u001b[39;49m\u001b[43m(\u001b[49m\u001b[43mnp\u001b[49m\u001b[38;5;241;43m.\u001b[39;49m\u001b[43msqrt\u001b[49m\u001b[43m(\u001b[49m\u001b[38;5;241;43m2\u001b[39;49m\u001b[43m \u001b[49m\u001b[38;5;241;43m*\u001b[39;49m\u001b[43m \u001b[49m\u001b[43mnp\u001b[49m\u001b[38;5;241;43m.\u001b[39;49m\u001b[43mpi\u001b[49m\u001b[43m)\u001b[49m\u001b[43m \u001b[49m\u001b[38;5;241;43m*\u001b[39;49m\u001b[43m \u001b[49m\u001b[43msigma_lum\u001b[49m\u001b[43m)\u001b[49m\u001b[38;5;241;43m*\u001b[39;49m\u001b[38;5;241;43m*\u001b[39;49m\u001b[38;5;241;43m0.\u001b[39;49m\u001b[43m,\u001b[49m\u001b[43m \u001b[49m\u001b[43msigma_lum\u001b[49m\u001b[43m,\u001b[49m\n\u001b[1;32m     18\u001b[0m \u001b[43m                                              \u001b[49m\u001b[43msurf_pot\u001b[49m\u001b[38;5;241;43m/\u001b[39;49m\u001b[43m(\u001b[49m\u001b[43mnp\u001b[49m\u001b[38;5;241;43m.\u001b[39;49m\u001b[43msqrt\u001b[49m\u001b[43m(\u001b[49m\u001b[38;5;241;43m2\u001b[39;49m\u001b[43m \u001b[49m\u001b[38;5;241;43m*\u001b[39;49m\u001b[43m \u001b[49m\u001b[43mnp\u001b[49m\u001b[38;5;241;43m.\u001b[39;49m\u001b[43mpi\u001b[49m\u001b[43m)\u001b[49m\u001b[43m \u001b[49m\u001b[38;5;241;43m*\u001b[39;49m\u001b[43m \u001b[49m\u001b[43msigma_pot\u001b[49m\u001b[43m)\u001b[49m\u001b[38;5;241;43m*\u001b[39;49m\u001b[38;5;241;43m*\u001b[39;49m\u001b[38;5;241;43m0.\u001b[39;49m\u001b[43m,\u001b[49m\u001b[43m \u001b[49m\u001b[43msigma_pot\u001b[49m\u001b[43m,\u001b[49m\n\u001b[1;32m     19\u001b[0m \u001b[43m                                              \u001b[49m\u001b[38;5;66;43;03m#bs=bs,\u001b[39;49;00m\n\u001b[1;32m     20\u001b[0m \u001b[43m                                              \u001b[49m\u001b[38;5;66;43;03m#bs=sigma_lum**2 / (ani_param**2 + sigma_lum**2), #np.ones_like(sigma_lum)*0.5,\u001b[39;49;00m\n\u001b[1;32m     21\u001b[0m \u001b[43m                                              \u001b[49m\u001b[43manisotropy_model\u001b[49m\u001b[38;5;241;43m=\u001b[39;49m\u001b[38;5;124;43m'\u001b[39;49m\u001b[38;5;124;43mOsipkov-Merritt\u001b[39;49m\u001b[38;5;124;43m'\u001b[39;49m\u001b[43m,\u001b[49m\u001b[43m \u001b[49m\n\u001b[1;32m     22\u001b[0m \u001b[43m                                              \u001b[49m\u001b[43mis_spherical\u001b[49m\u001b[38;5;241;43m=\u001b[39;49m\u001b[38;5;28;43;01mTrue\u001b[39;49;00m\u001b[43m)\u001b[49m\n\u001b[1;32m     24\u001b[0m \u001b[38;5;66;03m# beta_jampy_2 = self.retrieve_anisotropy_profile(Rs, \u001b[39;00m\n\u001b[1;32m     25\u001b[0m \u001b[38;5;66;03m#                                               ani_param=ani_param, #[np.sqrt(1-0.), np.sqrt(1-0.99)], \u001b[39;00m\n\u001b[1;32m     26\u001b[0m \u001b[38;5;66;03m#                                               anisotropy_model='Osipkov-Merritt', \u001b[39;00m\n\u001b[1;32m     27\u001b[0m \u001b[38;5;66;03m#                                               is_spherical=True, alignment='cyl')\u001b[39;00m\n\u001b[1;32m     28\u001b[0m \n\u001b[1;32m     29\u001b[0m \u001b[38;5;66;03m#beta_mge = 1 - nu / b_times_nu\u001b[39;00m\n\u001b[1;32m     31\u001b[0m beta_parametric[Rs \u001b[38;5;241m<\u001b[39m \u001b[38;5;241m1\u001b[39m] \u001b[38;5;241m=\u001b[39m \u001b[38;5;241m0.1\u001b[39m\n",
      "File \u001b[0;32m~/Research/RXJ1131 KCWI kinematics/RXJ1131_KCWI_kinematics/output_class.py:656\u001b[0m, in \u001b[0;36mModelOutput.retrieve_anisotropy_profile\u001b[0;34m(self, Rs, ani_param, surf_lum, sigma_lum, surf_pot, sigma_pot, print_step, bs, r_eff_uncertainty, analytic_kinematics, supersampling_factor, voronoi_bins, single_slit, do_convolve, anisotropy_model, is_spherical, alignment)\u001b[0m\n\u001b[1;32m    653\u001b[0m qobs_pot \u001b[38;5;241m=\u001b[39m np\u001b[38;5;241m.\u001b[39mones_like(surf_pot)\n\u001b[1;32m    655\u001b[0m \u001b[38;5;28;01mif\u001b[39;00m bs \u001b[38;5;129;01mis\u001b[39;00m \u001b[38;5;28;01mNone\u001b[39;00m:\n\u001b[0;32m--> 656\u001b[0m     bs \u001b[38;5;241m=\u001b[39m \u001b[38;5;28;43mself\u001b[39;49m\u001b[38;5;241;43m.\u001b[39;49m\u001b[43mget_bs\u001b[49m\u001b[43m(\u001b[49m\u001b[43mani_param\u001b[49m\u001b[43m,\u001b[49m\u001b[43m \u001b[49m\u001b[43msurf_lum\u001b[49m\u001b[43m,\u001b[49m\u001b[43m \u001b[49m\u001b[43msigma_lum\u001b[49m\u001b[43m,\u001b[49m\n\u001b[1;32m    657\u001b[0m \u001b[43m                     \u001b[49m\u001b[43mmodel\u001b[49m\u001b[38;5;241;43m=\u001b[39;49m\u001b[43manisotropy_model\u001b[49m\n\u001b[1;32m    658\u001b[0m \u001b[43m                     \u001b[49m\u001b[43m)\u001b[49m\n\u001b[1;32m    660\u001b[0m \u001b[38;5;66;03m# inc = 90\u001b[39;00m\n\u001b[1;32m    661\u001b[0m mbh \u001b[38;5;241m=\u001b[39m \u001b[38;5;241m0\u001b[39m\n",
      "File \u001b[0;32m~/Research/RXJ1131 KCWI kinematics/RXJ1131_KCWI_kinematics/output_class.py:253\u001b[0m, in \u001b[0;36mModelOutput.get_bs\u001b[0;34m(self, params, surf_lum, sigma_lum, model, plot)\u001b[0m\n\u001b[1;32m    249\u001b[0m \u001b[38;5;124;03m\"\"\"\u001b[39;00m\n\u001b[1;32m    250\u001b[0m \n\u001b[1;32m    251\u001b[0m \u001b[38;5;124;03m\"\"\"\u001b[39;00m\n\u001b[1;32m    252\u001b[0m \u001b[38;5;28;01mif\u001b[39;00m model \u001b[38;5;241m==\u001b[39m \u001b[38;5;124m'\u001b[39m\u001b[38;5;124mOsipkov-Merritt\u001b[39m\u001b[38;5;124m'\u001b[39m:\n\u001b[0;32m--> 253\u001b[0m     betas \u001b[38;5;241m=\u001b[39m sigma_lum\u001b[38;5;241m*\u001b[39m\u001b[38;5;241m*\u001b[39m\u001b[38;5;241m2\u001b[39m \u001b[38;5;241m/\u001b[39m (\u001b[43mparams\u001b[49m\u001b[38;5;241;43m*\u001b[39;49m\u001b[38;5;241;43m*\u001b[39;49m\u001b[38;5;241;43m2\u001b[39;49m \u001b[38;5;241m+\u001b[39m sigma_lum\u001b[38;5;241m*\u001b[39m\u001b[38;5;241m*\u001b[39m\u001b[38;5;241m2\u001b[39m)\n\u001b[1;32m    254\u001b[0m \u001b[38;5;28;01melif\u001b[39;00m model \u001b[38;5;241m==\u001b[39m \u001b[38;5;124m'\u001b[39m\u001b[38;5;124mgeneralized-OM\u001b[39m\u001b[38;5;124m'\u001b[39m:\n\u001b[1;32m    255\u001b[0m     betas \u001b[38;5;241m=\u001b[39m params[\u001b[38;5;241m1\u001b[39m] \u001b[38;5;241m*\u001b[39m sigma_lum\u001b[38;5;241m*\u001b[39m\u001b[38;5;241m*\u001b[39m\u001b[38;5;241m2\u001b[39m \u001b[38;5;241m/\u001b[39m (params[\u001b[38;5;241m0\u001b[39m]\u001b[38;5;241m*\u001b[39m\u001b[38;5;241m*\u001b[39m\u001b[38;5;241m2\u001b[39m \u001b[38;5;241m+\u001b[39m sigma_lum\u001b[38;5;241m*\u001b[39m\u001b[38;5;241m*\u001b[39m\u001b[38;5;241m2\u001b[39m)\n",
      "\u001b[0;31mTypeError\u001b[0m: unsupported operand type(s) for ** or pow(): 'list' and 'int'"
     ]
    }
   ],
   "source": [
    "#Rs = np.logspace(-3, 2, 100)\n",
    "Rs = np.logspace(-1, 2, 100)\n",
    "beta_parametric = Rs**2 / (Rs**2 + (r_eff*ani_param)**2)\n",
    "\n",
    "nu_R = 0\n",
    "b_nu_R = 0\n",
    "\n",
    "for b, s, a in zip(bs, sigma_lum, surf_lum):\n",
    "    nu_R += a * np.exp(-Rs**2 / 2 / s**2)\n",
    "    b_nu_R += b * a * np.exp(-Rs**2 / 2 / s**2)\n",
    "\n",
    "beta_mge = 1 - nu_R / b_nu_R\n",
    "\n",
    "np.random.seed(2)\n",
    "beta_jampy = self.retrieve_anisotropy_profile(Rs,\n",
    "                                              [np.sqrt(1-0.1), np.sqrt(1-0.9)], \n",
    "                                              surf_lum/(np.sqrt(2 * np.pi) * sigma_lum)**0., sigma_lum,\n",
    "                                              surf_pot/(np.sqrt(2 * np.pi) * sigma_pot)**0., sigma_pot,\n",
    "                                              #bs=bs,\n",
    "                                              #bs=sigma_lum**2 / (ani_param**2 + sigma_lum**2), #np.ones_like(sigma_lum)*0.5,\n",
    "                                              anisotropy_model='Osipkov-Merritt', \n",
    "                                              is_spherical=True)\n",
    "\n",
    "# beta_jampy_2 = self.retrieve_anisotropy_profile(Rs, \n",
    "#                                               ani_param=ani_param, #[np.sqrt(1-0.), np.sqrt(1-0.99)], \n",
    "#                                               anisotropy_model='Osipkov-Merritt', \n",
    "#                                               is_spherical=True, alignment='cyl')\n",
    "\n",
    "#beta_mge = 1 - nu / b_times_nu\n",
    "\n",
    "# beta_parametric[Rs < 1] = 0.1\n",
    "# beta_parametric[Rs >= 1] = 0.9\n",
    "\n",
    "plt.plot(Rs, beta_parametric, label='parametric')\n",
    "#plt.plot(Rs, beta_mge, label='MGE')\n",
    "plt.plot(sigma_lum, bs, ls='None')\n",
    "plt.plot(Rs, beta_jampy, label='jampy')\n",
    "#plt.plot(Rs, beta_jampy_2, label='jampy_2')\n",
    "plt.xscale('log')\n",
    "\n",
    "plt.legend()\n",
    "plt.xlabel(r'$R$ (arcsec)')\n",
    "plt.ylabel(r'$\\beta (R)$')\n",
    "plt.ylim(0., 1.5)\n",
    "plt.xlim(Rs[0], Rs[-1])"
   ]
  },
  {
   "cell_type": "code",
   "execution_count": 11,
   "id": "bdbfad59",
   "metadata": {},
   "outputs": [
    {
     "data": {
      "text/plain": [
       "[<matplotlib.lines.Line2D at 0x164d7d8e0>]"
      ]
     },
     "execution_count": 11,
     "metadata": {},
     "output_type": "execute_result"
    },
    {
     "data": {
      "image/png": "[encoded data removed]",
      "text/plain": [
       "<Figure size 432x288 with 1 Axes>"
      ]
     },
     "metadata": {
      "needs_background": "light"
     },
     "output_type": "display_data"
    }
   ],
   "source": [
    "plt.plot(sigma_pot, betas)"
   ]
  },
  {
   "cell_type": "code",
   "execution_count": 22,
   "id": "1a757626",
   "metadata": {},
   "outputs": [
    {
     "data": {
      "text/plain": [
       "[{'amp': 0.09094373317277367,\n",
       "  'R_sersic': 2.169065667520831,\n",
       "  'n_sersic': 0.8823935491857234,\n",
       "  'center_x': 0.0,\n",
       "  'center_y': 0.2914},\n",
       " {'amp': 0.8577663344465927,\n",
       "  'R_sersic': 0.3026217982367014,\n",
       "  'n_sersic': 1.5449697937874245,\n",
       "  'center_x': 0.0,\n",
       "  'center_y': 0.2914}]"
      ]
     },
     "execution_count": 22,
     "metadata": {},
     "output_type": "execute_result"
    }
   ],
   "source": [
    "kwargs_light"
   ]
  },
  {
   "cell_type": "code",
   "execution_count": 23,
   "id": "d6c0f5d8",
   "metadata": {},
   "outputs": [
    {
     "data": {
      "text/plain": [
       "(11,)"
      ]
     },
     "execution_count": 23,
     "metadata": {},
     "output_type": "execute_result"
    }
   ],
   "source": [
    "surf_lum.shape"
   ]
  },
  {
   "cell_type": "code",
   "execution_count": 20,
   "id": "54d711ea",
   "metadata": {},
   "outputs": [
    {
     "data": {
      "image/png": "[encoded data removed]",
      "text/plain": [
       "<Figure size 432x288 with 1 Axes>"
      ]
     },
     "metadata": {
      "needs_background": "light"
     },
     "output_type": "display_data"
    }
   ],
   "source": [
    "rs = np.logspace(-2, 2, 1000)\n",
    "\n",
    "total = 0.\n",
    "for s, a in zip(sigma_pot, surf_pot):\n",
    "    g = a / (np.sqrt(2 * np.pi) * s)**1. * np.exp( - (rs)**2 / 2 / s**2)\n",
    "    total += g\n",
    "    plt.plot(rs, g, ':')\n",
    "\n",
    "from lenstronomy.LightModel.light_model import LightModel\n",
    "\n",
    "light_model_1 = LightModel(['SERSIC', 'SERSIC'])\n",
    "\n",
    "#plt.plot(rs, light_model_1.surface_brightness(rs, rs*0, kwargs_light, k=1), 'b-')\n",
    "#plt.plot(rs, light_model_1.surface_brightness(rs, rs*0, kwargs_light, k=0), 'b-')\n",
    "#plt.plot(rs, light_model_1.surface_brightness(rs, rs*0, kwargs_light), 'g-')\n",
    "plt.plot(rs, total, 'r-')\n",
    "\n",
    "plt.ylim(1e-1, 1e6)\n",
    "plt.yscale('log')\n",
    "plt.xscale('log')"
   ]
  },
  {
   "cell_type": "code",
   "execution_count": 78,
   "id": "018cf983",
   "metadata": {},
   "outputs": [
    {
     "data": {
      "text/plain": [
       "(array([2.05404443e-05, 9.24618068e-05, 3.63460130e-04, 1.29752033e-03,\n",
       "        4.26906719e-03, 4.26354082e-04, 1.35167081e-02, 3.95255758e-02,\n",
       "        9.69139368e-02, 1.87972714e-01, 2.68735282e-01, 2.69044436e-01,\n",
       "        1.85070357e-01, 8.44027528e-02, 2.23609723e-02, 2.64984960e-03,\n",
       "        7.67727630e-05, 2.87637118e-02, 5.13205356e-02, 5.51817940e-02,\n",
       "        9.23789583e-02, 1.66050239e-01, 2.11373617e-01, 1.47974640e-01,\n",
       "        2.66131893e-01, 3.03978525e-01, 3.00316776e-01, 3.00528654e-01,\n",
       "        2.61677452e-01, 1.93058149e-01, 1.18613864e-01, 5.82408708e-02,\n",
       "        2.04369161e-02, 4.95043243e-03, 8.78367054e-04]),\n",
       " array([0.00909991, 0.01977903, 0.03953267, 0.07464198, 0.1350223 ,\n",
       "        0.19103163, 0.23964746, 0.40516671, 0.65644003, 1.00143529,\n",
       "        1.43036257, 1.92016027, 2.45100423, 3.0224045 , 3.65063785,\n",
       "        4.36539882, 5.24068009, 0.00707107, 0.0129269 , 0.01961934,\n",
       "        0.02689391, 0.03984709, 0.05866651, 0.07628569, 0.09668235,\n",
       "        0.13049138, 0.17182285, 0.22540192, 0.29758833, 0.3927057 ,\n",
       "        0.51725629, 0.6820376 , 0.90211183, 1.17747899, 1.59750393]),\n",
       " array([1., 1., 1., 1., 1., 1., 1., 1., 1., 1., 1., 1., 1., 1., 1., 1., 1.,\n",
       "        1., 1., 1., 1., 1., 1., 1., 1., 1., 1., 1., 1., 1., 1., 1., 1., 1.,\n",
       "        1.]))"
      ]
     },
     "execution_count": 78,
     "metadata": {},
     "output_type": "execute_result"
    }
   ],
   "source": [
    "dyn_model.get_light_profile_mge(dyn_model.get_double_sersic_kwargs(), 0, 0, 0, 0)"
   ]
  },
  {
   "cell_type": "code",
   "execution_count": 20,
   "id": "f76ca2e1",
   "metadata": {
    "scrolled": false
   },
   "outputs": [
    {
     "data": {
      "text/plain": [
       "array([8.86568578e-03, 1.88582196e-02, 3.58363240e-02, 5.82894026e-02,\n",
       "       8.56590615e-02, 1.36229166e-01, 1.54263016e-01, 2.35751124e-01,\n",
       "       3.88554216e-01, 6.17662118e-01, 9.37076446e-01, 1.35198865e+00,\n",
       "       1.85403823e+00, 2.42597377e+00, 3.05558110e+00, 3.75245592e+00,\n",
       "       4.57390381e+00, 6.24125568e+00, 9.34789235e+00, 7.07106781e-03,\n",
       "       1.32418650e-02, 2.24739275e-02, 3.52461587e-02, 4.06133761e-02,\n",
       "       5.19389595e-02, 7.32495641e-02, 9.79196122e-02, 1.26955737e-01,\n",
       "       1.67702980e-01, 2.21642633e-01, 2.91912411e-01, 3.84583286e-01,\n",
       "       5.05914969e-01, 6.65915014e-01, 8.78883609e-01, 1.14939581e+00,\n",
       "       1.54731493e+00])"
      ]
     },
     "execution_count": 20,
     "metadata": {},
     "output_type": "execute_result"
    }
   ],
   "source": [
    "sigma_lum"
   ]
  },
  {
   "cell_type": "code",
   "execution_count": 54,
   "id": "1f5bfbfd",
   "metadata": {
    "scrolled": false
   },
   "outputs": [
    {
     "data": {
      "text/plain": [
       "array([0.31926076, 0.31773485, 0.34818999, 0.38038894, 0.4111936 ,\n",
       "       0.43968617, 0.46576286, 0.48915385, 0.51054572, 0.53082608,\n",
       "       0.54906589, 0.56615284, 0.58166952, 0.59603445, 0.60934713,\n",
       "       0.6219258 , 0.63355916, 0.64450398, 0.65464239, 0.66462876,\n",
       "       0.67485753, 0.68634516, 0.70010206, 0.7171205 , 0.73715371,\n",
       "       0.7585928 , 0.77923085, 0.7976388 , 0.81397568, 0.8285384 ,\n",
       "       0.84195184, 0.85439999, 0.86526139, 0.87420802, 0.88102449,\n",
       "       0.88588227, 0.88915605, 0.89126583, 0.89257998, 0.89337255,\n",
       "       0.89384108, 0.89411173, 0.89426555, 0.89435151, 0.89439878,\n",
       "       0.89442436, 0.894438  , 0.89444516, 0.89444886, 0.89445075,\n",
       "       0.8944517 , 0.89445217, 0.89445239, 0.8944525 , 0.89445255,\n",
       "       0.89445258, 0.89445259, 0.89445259, 0.8944526 , 0.8944526 ,\n",
       "       0.8944526 , 0.8944526 , 0.8944526 , 0.8944526 , 0.8944526 ,\n",
       "       0.8944526 , 0.8944526 , 0.8944526 , 0.8944526 , 0.8944526 ,\n",
       "       0.8944526 , 0.8944526 , 0.8944526 , 0.8944526 , 0.8944526 ,\n",
       "       0.8944526 , 0.8944526 , 0.8944526 , 0.8944526 , 0.8944526 ,\n",
       "       0.8944526 , 0.8944526 , 0.8944526 , 0.8944526 , 0.8944526 ,\n",
       "       0.8944526 , 0.8944526 , 0.8944526 , 0.8944526 , 0.8944526 ,\n",
       "       0.8944526 , 0.8944526 , 0.8944526 , 0.8944526 , 0.8944526 ,\n",
       "       0.8944526 , 0.8944526 , 0.8944526 , 0.8944526 , 0.8944526 ])"
      ]
     },
     "execution_count": 54,
     "metadata": {},
     "output_type": "execute_result"
    }
   ],
   "source": [
    "beta_jampy"
   ]
  },
  {
   "cell_type": "code",
   "execution_count": 34,
   "id": "d9ee523b",
   "metadata": {},
   "outputs": [
    {
     "data": {
      "text/plain": [
       "array([         nan,          nan,          nan,          nan,\n",
       "                nan,          nan,          nan,          nan,\n",
       "                nan, 237.24982816, 237.24982816, 237.24982816,\n",
       "       237.24982816, 237.24982816, 237.24982816, 237.24982816,\n",
       "       237.24982816, 237.24982816, 237.24982816, 237.24982816,\n",
       "       237.24982816, 237.24982816, 237.24982816, 237.24982816,\n",
       "       237.24982816, 237.24982816, 237.24982816, 237.24982816,\n",
       "       237.24982816, 237.24982816, 237.24982816, 237.24982816,\n",
       "       237.24982816, 237.24982816, 237.24982816, 237.24982816,\n",
       "       237.24982816, 237.24982816, 237.24982816, 237.24982816,\n",
       "       237.24982816, 237.24982816, 237.24982816, 237.24982816,\n",
       "       237.24982816, 237.24982816, 237.24982816, 237.24982816,\n",
       "       237.24982816, 237.24982816, 237.24982816, 237.24982816,\n",
       "       237.24982816, 237.24982816, 237.24982816, 237.24982816,\n",
       "       237.24982816, 237.24982816, 237.24982816, 237.24982816,\n",
       "       237.24982816, 237.24982816, 237.24982816, 237.24982816,\n",
       "       237.24982816, 237.24982816, 237.24982816, 237.24982816,\n",
       "       237.24982816, 237.24982816, 237.24982816, 237.24982816,\n",
       "       237.24982816, 237.24982816, 237.24982816, 237.24982816,\n",
       "       237.24982816, 237.24982816, 237.24982816, 237.24982816,\n",
       "       237.24982816, 237.24982816, 237.24982816, 237.24982816,\n",
       "       237.24982816, 237.24982816, 237.24982816, 237.24982816,\n",
       "       237.24982816, 237.24982816, 237.24982816, 237.24982816,\n",
       "       237.24982816, 237.24982816, 237.24982816, 237.24982816,\n",
       "       237.24982816, 237.24982816, 237.24982816, 237.24982816])"
      ]
     },
     "execution_count": 34,
     "metadata": {},
     "output_type": "execute_result"
    }
   ],
   "source": [
    "beta_jampy"
   ]
  },
  {
   "cell_type": "code",
   "execution_count": 16,
   "id": "9cd4ea52",
   "metadata": {
    "scrolled": true
   },
   "outputs": [
    {
     "ename": "NameError",
     "evalue": "name 'beta_jampy_2' is not defined",
     "output_type": "error",
     "traceback": [
      "\u001b[0;31m---------------------------------------------------------------------------\u001b[0m",
      "\u001b[0;31mNameError\u001b[0m                                 Traceback (most recent call last)",
      "Input \u001b[0;32mIn [16]\u001b[0m, in \u001b[0;36m<cell line: 1>\u001b[0;34m()\u001b[0m\n\u001b[0;32m----> 1\u001b[0m \u001b[43mbeta_jampy_2\u001b[49m\n",
      "\u001b[0;31mNameError\u001b[0m: name 'beta_jampy_2' is not defined"
     ]
    }
   ],
   "source": [
    "beta_jampy_2"
   ]
  },
  {
   "cell_type": "code",
   "execution_count": 13,
   "id": "8e85001b",
   "metadata": {},
   "outputs": [
    {
     "data": {
      "text/plain": [
       "(0.0, 1.0)"
      ]
     },
     "execution_count": 13,
     "metadata": {},
     "output_type": "execute_result"
    },
    {
     "data": {
      "image/png": "[encoded data removed]",
      "text/plain": [
       "<Figure size 432x288 with 1 Axes>"
      ]
     },
     "metadata": {
      "needs_background": "light"
     },
     "output_type": "display_data"
    }
   ],
   "source": [
    "plt.plot(Rs, beta_parametric, label='parametric')\n",
    "plt.plot(Rs, beta_mge, label='MGE')\n",
    "plt.plot(Rs, beta_jampy, label='jampy')\n",
    "\n",
    "plt.legend()\n",
    "plt.xlabel(r'$R$ (arcsec)')\n",
    "plt.ylabel(r'$\\beta (R)$')\n",
    "plt.ylim(0, 1)"
   ]
  },
  {
   "cell_type": "code",
   "execution_count": 10,
   "id": "d50de5ab",
   "metadata": {
    "scrolled": true
   },
   "outputs": [
    {
     "data": {
      "text/plain": [
       "<matplotlib.colorbar.Colorbar at 0x1754e9e50>"
      ]
     },
     "execution_count": 10,
     "metadata": {},
     "output_type": "execute_result"
    },
    {
     "data": {
      "image/png": "[encoded data removed]",
      "text/plain": [
       "<Figure size 288x288 with 2 Axes>"
      ]
     },
     "metadata": {
      "needs_background": "light"
     },
     "output_type": "display_data"
    }
   ],
   "source": [
    "plt.matshow(a[0], origin='lower')\n",
    "plt.colorbar()"
   ]
  },
  {
   "cell_type": "code",
   "execution_count": 12,
   "id": "0dc1e2ac",
   "metadata": {},
   "outputs": [
    {
     "name": "stdout",
     "output_type": "stream",
     "text": [
      "Residuals > 10%: Change `inner_slope` or `outer_slope` or increase `ngauss`\n"
     ]
    }
   ],
   "source": [
    "b = dyn_model.compute_jam_velocity_dispersion(start_index=1, num_compute=1, supersampling_factor=15, \n",
    "                                              analytic_kinematics=False, #True,\n",
    "                                              voronoi_bins=None, #binning-1\n",
    "                                              is_spherical=True\n",
    "                                             )"
   ]
  },
  {
   "cell_type": "code",
   "execution_count": 13,
   "id": "4f44c5bf",
   "metadata": {},
   "outputs": [
    {
     "data": {
      "text/plain": [
       "<matplotlib.colorbar.Colorbar at 0x175628370>"
      ]
     },
     "execution_count": 13,
     "metadata": {},
     "output_type": "execute_result"
    },
    {
     "data": {
      "image/png": "[encoded data removed]",
      "text/plain": [
       "<Figure size 288x288 with 2 Axes>"
      ]
     },
     "metadata": {
      "needs_background": "light"
     },
     "output_type": "display_data"
    }
   ],
   "source": [
    "plt.matshow(b[0], origin='lower')\n",
    "plt.colorbar()"
   ]
  },
  {
   "cell_type": "code",
   "execution_count": 14,
   "id": "00c54a0b",
   "metadata": {
    "scrolled": true
   },
   "outputs": [
    {
     "data": {
      "text/plain": [
       "<matplotlib.colorbar.Colorbar at 0x175898cd0>"
      ]
     },
     "execution_count": 14,
     "metadata": {},
     "output_type": "execute_result"
    },
    {
     "data": {
      "image/png": "[encoded data removed]",
      "text/plain": [
       "<Figure size 288x288 with 2 Axes>"
      ]
     },
     "metadata": {
      "needs_background": "light"
     },
     "output_type": "display_data"
    }
   ],
   "source": [
    "cbar = plt.matshow(a[0] - b[0], origin='lower')\n",
    "plt.colorbar()"
   ]
  },
  {
   "cell_type": "code",
   "execution_count": 9,
   "id": "149aa463",
   "metadata": {},
   "outputs": [],
   "source": []
  },
  {
   "cell_type": "code",
   "execution_count": null,
   "id": "cc50b5a2",
   "metadata": {},
   "outputs": [],
   "source": []
  }
 ],
 "metadata": {
  "kernelspec": {
   "display_name": "Python 3 (ipykernel)",
   "language": "python",
   "name": "python3"
  },
  "language_info": {
   "codemirror_mode": {
    "name": "ipython",
    "version": 3
   },
   "file_extension": ".py",
   "mimetype": "text/x-python",
   "name": "python",
   "nbconvert_exporter": "python",
   "pygments_lexer": "ipython3",
   "version": "3.9.13"
  }
 },
 "nbformat": 4,
 "nbformat_minor": 5
}
