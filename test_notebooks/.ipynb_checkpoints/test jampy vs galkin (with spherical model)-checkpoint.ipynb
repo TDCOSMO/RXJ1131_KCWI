{
 "cells": [
  {
   "cell_type": "code",
   "execution_count": 1,
   "id": "1d1e4e18",
   "metadata": {},
   "outputs": [],
   "source": [
    "import astropy.io.fits as fits\n",
    "import matplotlib.pyplot as plt\n",
    "from mpl_toolkits.axes_grid1 import make_axes_locatable\n",
    "import numpy as np\n",
    "import warnings"
   ]
  },
  {
   "cell_type": "code",
   "execution_count": 2,
   "id": "400fe23f",
   "metadata": {},
   "outputs": [],
   "source": [
    "import sys\n",
    "sys.path.insert(0, '../')\n",
    "\n",
    "from dynamical_model import DynamicalModel"
   ]
  },
  {
   "cell_type": "code",
   "execution_count": 3,
   "id": "7dd6b4e5",
   "metadata": {},
   "outputs": [],
   "source": [
    "## default values to test with\n",
    "r_eff = 1.85\n",
    "theta_e = 1.63\n",
    "gamma = 1.95"
   ]
  },
  {
   "cell_type": "markdown",
   "id": "4ea627e9",
   "metadata": {},
   "source": [
    "## test single aperture calculation"
   ]
  },
  {
   "cell_type": "code",
   "execution_count": 4,
   "id": "fc76fe0f",
   "metadata": {},
   "outputs": [
    {
     "data": {
      "text/plain": [
       "<matplotlib.image.AxesImage at 0x142622eb0>"
      ]
     },
     "execution_count": 4,
     "metadata": {},
     "output_type": "execute_result"
    },
    {
     "data": {
      "image/png": "[encoded data removed]",
      "text/plain": [
       "<Figure size 480x480 with 1 Axes>"
      ]
     },
     "metadata": {},
     "output_type": "display_data"
    }
   ],
   "source": [
    "binning = np.zeros((43, 43))\n",
    "\n",
    "binning[22-3:22+4, 23-2:23+3] = np.ones((7, 5))\n",
    "\n",
    "plt.matshow(binning, origin='lower')"
   ]
  },
  {
   "cell_type": "markdown",
   "id": "32927b7b",
   "metadata": {},
   "source": [
    "### test single aperture vs Voronoi binning in `Galkin`"
   ]
  },
  {
   "cell_type": "code",
   "execution_count": 5,
   "id": "48d690bd",
   "metadata": {},
   "outputs": [
    {
     "ename": "TypeError",
     "evalue": "compute_galkin_v_rms_model() got an unexpected keyword argument 'is_spherical'",
     "output_type": "error",
     "traceback": [
      "\u001b[0;31m---------------------------------------------------------------------------\u001b[0m",
      "\u001b[0;31mTypeError\u001b[0m                                 Traceback (most recent call last)",
      "Cell \u001b[0;32mIn [5], line 32\u001b[0m\n\u001b[1;32m     26\u001b[0m kinematics_api \u001b[38;5;241m=\u001b[39m dyn_model\u001b[38;5;241m.\u001b[39mget_galkin_kinematics_api(\n\u001b[1;32m     27\u001b[0m     anisotropy_model\u001b[38;5;241m=\u001b[39manisotropy_model,\n\u001b[1;32m     28\u001b[0m     single_slit\u001b[38;5;241m=\u001b[39m\u001b[38;5;28;01mTrue\u001b[39;00m\n\u001b[1;32m     29\u001b[0m )\n\u001b[1;32m     31\u001b[0m np\u001b[38;5;241m.\u001b[39mrandom\u001b[38;5;241m.\u001b[39mseed(i)\n\u001b[0;32m---> 32\u001b[0m b \u001b[38;5;241m=\u001b[39m \u001b[43mdyn_model\u001b[49m\u001b[38;5;241;43m.\u001b[39;49m\u001b[43mcompute_galkin_v_rms_model\u001b[49m\u001b[43m(\u001b[49m\u001b[43mkinematics_api\u001b[49m\u001b[43m,\u001b[49m\n\u001b[1;32m     33\u001b[0m \u001b[43m                                   \u001b[49m\u001b[43mtheta_e\u001b[49m\u001b[43m,\u001b[49m\n\u001b[1;32m     34\u001b[0m \u001b[43m                                   \u001b[49m\u001b[43mgamma\u001b[49m\u001b[43m,\u001b[49m\u001b[43m \u001b[49m\n\u001b[1;32m     35\u001b[0m \u001b[43m                                   \u001b[49m\u001b[43mani_param\u001b[49m\u001b[38;5;241;43m=\u001b[39;49m\u001b[43mani_param\u001b[49m\u001b[43m,\u001b[49m\n\u001b[1;32m     36\u001b[0m \u001b[43m                                   \u001b[49m\u001b[43manisotropy_model\u001b[49m\u001b[38;5;241;43m=\u001b[39;49m\u001b[43manisotropy_model\u001b[49m\u001b[43m,\u001b[49m\n\u001b[1;32m     37\u001b[0m \u001b[43m                                   \u001b[49m\u001b[43msupersampling_factor\u001b[49m\u001b[38;5;241;43m=\u001b[39;49m\u001b[38;5;241;43m5\u001b[39;49m\u001b[43m,\u001b[49m\u001b[43m \u001b[49m\n\u001b[1;32m     38\u001b[0m \u001b[43m                                   \u001b[49m\u001b[43maperture\u001b[49m\u001b[38;5;241;43m=\u001b[39;49m\u001b[38;5;124;43m'\u001b[39;49m\u001b[38;5;124;43msingle_slit\u001b[39;49m\u001b[38;5;124;43m'\u001b[39;49m\u001b[43m,\u001b[49m\n\u001b[1;32m     39\u001b[0m \u001b[43m                                   \u001b[49m\u001b[43mis_spherical\u001b[49m\u001b[38;5;241;43m=\u001b[39;49m\u001b[38;5;28;43;01mTrue\u001b[39;49;00m\u001b[43m,\u001b[49m\n\u001b[1;32m     40\u001b[0m \u001b[43m                                   \u001b[49m\u001b[43mvoronoi_bins\u001b[49m\u001b[38;5;241;43m=\u001b[39;49m\u001b[43mbinning\u001b[49m\u001b[38;5;241;43m-\u001b[39;49m\u001b[38;5;241;43m1\u001b[39;49m\u001b[43m \u001b[49m\u001b[38;5;66;43;03m#binning-1\u001b[39;49;00m\n\u001b[1;32m     41\u001b[0m \u001b[43m                                  \u001b[49m\u001b[43m)\u001b[49m\n\u001b[1;32m     43\u001b[0m \u001b[38;5;28mprint\u001b[39m(a[\u001b[38;5;241m0\u001b[39m][\u001b[38;5;241m0\u001b[39m], b[\u001b[38;5;241m0\u001b[39m])\n\u001b[1;32m     45\u001b[0m \u001b[38;5;28;01mif\u001b[39;00m np\u001b[38;5;241m.\u001b[39mabs(a[\u001b[38;5;241m0\u001b[39m][\u001b[38;5;241m0\u001b[39m] \u001b[38;5;241m-\u001b[39m b[\u001b[38;5;241m0\u001b[39m])\u001b[38;5;241m/\u001b[39ma[\u001b[38;5;241m0\u001b[39m][\u001b[38;5;241m0\u001b[39m] \u001b[38;5;241m>\u001b[39m \u001b[38;5;241m0.3\u001b[39m\u001b[38;5;241m/\u001b[39m\u001b[38;5;241m100\u001b[39m:\n",
      "\u001b[0;31mTypeError\u001b[0m: compute_galkin_v_rms_model() got an unexpected keyword argument 'is_spherical'"
     ]
    }
   ],
   "source": [
    "anisotropy_model = 'constant'\n",
    "ani_param = 0.\n",
    "\n",
    "dyn_model = DynamicalModel(mass_profile='powerlaw')\n",
    "\n",
    "for i in range(1):\n",
    "    # binned\n",
    "    kinematics_api = dyn_model.get_galkin_kinematics_api(\n",
    "        anisotropy_model=anisotropy_model,\n",
    "        single_slit=False\n",
    "    )\n",
    "    \n",
    "    np.random.seed(i)\n",
    "    \n",
    "    a = dyn_model.compute_galkin_v_rms_model(kinematics_api,\n",
    "                                       theta_e,\n",
    "                                       gamma, \n",
    "                                       ani_param=ani_param,\n",
    "                                       anisotropy_model=anisotropy_model,\n",
    "                                       supersampling_factor=2, \n",
    "                                       aperture='ifu',\n",
    "                                       voronoi_bins=binning-1 #binning-1\n",
    "                                      )\n",
    "    \n",
    "    # single-slit\n",
    "    kinematics_api = dyn_model.get_galkin_kinematics_api(\n",
    "        anisotropy_model=anisotropy_model,\n",
    "        single_slit=True\n",
    "    )\n",
    "    \n",
    "    np.random.seed(i)\n",
    "    b = dyn_model.compute_galkin_v_rms_model(kinematics_api,\n",
    "                                       theta_e,\n",
    "                                       gamma, \n",
    "                                       ani_param=ani_param,\n",
    "                                       anisotropy_model=anisotropy_model,\n",
    "                                       supersampling_factor=5, \n",
    "                                       aperture='single_slit',\n",
    "                                       voronoi_bins=binning-1 #binning-1\n",
    "                                      )\n",
    "    \n",
    "    print(a[0][0], b[0])\n",
    "    \n",
    "    if np.abs(a[0][0] - b[0])/a[0][0] > 0.3/100:\n",
    "        warnings.warn('Voronoi binning in galkin only fails! 🙁')\n",
    "    else:\n",
    "        print('Models match within 0.3%. 🙂')"
   ]
  },
  {
   "cell_type": "markdown",
   "id": "dda1bfd5",
   "metadata": {},
   "source": [
    "### test single-aperture-like Voronoi bins in galkin vs jampy"
   ]
  },
  {
   "cell_type": "code",
   "execution_count": null,
   "id": "a0a9ff17",
   "metadata": {},
   "outputs": [],
   "source": [
    "anisotropy_model = 'constant'\n",
    "ani_param = 0.\n",
    "\n",
    "dyn_model = DynamicalModel(mass_profile='powerlaw')\n",
    "\n",
    "for i in range(1):\n",
    "    kinematics_api = dyn_model.get_galkin_kinematics_api(\n",
    "        anisotropy_model=anisotropy_model,\n",
    "        single_slit=False\n",
    "    )\n",
    "    np.random.seed(i)\n",
    "    a = dyn_model.compute_galkin_v_rms_model(kinematics_api,\n",
    "                                           theta_e,\n",
    "                                           gamma, \n",
    "                                           ani_param=ani_param,\n",
    "                                           anisotropy_model=anisotropy_model,\n",
    "                                           supersampling_factor=5, \n",
    "                                           aperture='ifu',\n",
    "                                           voronoi_bins=binning-1 #binning-1\n",
    "                                           )\n",
    "    \n",
    "    \n",
    "    np.random.seed(i)\n",
    "    b = dyn_model.compute_jampy_v_rms_model(theta_e,\n",
    "                                            gamma,\n",
    "                                            ani_param=np.sqrt(1-ani_param),\n",
    "                                            anisotropy_model=anisotropy_model,\n",
    "                                            supersampling_factor=5,\n",
    "                                            is_spherical=True,\n",
    "                                            voronoi_bins=binning-1\n",
    "                                           )\n",
    "    \n",
    "    print(a[0][0], b[0][0])\n",
    "    \n",
    "    if np.abs(a[0][0] - b[0][0])/a[0][0] > 0.8/100:\n",
    "        warnings.warn('Voronoi binning between galkin and jampy doesn\\'t agree! 🙁')\n",
    "    else:\n",
    "        print('Models match within 0.8%. 🙂')"
   ]
  },
  {
   "cell_type": "markdown",
   "id": "e45939ac",
   "metadata": {},
   "source": [
    "## IFU test"
   ]
  },
  {
   "cell_type": "markdown",
   "id": "b722828d",
   "metadata": {},
   "source": [
    "### constant"
   ]
  },
  {
   "cell_type": "code",
   "execution_count": null,
   "id": "0082eeca",
   "metadata": {
    "scrolled": false
   },
   "outputs": [],
   "source": [
    "dyn_model.PSF_FWHM = 0.7\n",
    "anisotropy_model = 'constant'\n",
    "ani_param = 0. # isotropic\n",
    "\n",
    "dyn_model = DynamicalModel(mass_profile='powerlaw')\n",
    "    \n",
    "for i in range(10):\n",
    "    kinematics_api = dyn_model.get_galkin_kinematics_api(\n",
    "        anisotropy_model=anisotropy_model,\n",
    "        single_slit=False\n",
    "    )\n",
    "    np.random.seed(i)\n",
    "    a, _ = dyn_model.compute_galkin_v_rms_model(kinematics_api,\n",
    "                                           theta_e,\n",
    "                                           gamma, \n",
    "                                           ani_param=ani_param,\n",
    "                                           anisotropy_model=anisotropy_model,\n",
    "                                           supersampling_factor=5, \n",
    "                                           aperture='ifu',\n",
    "                                           voronoi_bins=None #binning-1\n",
    "                                           )\n",
    "    print(a.shape)\n",
    "    \n",
    "    np.random.seed(i)\n",
    "    b, _ = dyn_model.compute_jampy_v_rms_model(theta_e,\n",
    "                                            gamma,\n",
    "                                            ani_param=np.sqrt(1-ani_param),\n",
    "                                            anisotropy_model=anisotropy_model,\n",
    "                                            supersampling_factor=5,\n",
    "                                            is_spherical=True,\n",
    "                                            voronoi_bins=None\n",
    "                                           )\n",
    "    print(b.shape)\n",
    "    \n",
    "    fig, axes = plt.subplots(nrows=1, ncols=3, figsize=(10, 6))\n",
    "    \n",
    "    def plot_mat(arr, i, cmap='viridis', vmax=440, vmin=170):\n",
    "        divider = make_axes_locatable(axes[i])\n",
    "        im = axes[i].matshow(arr, origin='lower', cmap=cmap, vmax=vmax, vmin=vmin)\n",
    "        cax = divider.append_axes('right', size='5%', pad=0.05)\n",
    "        fig.colorbar(im, cax=cax, orientation='vertical', label=r'$\\sigma_{\\rm los}$ (km/s)')\n",
    "        \n",
    "    #cbar = axes[0].matshow(a[0], origin='lower')\n",
    "    #cbar = axes[1].matshow(b[0], origin='lower')\n",
    "    #plt.colorbar(cbar)\n",
    "\n",
    "    #cbar = axes[2].matshow(a[0] - b[0], origin='lower', cmap='RdBu')\n",
    "    #plt.colorbar(cbar)\n",
    "    plot_mat(a.reshape((43, 43)), 0, cmap='viridis')\n",
    "    plot_mat(b.reshape((43, 43)), 1, cmap='viridis')\n",
    "    plot_mat(a.reshape((43, 43)) - b.reshape((43, 43)), 2, cmap='RdBu_r', \n",
    "             vmax=np.max(b)*0.1, vmin=-np.max(b)*0.1)\n",
    "    \n",
    "    axes[0].set_title('Galkin')\n",
    "    axes[1].set_title('jampy')\n",
    "    axes[2].set_title('Galkin - jampy')\n",
    "    \n",
    "    fig.tight_layout()\n",
    "    break"
   ]
  },
  {
   "cell_type": "markdown",
   "id": "801d6782",
   "metadata": {},
   "source": [
    "### Osipkov-Merritt"
   ]
  },
  {
   "cell_type": "code",
   "execution_count": null,
   "id": "4caeaebc",
   "metadata": {},
   "outputs": [],
   "source": [
    "anisotropy_model = 'Osipkov-Merritt'\n",
    "ani_param = 2\n",
    "\n",
    "dyn_model.PSF_FWHM = 0.7\n",
    "\n",
    "for i in range(10):\n",
    "    kinematics_api = dyn_model.get_galkin_kinematics_api(\n",
    "        anisotropy_model=anisotropy_model,\n",
    "        single_slit=False\n",
    "    )\n",
    "    np.random.seed(i)\n",
    "    dyn_model = DynamicalModel(mass_profile='powerlaw')\n",
    "    a, _ = dyn_model.compute_galkin_v_rms_model(kinematics_api,\n",
    "                                           theta_e,\n",
    "                                           gamma, \n",
    "                                           ani_param=ani_param,\n",
    "                                           anisotropy_model=anisotropy_model,\n",
    "                                           supersampling_factor=5, \n",
    "                                           aperture='ifu',\n",
    "                                           voronoi_bins=None, #binning-1\n",
    "                                           )\n",
    "    print(a.shape)\n",
    "    \n",
    "    np.random.seed(i)\n",
    "    b, _ = dyn_model.compute_jampy_v_rms_model(theta_e,\n",
    "                                            gamma,\n",
    "                                            ani_param=ani_param,\n",
    "                                            anisotropy_model=anisotropy_model,\n",
    "                                            supersampling_factor=5,\n",
    "                                            is_spherical=True,\n",
    "                                            voronoi_bins=None\n",
    "                                           )\n",
    "    print(b.shape)\n",
    "    \n",
    "    fig, axes = plt.subplots(nrows=1, ncols=3, figsize=(10, 6))\n",
    "    \n",
    "    def plot_mat(arr, i, cmap='viridis', vmax=440, vmin=170):\n",
    "        divider = make_axes_locatable(axes[i])\n",
    "        im = axes[i].matshow(arr, origin='lower', cmap=cmap, vmax=vmax, vmin=vmin)\n",
    "        cax = divider.append_axes('right', size='5%', pad=0.05)\n",
    "        fig.colorbar(im, cax=cax, orientation='vertical', label=r'$\\sigma_{\\rm los}$ (km/s)')\n",
    "        \n",
    "    #cbar = axes[0].matshow(a[0], origin='lower')\n",
    "    #cbar = axes[1].matshow(b[0], origin='lower')\n",
    "    #plt.colorbar(cbar)\n",
    "\n",
    "    #cbar = axes[2].matshow(a[0] - b[0], origin='lower', cmap='RdBu')\n",
    "    #plt.colorbar(cbar)\n",
    "    plot_mat(a.reshape((43, 43)), 0, cmap='viridis')\n",
    "    plot_mat(b.reshape((43, 43)), 1, cmap='viridis')\n",
    "    plot_mat(a.reshape((43, 43)) - b.reshape((43, 43)), 2, cmap='RdBu_r', \n",
    "         vmax=np.max(b)*0.1, vmin=-np.max(b)*0.1)\n",
    "    \n",
    "    axes[0].set_title('Galkin')\n",
    "    axes[1].set_title('jampy')\n",
    "    axes[2].set_title('Galkin - jampy')\n",
    "    \n",
    "    fig.tight_layout()\n",
    "    break"
   ]
  },
  {
   "cell_type": "markdown",
   "id": "ccc660fe",
   "metadata": {},
   "source": [
    "## elliptical case"
   ]
  },
  {
   "cell_type": "markdown",
   "id": "20eb085a",
   "metadata": {},
   "source": [
    "### check difference between n_gauss settings"
   ]
  },
  {
   "cell_type": "code",
   "execution_count": null,
   "id": "44a9f50c",
   "metadata": {},
   "outputs": [],
   "source": [
    "anisotropy_model = 'constant'\n",
    "ani_param = 0.\n",
    "\n",
    "n_gauss_1 = 50\n",
    "n_gauss_2 = 20\n",
    "\n",
    "dyn_model = DynamicalModel(mass_profile='powerlaw', n_gauss=n_gauss_1)\n",
    "np.random.seed(2)\n",
    "a, _ = dyn_model.compute_jampy_v_rms_model(theta_e,\n",
    "                                        gamma,\n",
    "                                        q=0.6, pa=121,\n",
    "                                        ani_param=np.sqrt(1-ani_param),\n",
    "                                        anisotropy_model=anisotropy_model,\n",
    "                                        supersampling_factor=5,\n",
    "                                        voronoi_bins=None\n",
    "                                       )\n",
    "print(a.shape)\n",
    "\n",
    "dyn_model_2 = DynamicalModel(mass_profile='powerlaw', n_gauss=n_gauss_2)\n",
    "np.random.seed(2)\n",
    "b, _ = dyn_model_2.compute_jampy_v_rms_model(theta_e,\n",
    "                                        gamma,\n",
    "                                        q=0.6, pa=121,\n",
    "                                        ani_param=np.sqrt(1-ani_param),\n",
    "                                        anisotropy_model=anisotropy_model,\n",
    "                                        supersampling_factor=5,\n",
    "                                        voronoi_bins=None\n",
    "                                       )\n",
    "\n",
    "print(b.shape)\n",
    "\n",
    "fig, axes = plt.subplots(nrows=1, ncols=3, figsize=(10, 6))\n",
    "#axes = [axes]\n",
    "\n",
    "def plot_mat(arr, i, cmap='viridis', vmax=440, vmin=170):\n",
    "    divider = make_axes_locatable(axes[i])\n",
    "    im = axes[i].matshow(arr, origin='lower', cmap=cmap, vmax=vmax, vmin=vmin)\n",
    "    cax = divider.append_axes('right', size='5%', pad=0.05)\n",
    "    fig.colorbar(im, cax=cax, orientation='vertical', label=r'$\\sigma_{\\rm los}$ (km/s)')\n",
    "\n",
    "#cbar = axes[0].matshow(a[0], origin='lower')\n",
    "#cbar = axes[1].matshow(b[0], origin='lower')\n",
    "#plt.colorbar(cbar)\n",
    "\n",
    "#cbar = axes[2].matshow(a[0] - b[0], origin='lower', cmap='RdBu')\n",
    "#plt.colorbar(cbar)\n",
    "plot_mat(a.reshape((43, 43)), 0, cmap='viridis', vmax=350, vmin=160)\n",
    "plot_mat(b.reshape((43, 43)), 1, cmap='viridis', vmax=350, vmin=160)\n",
    "plot_mat(a.reshape((43, 43)) - b.reshape((43, 43)), 2, cmap='RdBu_r', \n",
    "         vmax=np.max(b)*0.1, vmin=-np.max(b)*0.1)\n",
    "\n",
    "axes[0].set_title('n_gauss: {}'.format(n_gauss_1))\n",
    "axes[1].set_title('n_gauus: {}'.format(n_gauss_2))\n",
    "axes[2].set_title('difference')\n",
    "\n",
    "fig.tight_layout()"
   ]
  },
  {
   "cell_type": "code",
   "execution_count": null,
   "id": "cc50b5a2",
   "metadata": {},
   "outputs": [],
   "source": []
  }
 ],
 "metadata": {
  "kernelspec": {
   "display_name": "Python 3 (ipykernel)",
   "language": "python",
   "name": "python3"
  },
  "language_info": {
   "codemirror_mode": {
    "name": "ipython",
    "version": 3
   },
   "file_extension": ".py",
   "mimetype": "text/x-python",
   "name": "python",
   "nbconvert_exporter": "python",
   "pygments_lexer": "ipython3",
   "version": "3.9.13"
  }
 },
 "nbformat": 4,
 "nbformat_minor": 5
}
